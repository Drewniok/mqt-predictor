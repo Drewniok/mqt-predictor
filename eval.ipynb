{
 "cells": [
  {
   "cell_type": "code",
   "execution_count": null,
   "id": "initial_id",
   "metadata": {},
   "outputs": [],
   "source": [
    "import pathlib\n",
    "\n",
    "import numpy as np\n",
    "from matplotlib import pyplot as plt\n",
    "\n",
    "plt.rcParams[\"font.family\"] = \"Times New Roman\"\n",
    "plt.rcParams[\"font.size\"] = 14"
   ]
  },
  {
   "cell_type": "code",
   "execution_count": null,
   "id": "1d8394a4402af9df",
   "metadata": {},
   "outputs": [],
   "source": [
    "def read_mqt_predictor_file(num_qubits: int, device: str) -> list[float]:\n",
    "    best_res = [1.0]\n",
    "    for file in pathlib.Path(\"results/\").glob(f\"mqt_predictor_{num_qubits}_qubits*\"):\n",
    "        found_device = False\n",
    "        with pathlib.Path(file).open() as f:\n",
    "            lines = f.readlines()\n",
    "            for line in lines:\n",
    "                if line.startswith(\"Device:\") and line.split(\":\")[1].strip() == device:\n",
    "                    found_device = True\n",
    "                if line.startswith(\"evaluation_data:\") and found_device:\n",
    "                    eval_data = eval(line.split(\":\")[1])\n",
    "                    if min(eval_data) < min(best_res):\n",
    "                        best_res = eval_data\n",
    "    return best_res\n",
    "\n",
    "\n",
    "def read_baseline_date(path: str) -> tuple[np.ndarray, np.ndarray, np.ndarray]:\n",
    "    data_baseline = np.loadtxt(path)\n",
    "    sorted_data = sorted(data_baseline, key=lambda x: min(x))\n",
    "    best_run = sorted_data[0]\n",
    "    worst_run = sorted_data[-1]\n",
    "    median_run = sorted_data[len(sorted_data) // 2]\n",
    "    return best_run, worst_run, median_run\n",
    "\n",
    "\n",
    "def generate_eval_plot(\n",
    "    best_run_O3: np.ndarray,\n",
    "    worst_run_O3: np.ndarray,\n",
    "    median_run_O3: np.ndarray,\n",
    "    median_run_O0,\n",
    "    mqt_predictor: list[float],\n",
    "    device: str,\n",
    "    num_qubits: int,\n",
    "):\n",
    "    plt.plot(median_run_O0, label=\"O0 median\", color=\"black\")\n",
    "    plt.plot(worst_run_O3, label=\"O3 worst\", color=\"red\")\n",
    "    plt.plot(median_run_O3, label=\"O3 median\", color=\"orange\")\n",
    "    plt.plot(best_run_O3, label=\"O3 best\", color=\"green\")\n",
    "    plt.plot(mqt_predictor, label=\"MQT Predictor\")\n",
    "    plt.title(f\"Evaluation for {num_qubits} qubits on {device}\")\n",
    "    plt.yscale(\"log\")\n",
    "    # plt.ylim(0.12,0.2)\n",
    "    plt.ylabel(\"KL Divergence\")\n",
    "    plt.xlabel(\"Episodes\")\n",
    "    plt.legend()\n",
    "    plt.savefig(f\"results/{num_qubits}_qubits_{device}.pdf\", bbox_inches=\"tight\")"
   ]
  },
  {
   "cell_type": "markdown",
   "id": "4e156dfecceccf58",
   "metadata": {},
   "source": [
    "# 4 Qubits"
   ]
  },
  {
   "cell_type": "code",
   "execution_count": null,
   "id": "ab88b16a4130182f",
   "metadata": {},
   "outputs": [],
   "source": [
    "best_run_O3, worst_run_O3, median_run_O3 = read_baseline_date(\"results/O3/all_eval_data_fake_quito_4_qubits.txt\")\n",
    "_, _, median_run_O0 = read_baseline_date(\"results/O0/all_eval_data_fake_quito_4_qubits.txt\")\n",
    "mqt_predictor_4_qubits = read_mqt_predictor_file(num_qubits=4, device=\"ibm_quito\")\n",
    "\n",
    "generate_eval_plot(best_run_O3, worst_run_O3, median_run_O3, median_run_O0, mqt_predictor_4_qubits, \"FakeQuito\", 4)\n",
    "print(\"Diff: \", 1 - min(mqt_predictor_4_qubits) / min(best_run_O3))"
   ]
  },
  {
   "cell_type": "markdown",
   "id": "a51f278a2510c39a",
   "metadata": {},
   "source": [
    "# 6 Qubits"
   ]
  },
  {
   "cell_type": "code",
   "execution_count": null,
   "id": "4016b0456b8d7ce",
   "metadata": {},
   "outputs": [],
   "source": [
    "best_run_O3, worst_run_O3, median_run_O3 = read_baseline_date(\"results/O3/all_eval_data_fake_nairobi_6_qubits.txt\")\n",
    "_, _, median_run_O0 = read_baseline_date(\"results/O0/all_eval_data_fake_nairobi_6_qubits.txt\")\n",
    "mqt_predictor_6_qubits = read_mqt_predictor_file(num_qubits=6, device=\"ibm_nairobi\")\n",
    "\n",
    "generate_eval_plot(best_run_O3, worst_run_O3, median_run_O3, median_run_O0, mqt_predictor_6_qubits, \"FakeNairobi\", 6)\n",
    "print(\"Diff: \", 1 - min(mqt_predictor_6_qubits) / min(best_run_O3))"
   ]
  },
  {
   "cell_type": "markdown",
   "id": "77691e135fca6f14",
   "metadata": {},
   "source": [
    "# 8 Qubits Guadalupe"
   ]
  },
  {
   "cell_type": "code",
   "execution_count": null,
   "id": "1eb96a3583502e3e",
   "metadata": {},
   "outputs": [],
   "source": [
    "best_run_O3, worst_run_O3, median_run_O3 = read_baseline_date(\"results/O3/all_eval_data_fake_guadalupe_8_qubits.txt\")\n",
    "_, _, median_run_O0 = read_baseline_date(\"results/O0/all_eval_data_fake_guadalupe_8_qubits.txt\")\n",
    "mqt_predictor_8_qubits = read_mqt_predictor_file(num_qubits=8, device=\"ibm_guadalupe\")\n",
    "\n",
    "generate_eval_plot(best_run_O3, worst_run_O3, median_run_O3, median_run_O0, mqt_predictor_8_qubits, \"FakeGuadalupe\", 8)\n",
    "print(\"Diff: \", 1 - min(mqt_predictor_8_qubits) / min(best_run_O3))"
   ]
  },
  {
   "cell_type": "markdown",
   "id": "513f5cc59b52f98c",
   "metadata": {},
   "source": [
    "# 8 Qubits Toronto"
   ]
  },
  {
   "cell_type": "code",
   "execution_count": null,
   "id": "8db724f540c1498b",
   "metadata": {},
   "outputs": [],
   "source": [
    "best_run_O3, worst_run_O3, median_run_O3 = read_baseline_date(\"results/O3/all_eval_data_fake_toronto_8_qubits.txt\")\n",
    "_, _, median_run_O0 = read_baseline_date(\"results/O0/all_eval_data_fake_toronto_8_qubits.txt\")\n",
    "mqt_predictor_8_qubits = read_mqt_predictor_file(num_qubits=8, device=\"ibm_toronto\")\n",
    "\n",
    "print(1 - min(best_run_O3))\n",
    "generate_eval_plot(best_run_O3, worst_run_O3, median_run_O3, median_run_O0, mqt_predictor_8_qubits, \"FakeToronto\", 8)\n",
    "print(\"Diff: \", 1 - min(mqt_predictor_8_qubits) / min(best_run_O3))"
   ]
  },
  {
   "cell_type": "markdown",
   "id": "80cf33c43b144d82",
   "metadata": {},
   "source": [
    "# 8 Qubits Montreal"
   ]
  },
  {
   "cell_type": "code",
   "execution_count": null,
   "id": "bdedd9ed55ced35b",
   "metadata": {},
   "outputs": [],
   "source": [
    "best_run_O3, worst_run_O3, median_run_O3 = read_baseline_date(\"results/O3/all_eval_data_fake_montreal_8_qubits.txt\")\n",
    "_, _, median_run_O0 = read_baseline_date(\"results/O0/all_eval_data_fake_montreal_8_qubits.txt\")\n",
    "mqt_predictor_8_qubits = read_mqt_predictor_file(num_qubits=8, device=\"ibm_montreal\")\n",
    "\n",
    "print(1 - min(best_run_O3))\n",
    "generate_eval_plot(best_run_O3, worst_run_O3, median_run_O3, median_run_O0, mqt_predictor_8_qubits, \"FakeMontreal\", 8)\n",
    "print(\"Diff: \", 1 - min(mqt_predictor_8_qubits) / min(best_run_O3))"
   ]
  },
  {
   "cell_type": "code",
   "execution_count": null,
   "id": "4d60f3e910dc1cd8",
   "metadata": {},
   "outputs": [],
   "source": []
  }
 ],
 "metadata": {
  "kernelspec": {
   "display_name": "Python 3",
   "language": "python",
   "name": "python3"
  },
  "language_info": {
   "codemirror_mode": {
    "name": "ipython",
    "version": 2
   },
   "file_extension": ".py",
   "mimetype": "text/x-python",
   "name": "python",
   "nbconvert_exporter": "python",
   "pygments_lexer": "ipython2"
  }
 },
 "nbformat": 4,
 "nbformat_minor": 5
}
