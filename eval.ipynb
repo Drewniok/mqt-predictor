{
 "cells": [
  {
   "cell_type": "code",
   "execution_count": null,
   "id": "3b429bc297a7ac94",
   "metadata": {},
   "outputs": [],
   "source": [
    "from evaluation_helper import generate_eval_plot, read_baseline_date, read_mqt_predictor_file"
   ]
  },
  {
   "cell_type": "markdown",
   "id": "4e156dfecceccf58",
   "metadata": {},
   "source": [
    "# 4 Qubits"
   ]
  },
  {
   "cell_type": "code",
   "execution_count": null,
   "id": "ab88b16a4130182f",
   "metadata": {},
   "outputs": [],
   "source": [
    "best_run_O3, worst_run_O3, median_run_O3, best_overall_values_O3, worst_overall_values_O3 = read_baseline_date(\n",
    "    \"results/O3/all_eval_data_fake_quito_4_qubits.txt\"\n",
    ")\n",
    "best_run_O1, worst_run_O1, median_run_O1, best_overall_values_O1, worst_overall_values_O1 = read_baseline_date(\n",
    "    \"results/O1/all_eval_data_fake_quito_4_qubits.txt\"\n",
    ")\n",
    "mqt_predictor_4_qubits = read_mqt_predictor_file(num_qubits=4, device=\"ibm_quito\")\n",
    "\n",
    "print(min(mqt_predictor_4_qubits), min(best_run_O3), min(best_run_O1))\n",
    "generate_eval_plot(\n",
    "    best_overall_values_O3,\n",
    "    best_overall_values_O1,\n",
    "    worst_overall_values_O3,\n",
    "    worst_overall_values_O1,\n",
    "    mqt_predictor_4_qubits,\n",
    "    \"FakeQuito\",\n",
    "    4,\n",
    ")\n",
    "print(\"Diff to worst: \", 1 - min(mqt_predictor_4_qubits) / min(*worst_run_O3, *worst_run_O1))\n",
    "print(\"Diff to median: \", 1 - min(mqt_predictor_4_qubits) / min(*median_run_O3, *median_run_O1))\n",
    "print(\"Diff to best: \", 1 - min(mqt_predictor_4_qubits) / min(*best_run_O3, *best_run_O1))"
   ]
  },
  {
   "cell_type": "markdown",
   "id": "a51f278a2510c39a",
   "metadata": {},
   "source": [
    "# 6 Qubits"
   ]
  },
  {
   "cell_type": "code",
   "execution_count": null,
   "id": "4016b0456b8d7ce",
   "metadata": {},
   "outputs": [],
   "source": [
    "best_run_O3, worst_run_O3, median_run_O3, best_overall_values_O3, worst_overall_values_O3 = read_baseline_date(\n",
    "    \"results/O3/all_eval_data_fake_nairobi_6_qubits.txt\"\n",
    ")\n",
    "best_run_O1, worst_run_O1, median_run_O1, best_overall_values_O1, worst_overall_values_O1 = read_baseline_date(\n",
    "    \"results/O1/all_eval_data_fake_nairobi_6_qubits.txt\"\n",
    ")\n",
    "\n",
    "mqt_predictor_6_qubits = read_mqt_predictor_file(num_qubits=6, device=\"ibm_nairobi\")\n",
    "\n",
    "print(min(mqt_predictor_6_qubits), min(best_run_O3), min(best_run_O1))\n",
    "generate_eval_plot(\n",
    "    best_overall_values_O3,\n",
    "    best_overall_values_O1,\n",
    "    worst_overall_values_O3,\n",
    "    worst_overall_values_O1,\n",
    "    mqt_predictor_6_qubits,\n",
    "    \"FakeNairobi\",\n",
    "    6,\n",
    ")\n",
    "print(\"Diff to worst: \", 1 - min(mqt_predictor_6_qubits) / min(*worst_run_O3, *worst_run_O1))\n",
    "print(\"Diff to median: \", 1 - min(mqt_predictor_6_qubits) / min(*median_run_O3, *median_run_O1))\n",
    "print(\"Diff to best: \", 1 - min(mqt_predictor_6_qubits) / min(*best_run_O3, *best_run_O1))"
   ]
  },
  {
   "cell_type": "markdown",
   "id": "80cf33c43b144d82",
   "metadata": {},
   "source": [
    "# 8 Qubits Montreal"
   ]
  },
  {
   "cell_type": "code",
   "execution_count": null,
   "id": "bdedd9ed55ced35b",
   "metadata": {},
   "outputs": [],
   "source": [
    "best_run_O3, worst_run_O3, median_run_O3, best_overall_values_O3, worst_overall_values_O3 = read_baseline_date(\n",
    "    \"results/O3/all_eval_data_fake_montreal_8_qubits.txt\"\n",
    ")\n",
    "best_run_O1, worst_run_O1, median_run_O1, best_overall_values_O1, worst_overall_values_O1 = read_baseline_date(\n",
    "    \"results/O1/all_eval_data_fake_montreal_8_qubits.txt\"\n",
    ")\n",
    "mqt_predictor_8_qubits_montreal = read_mqt_predictor_file(num_qubits=8, device=\"ibm_montreal\")\n",
    "\n",
    "print(min(mqt_predictor_8_qubits_montreal), min(best_run_O3), min(best_run_O1))\n",
    "generate_eval_plot(\n",
    "    best_overall_values_O3,\n",
    "    best_overall_values_O1,\n",
    "    worst_overall_values_O3,\n",
    "    worst_overall_values_O1,\n",
    "    mqt_predictor_8_qubits_montreal,\n",
    "    \"FakeMontreal\",\n",
    "    8,\n",
    ")\n",
    "print(\"Diff to worst: \", 1 - min(mqt_predictor_8_qubits_montreal) / min(*worst_run_O3, *worst_run_O1))\n",
    "print(\"Diff to median: \", 1 - min(mqt_predictor_8_qubits_montreal) / min(*median_run_O3, *median_run_O1))\n",
    "print(\"Diff to best: \", 1 - min(mqt_predictor_8_qubits_montreal) / min(*best_run_O3, *best_run_O1))"
   ]
  }
 ],
 "metadata": {
  "kernelspec": {
   "display_name": "Python 3",
   "language": "python",
   "name": "python3"
  },
  "language_info": {
   "codemirror_mode": {
    "name": "ipython",
    "version": 2
   },
   "file_extension": ".py",
   "mimetype": "text/x-python",
   "name": "python",
   "nbconvert_exporter": "python",
   "pygments_lexer": "ipython2"
  }
 },
 "nbformat": 4,
 "nbformat_minor": 5
}
