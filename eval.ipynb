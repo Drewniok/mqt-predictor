{
 "cells": [
  {
   "cell_type": "code",
   "execution_count": null,
   "id": "initial_id",
   "metadata": {},
   "outputs": [],
   "source": [
    "import pathlib\n",
    "\n",
    "import numpy as np\n",
    "from matplotlib import pyplot as plt\n",
    "\n",
    "plt.rcParams[\"font.family\"] = \"Times New Roman\"\n",
    "plt.rcParams[\"font.size\"] = 14"
   ]
  },
  {
   "cell_type": "code",
   "execution_count": null,
   "id": "1d8394a4402af9df",
   "metadata": {},
   "outputs": [],
   "source": [
    "def read_mqt_predictor_file(num_qubits: int) -> list[float]:\n",
    "    best_res = [1.0]\n",
    "    for file in pathlib.Path(\"results/\").glob(f\"mqt_predictor_{num_qubits}_qubits*\"):\n",
    "        with pathlib.Path(file).open() as f:\n",
    "            lines = f.readlines()\n",
    "            for line in lines:\n",
    "                if line.startswith(\"evaluation_data:\"):\n",
    "                    eval_data = eval(line.split(\":\")[1])\n",
    "                    if min(eval_data) < min(best_res):\n",
    "                        best_res = eval_data\n",
    "    return best_res\n",
    "\n",
    "\n",
    "def read_baseline_date(path: str) -> tuple[np.ndarray, np.ndarray, np.ndarray]:\n",
    "    data_baseline = np.loadtxt(path)\n",
    "    sorted_data = sorted(data_baseline, key=lambda x: min(x))\n",
    "    best_run = sorted_data[0]\n",
    "    worst_run = sorted_data[-1]\n",
    "    median_run = sorted_data[len(sorted_data) // 2]\n",
    "    return best_run, worst_run, median_run"
   ]
  },
  {
   "cell_type": "markdown",
   "id": "4e156dfecceccf58",
   "metadata": {},
   "source": [
    "# 4 Qubits"
   ]
  },
  {
   "cell_type": "code",
   "execution_count": null,
   "id": "ab88b16a4130182f",
   "metadata": {},
   "outputs": [],
   "source": [
    "best_run_O3, worst_run_O3, median_run_O3 = read_baseline_date(\"results/O3/all_eval_data_fake_quito_4_qubits.txt\")\n",
    "_, _, median_run_O0 = read_baseline_date(\"results/O0/all_eval_data_fake_quito_4_qubits.txt\")\n",
    "mqt_predictor_4_qubits = read_mqt_predictor_file(num_qubits=4)\n",
    "\n",
    "\n",
    "plt.plot(median_run_O0, label=\"O0 median\", color=\"black\")\n",
    "plt.plot(worst_run_O3, label=\"O3 worst\", color=\"red\")\n",
    "plt.plot(median_run_O3, label=\"O3 median\", color=\"orange\")\n",
    "plt.plot(best_run_O3, label=\"O3 best\", color=\"green\")\n",
    "plt.plot(mqt_predictor_4_qubits, label=\"MQT Predictor\")\n",
    "plt.title(\"Evaluation for 4 qubits on FakeQuito\")\n",
    "plt.ylabel(\"KL Divergence\")\n",
    "plt.xlabel(\"Episodes\")\n",
    "plt.legend()\n",
    "plt.savefig(\"results/4_qubits.pdf\", bbox_inches=\"tight\")\n",
    "plt.show()"
   ]
  },
  {
   "cell_type": "markdown",
   "id": "a51f278a2510c39a",
   "metadata": {},
   "source": [
    "# 6 Qubits"
   ]
  },
  {
   "cell_type": "code",
   "execution_count": null,
   "id": "4016b0456b8d7ce",
   "metadata": {},
   "outputs": [],
   "source": [
    "best_run_O3, worst_run_O3, median_run_O3 = read_baseline_date(\"results/O3/all_eval_data_fake_nairobi_6_qubits.txt\")\n",
    "_, _, median_run_O0 = read_baseline_date(\"results/O0/all_eval_data_fake_nairobi_6_qubits.txt\")\n",
    "mqt_predictor_6_qubits = read_mqt_predictor_file(num_qubits=6)\n",
    "\n",
    "plt.plot(median_run_O0, label=\"O0 median\", color=\"black\")\n",
    "plt.plot(worst_run_O3, label=\"O3 worst\", color=\"red\")\n",
    "plt.plot(median_run_O3, label=\"O3 median\", color=\"orange\")\n",
    "plt.plot(best_run_O3, label=\"O3 best\", color=\"green\")\n",
    "plt.plot(mqt_predictor_6_qubits, label=\"MQT Predictor\")\n",
    "plt.title(\"Evaluation for 6 qubits on FakeNairobi\")\n",
    "plt.ylabel(\"KL Divergence\")\n",
    "plt.xlabel(\"Episodes\")\n",
    "plt.legend()\n",
    "plt.savefig(\"results/6_qubits.pdf\", bbox_inches=\"tight\")\n",
    "plt.show()"
   ]
  },
  {
   "cell_type": "markdown",
   "id": "77691e135fca6f14",
   "metadata": {},
   "source": [
    "# 8 Qubits"
   ]
  },
  {
   "cell_type": "code",
   "execution_count": null,
   "id": "1eb96a3583502e3e",
   "metadata": {},
   "outputs": [],
   "source": [
    "best_run_O3, worst_run_O3, median_run_O3 = read_baseline_date(\"results/O3/all_eval_data_fake_guadalupe_8_qubits.txt\")\n",
    "_, _, median_run_O0 = read_baseline_date(\"results/O0/all_eval_data_fake_guadalupe_8_qubits.txt\")\n",
    "mqt_predictor_8_qubits = read_mqt_predictor_file(num_qubits=8)\n",
    "\n",
    "plt.plot(median_run_O0, label=\"O0 median\", color=\"black\")\n",
    "plt.plot(worst_run_O3, label=\"O3 worst\", color=\"red\")\n",
    "plt.plot(median_run_O3, label=\"O3 median\", color=\"orange\")\n",
    "plt.plot(best_run_O3, label=\"O3 best\", color=\"green\")\n",
    "plt.plot(mqt_predictor_8_qubits, label=\"MQT Predictor\")\n",
    "plt.title(\"Evaluation for 8 qubits on FakeGuadalupe\")\n",
    "plt.ylabel(\"KL Divergence\")\n",
    "plt.xlabel(\"Episodes\")\n",
    "plt.legend()\n",
    "plt.savefig(\"results/8_qubits.pdf\", bbox_inches=\"tight\")\n",
    "plt.show()"
   ]
  }
 ],
 "metadata": {
  "kernelspec": {
   "display_name": "Python 3",
   "language": "python",
   "name": "python3"
  },
  "language_info": {
   "codemirror_mode": {
    "name": "ipython",
    "version": 2
   },
   "file_extension": ".py",
   "mimetype": "text/x-python",
   "name": "python",
   "nbconvert_exporter": "python",
   "pygments_lexer": "ipython2"
  }
 },
 "nbformat": 4,
 "nbformat_minor": 5
}
