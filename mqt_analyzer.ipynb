{
 "cells": [
  {
   "cell_type": "markdown",
   "id": "e4464aaf",
   "metadata": {},
   "source": [
    "# Cirq"
   ]
  },
  {
   "cell_type": "code",
   "execution_count": null,
   "id": "c7ded9db",
   "metadata": {},
   "outputs": [],
   "source": [
    "import cirq\n",
    "from cirq.contrib.svg import SVGCircuit\n",
    "\n",
    "def get_cirq_compilation(qasm_qc, target):\n",
    "    if \"ibm\" in target:\n",
    "        pass\n",
    "    elif \"rigetti\" in target:\n",
    "        pass\n",
    "    elif \"ionq\" in target:\n",
    "        pass"
   ]
  },
  {
   "cell_type": "code",
   "execution_count": null,
   "id": "099f6993",
   "metadata": {},
   "outputs": [],
   "source": [
    "from cirq.contrib.qasm_import import circuit_from_qasm\n",
    "test = open('../MQTbench/mqt/bench/qasm_output/su2random_indep_4.qasm', 'r').read()\n",
    "ion_circuit = cirq.ion.ConvertToIonGates().convert_circuit(circuit)\n",
    "print(ion_circuit)"
   ]
  },
  {
   "cell_type": "code",
   "execution_count": null,
   "id": "18873a2e",
   "metadata": {},
   "outputs": [],
   "source": [
    "import cirq_rigetti\n",
    "c = cirq_rigetti.circuit_transformers.default(circuit=circuit)\n",
    "print(c)\n",
    "\n",
    "SVGCircuit(c[0])"
   ]
  },
  {
   "cell_type": "code",
   "execution_count": null,
   "id": "011fcc62",
   "metadata": {},
   "outputs": [],
   "source": [
    "import cirq\n",
    "import cirq_ionq as ionq\n",
    "q0 = cirq.LineQubit(0)\n",
    "device = ionq.IonQAPIDevice([q0])\n",
    "circuit = cirq.Circuit(device=device)\n",
    "circuit.append(cirq.H(q0)**0.2) # Non-IonQ-API gate\n",
    "print(circuit) # will print the circuit converted into IonQ's target gateset"
   ]
  },
  {
   "cell_type": "markdown",
   "id": "7ba4bcd1",
   "metadata": {},
   "source": [
    "# Pennylane"
   ]
  },
  {
   "cell_type": "code",
   "execution_count": null,
   "id": "975af259",
   "metadata": {},
   "outputs": [],
   "source": [
    "import pennylane as qml\n",
    "from pennylane import numpy as np"
   ]
  },
  {
   "cell_type": "code",
   "execution_count": null,
   "id": "6271e83e",
   "metadata": {},
   "outputs": [],
   "source": [
    "ibm_native_gates = FakeMontreal().configuration().basis_gates\n",
    "rigetti_native_gates = [\"rx\", \"rz\", \"cz\"]\n",
    "ibm_native_gates\n",
    "\n",
    "dev = qml.device('default.qubit', wires=[0, 1, 2])\n",
    "qnode = qml.QNode(qfunc, dev)\n",
    "print(qml.draw(qnode)(0.2, 0.3, 0.4))\n",
    "\n",
    "compiled_qfunc = qml.compile(basis_set=rigetti_native_gates)(qfunc)\n",
    "compiled_qnode = qml.QNode(compiled_qfunc, dev)\n",
    "print(qml.draw(compiled_qnode)(0.2, 0.3, 0.4))"
   ]
  },
  {
   "cell_type": "code",
   "execution_count": null,
   "id": "288fc804",
   "metadata": {},
   "outputs": [],
   "source": [
    "path_file = \"../MQTbench/qasm_output/dj_indep_4.qasm\"\n",
    "with open (path_file, \"r\") as myfile:\n",
    "    data = myfile.read()\n",
    "my_circuit = qml.from_qasm(data)\n",
    "\n",
    "n=4\n",
    "dev = qml.device('default.qubit', wires=n)\n",
    "@qml.qnode(dev)\n",
    "def circuit():\n",
    "    my_circuit(wires=tuple(range(n)))\n",
    "    return [qml.expval(qml.PauliZ(i)) for i in range(n)]\n",
    "\n",
    "#circuit()\n",
    "#print(dev._circuit.qasm(formatted=True))"
   ]
  },
  {
   "cell_type": "code",
   "execution_count": null,
   "id": "be022fce",
   "metadata": {},
   "outputs": [],
   "source": [
    "pennylane_ibm=[\"RZ\", \"SX\", \"PauliX\", \"CNOT\"]\n",
    "pennylane_rigetti=[\"RX\", \"RZ\", \"CZ\"]"
   ]
  },
  {
   "cell_type": "code",
   "execution_count": null,
   "id": "94017cf2",
   "metadata": {},
   "outputs": [],
   "source": [
    "compiled_qfunc1 = qml.compile()(circuit)\n",
    "compiled_qnode1 = qml.QNode(compiled_qfunc1, dev)\n",
    "print(qml.draw(compiled_qnode1)())\n",
    "\n",
    "compiled_qfunc2 = qml.compile(\n",
    "    basis_set=[\"CNOT\", \"RX\", \"RY\", \"RZ\"],\n",
    "    num_passes=2\n",
    ")(circuit)\n",
    "\n",
    "compiled_qnode2 = qml.QNode(compiled_qfunc2, dev)\n",
    "print(qml.draw(compiled_qnode2)())"
   ]
  },
  {
   "cell_type": "code",
   "execution_count": null,
   "id": "a08ff5ba",
   "metadata": {},
   "outputs": [],
   "source": [
    "def qfunc(x, y, z):\n",
    "    qml.Hadamard(wires=0)\n",
    "    qml.Hadamard(wires=1)\n",
    "    qml.Hadamard(wires=2)\n",
    "    qml.RZ(z, wires=2)\n",
    "    qml.CNOT(wires=[2, 1])\n",
    "    qml.RX(z, wires=0)\n",
    "    qml.CNOT(wires=[1, 0])\n",
    "    qml.RX(x, wires=0)\n",
    "    qml.CNOT(wires=[1, 0])\n",
    "    qml.RZ(-z, wires=2)\n",
    "    qml.RX(y, wires=2)\n",
    "    qml.PauliY(wires=2)\n",
    "    qml.CY(wires=[1, 2])\n",
    "    return qml.expval(qml.PauliZ(wires=0))\n",
    "\n",
    "dev = qml.device('default.qubit', wires=[0, 1, 2])\n",
    "qnode = qml.QNode(qfunc, dev)\n",
    "print(qml.draw(qnode)(0.2, 0.3, 0.4))\n",
    "\n",
    "compiled_qfunc = qml.compile(\n",
    "    pipeline=[\n",
    "        qml.transforms.commute_controlled(direction=\"left\"),\n",
    "        qml.transforms.merge_rotations(atol=1e-6),\n",
    "        qml.transforms.cancel_inverses\n",
    "    ],\n",
    "    basis_set=[\"CNOT\", \"RX\", \"RY\", \"CZ\"],\n",
    "    num_passes=2\n",
    ")(qfunc)\n",
    "\n",
    "compiled_qnode = qml.QNode(compiled_qfunc, dev)\n",
    "print(qml.draw(compiled_qnode)(0.2, 0.3, 0.4))"
   ]
  },
  {
   "cell_type": "code",
   "execution_count": null,
   "id": "7d3b37ba",
   "metadata": {
    "scrolled": true
   },
   "outputs": [],
   "source": [
    "def qfunc():\n",
    "    qml.Hadamard(wires=0)    \n",
    "    qml.Hadamard(wires=1)\n",
    "    qml.Hadamard(wires=2)\n",
    "    qml.RZ(-0.4, wires=2)\n",
    "    qml.CNOT(wires=[2, 1])\n",
    "    qml.RX(-0.4, wires=0)\n",
    "    qml.CNOT(wires=[1, 0])\n",
    "    qml.RX(-0.4, wires=0)\n",
    "    qml.CNOT(wires=[1, 0])\n",
    "    qml.RZ(-0.4, wires=2)\n",
    "    qml.RX(1, wires=2)\n",
    "    qml.PauliY(wires=2)\n",
    "    qml.CY(wires=[1, 2])\n",
    "    return [qml.expval(qml.PauliZ(i)) for i in range(2)]\n",
    "\n",
    "dev = qml.device('default.qubit', wires=[0, 1, 2])\n",
    "qnode = qml.QNode(qfunc, dev)\n",
    "print(qml.draw(qnode)())\n",
    "\n",
    "compiled_qfunc = qml.compile(\n",
    "    basis_set=[\"CNOT\", \"Rdawd\", \"wdfawdaw\", \"dawd\"],\n",
    "    num_passes=20\n",
    ")(qfunc)\n",
    "\n",
    "compiled_qnode = qml.QNode(compiled_qfunc, dev)\n",
    "print(qml.draw(compiled_qnode)())"
   ]
  },
  {
   "cell_type": "markdown",
   "id": "02189cd9",
   "metadata": {},
   "source": [
    "# Machine Learning Model"
   ]
  },
  {
   "cell_type": "code",
   "execution_count": null,
   "id": "bdd5ecf7",
   "metadata": {},
   "outputs": [],
   "source": [
    "import tensorflow as tf\n",
    "from tensorflow import keras\n",
    "from tensorflow.keras import layers"
   ]
  },
  {
   "cell_type": "code",
   "execution_count": null,
   "id": "754c48f6",
   "metadata": {},
   "outputs": [],
   "source": [
    "mnist = tf.keras.datasets.mnist\n",
    "\n",
    "(x_train, y_train), (x_test, y_test) = mnist.load_data()\n",
    "x_train, x_test = x_train / 255.0, x_test / 255.0"
   ]
  },
  {
   "cell_type": "code",
   "execution_count": null,
   "id": "9cacb562",
   "metadata": {},
   "outputs": [],
   "source": [
    "model.evaluate(x_test,  y_test, verbose=2)"
   ]
  },
  {
   "cell_type": "code",
   "execution_count": null,
   "id": "06c50646",
   "metadata": {},
   "outputs": [],
   "source": [
    "probability_model = tf.keras.Sequential([\n",
    "  model,\n",
    "  tf.keras.layers.Softmax()\n",
    "])"
   ]
  },
  {
   "cell_type": "code",
   "execution_count": null,
   "id": "1aa57ee5",
   "metadata": {},
   "outputs": [],
   "source": [
    "probability_model(x_test[:5])"
   ]
  },
  {
   "cell_type": "markdown",
   "id": "d7a71c62",
   "metadata": {},
   "source": [
    "# Feature Vector Generation"
   ]
  },
  {
   "cell_type": "code",
   "execution_count": 1,
   "id": "2ad5560d",
   "metadata": {},
   "outputs": [],
   "source": [
    "from mqt.bench import benchmark_generator\n",
    "import matplotlib.pyplot as plt\n",
    "from evaluator.qiskit_plugin import *\n",
    "from evaluator.pytket_plugin import *\n",
    "import numpy as np"
   ]
  },
  {
   "cell_type": "code",
   "execution_count": 2,
   "id": "42f68a0d",
   "metadata": {},
   "outputs": [],
   "source": [
    "from evaluator.utils import get_openqasm_gates\n",
    "def dict_to_featurevector(gate_dict):\n",
    "    openqasm_gates_list = get_openqasm_gates()\n",
    "    res_dct = {openqasm_gates_list[i] for i in range(0, len(openqasm_gates_list))}\n",
    "    res_dct = dict.fromkeys(res_dct, 0)\n",
    "    for key, val in dict(gate_dict).items():\n",
    "        if not key in res_dct:\n",
    "            print(key, \"gate not found in openQASM 2.0 gateset\")\n",
    "        else:\n",
    "            res_dct[key] = val\n",
    "    return res_dct"
   ]
  },
  {
   "cell_type": "code",
   "execution_count": null,
   "id": "2d083877",
   "metadata": {},
   "outputs": [
    {
     "name": "stdout",
     "output_type": "stream",
     "text": [
      "dj 3\n"
     ]
    },
    {
     "name": "stderr",
     "output_type": "stream",
     "text": [
      "/Users/nils/miniforge3/envs/tf3/lib/python3.9/site-packages/numpy/linalg/linalg.py:2158: RuntimeWarning: divide by zero encountered in det\n",
      "  r = _umath_linalg.det(a, signature=signature)\n",
      "/Users/nils/miniforge3/envs/tf3/lib/python3.9/site-packages/numpy/linalg/linalg.py:2158: RuntimeWarning: invalid value encountered in det\n",
      "  r = _umath_linalg.det(a, signature=signature)\n"
     ]
    },
    {
     "name": "stdout",
     "output_type": "stream",
     "text": [
      "Scores TKET:  [35.78332480818415, 11534.627831715208, 2.575, 40.02833864682961, 32.1285140562249]\n",
      "Scores qiskit:  [33.058312020460356, 49.95069053708439, 0.2, 103.79029401346085, 110.11317999269806]\n",
      "dj 8\n",
      "Scores TKET:  [164.20245524296672, 109280.35329018338, 8.825, 204.39249025859016, 94.92515516611903]\n",
      "Scores qiskit:  [196.35130434782607, 176.28030690537082, 0.2, 1610.3436060928088, 393.7203358890106]\n",
      "dj 13\n",
      "Scores TKET:  [282.2683375959079, 189797.74811218985, 100000, 404.8884165781084, 100000]\n",
      "Scores qiskit:  [576.0665984654731, 299.431304347826, 100000, 3936.238044633369, 100000]\n",
      "dj 18\n",
      "Scores TKET:  [390.52552429667514, 304777.3597626753, 100000, 641.5161176053844, 100000]\n",
      "Scores qiskit:  [817.4642455242965, 482.795294117647, 100000, 7778.958554729012, 100000]\n",
      "dj 23\n",
      "Scores TKET:  [538.5620460358056, 712866.3700107874, 100000, 1094.9344668792064, 100000]\n",
      "Scores qiskit:  [910.0091048593348, 670.3371867007672, 100000, 8888.770811193765, 100000]\n",
      "dj 28\n",
      "Scores TKET:  [666.4366240409207, 100000, 100000, 1295.4303931987247, 100000]\n",
      "Scores qiskit:  [1144.050230179028, 100000, 100000, 11708.820403825717, 100000]\n",
      "dj 33\n",
      "Scores TKET:  [794.3112020460358, 100000, 100000, 1712.7169677647894, 100000]\n",
      "Scores qiskit:  [1330.59283887468, 100000, 100000, 13023.379383634434, 100000]\n",
      "dj 38\n",
      "Scores TKET:  [936.3531457800511, 100000, 100000, 1985.476443499823, 100000]\n",
      "Scores qiskit:  [1484.3499744245523, 100000, 100000, 14601.487778958555, 100000]\n",
      "dj 43\n",
      "Scores TKET:  [1320.882966751918, 100000, 100000, 2547.2901168969183, 100000]\n",
      "Scores qiskit:  [1720.116828644501, 100000, 100000, 15952.886999645769, 100000]\n",
      "dj 48\n",
      "Scores TKET:  [1915.2050127877235, 100000, 100000, 3362.0262132483176, 100000]\n",
      "Scores qiskit:  [1942.8963682864448, 100000, 100000, 18794.5448104853, 100000]\n",
      "ghz 3\n",
      "Scores TKET:  [14.531150895140664, 11498.516720604097, 2.35, 27.275947573503366, 17.232566630156995]\n",
      "Scores qiskit:  [13.713759590792836, 13.713759590792836, 0.1, 30.464045341834925, 54.910551296093466]\n",
      "ghz 8\n",
      "Scores TKET:  [42.68511508951406, 40230.91963322546, 8.1, 87.49557208643287, 53.74224169404893]\n",
      "Scores qiskit:  [41.86772378516624, 177.00675191815856, 0.225, 90.68366985476443, 130.8506754289887]\n",
      "ghz 13\n",
      "Scores TKET:  [70.83907928388746, 68963.32254584682, 100000, 147.71519659936237, 100000]\n",
      "Scores qiskit:  [238.94547314578003, 329.0381585677749, 100000, 1392.8444916755225, 100000]\n",
      "ghz 18\n",
      "Scores TKET:  [98.99304347826086, 114935.167206041, 100000, 207.9348211122919, 100000]\n",
      "Scores qiskit:  [604.9470076726341, 503.59273657289, 100000, 2691.1087495572087, 100000]\n",
      "ghz 23\n",
      "Scores TKET:  [127.14700767263425, 212625.3371089536, 100000, 268.1544456252214, 100000]\n",
      "Scores qiskit:  [666.8857289002556, 734.4552429667518, 100000, 2503.719447396387, 100000]\n",
      "ghz 28\n",
      "Scores TKET:  [155.30097186700766, 100000, 100000, 328.37407013815096, 100000]\n",
      "Scores qiskit:  [661.2549360613809, 100000, 100000, 4066.950053134963, 100000]\n",
      "ghz 33\n",
      "Scores TKET:  [183.45493606138106, 100000, 100000, 388.5936946510804, 100000]\n",
      "Scores qiskit:  [689.4089002557544, 100000, 100000, 4969.535954658165, 100000]\n",
      "ghz 38\n",
      "Scores TKET:  [211.60890025575446, 100000, 100000, 448.81331916400995, 100000]\n",
      "Scores qiskit:  [1139.8723273657288, 100000, 100000, 5204.39249025859, 100000]\n",
      "ghz 43\n",
      "Scores TKET:  [290.43999999999994, 100000, 100000, 509.0329436769394, 100000]\n",
      "Scores qiskit:  [1201.8110485933503, 100000, 100000, 10726.532058094226, 100000]\n",
      "ghz 48\n",
      "Scores TKET:  [318.59396419437337, 100000, 100000, 605.3843428976265, 100000]\n",
      "Scores qiskit:  [1213.0726342710996, 100000, 100000, 12277.364505844846, 100000]\n",
      "wstate 3\n",
      "Scores TKET:  [56.03621483375959, 23042.86677454153, 4.975, 49.238398866454126, 54.61847389558233]\n",
      "Scores qiskit:  [41.41411764705882, 41.41411764705882, 0.275, 185.26390364860077, 81.4895947426068]\n",
      "wstate 8\n",
      "Scores TKET:  [194.083273657289, 80646.56148867313, 17.225, 169.67764789231313, 188.97407813070464]\n",
      "Scores qiskit:  [110.43764705882352, 215.6060358056266, 0.65, 580.2337938363444, 201.24132895217235]\n",
      "wstate 13\n",
      "Scores TKET:  [332.1303324808184, 138250.25620280474, 100000, 290.1168969181722, 100000]\n",
      "Scores qiskit:  [327.13278772378516, 445.3794373401534, 100000, 3001.06269925611, 100000]\n",
      "wstate 18\n",
      "Scores TKET:  [470.1773913043478, 213093.39266450916, 100000, 410.5561459440312, 100000]\n",
      "Scores qiskit:  [708.9375959079283, 624.475703324808, 100000, 4394.615657102373, 100000]\n",
      "wstate 23\n",
      "Scores TKET:  [608.2244501278772, 287936.5291262136, 100000, 530.9953949698902, 100000]\n",
      "Scores qiskit:  [921.8186189258311, 889.5776982097185, 100000, 6116.188452001417, 100000]\n",
      "wstate 28\n",
      "Scores TKET:  [746.2715089514065, 100000, 100000, 651.4346439957492, 100000]\n",
      "Scores qiskit:  [887.5802557544756, 100000, 100000, 5902.231668437833, 100000]\n",
      "wstate 33\n",
      "Scores TKET:  [884.318567774936, 100000, 100000, 771.8738930216082, 100000]\n",
      "Scores qiskit:  [1026.62547314578, 100000, 100000, 10349.628055260362, 100000]\n",
      "wstate 38\n",
      "Scores TKET:  [1022.3656265984655, 100000, 100000, 892.3131420474672, 100000]\n",
      "Scores qiskit:  [1495.0715089514065, 100000, 100000, 8565.001771165425, 100000]\n",
      "wstate 43\n",
      "Scores TKET:  [1177.3050639386188, 100000, 100000, 1012.7523910733263, 100000]\n",
      "Scores qiskit:  [1572.1780051150895, 100000, 100000, 16849.805171803047, 100000]\n",
      "wstate 48\n",
      "Scores TKET:  [1332.2445012787725, 100000, 100000, 1169.3234148069432, 100000]\n",
      "Scores qiskit:  [1582.3504859335037, 100000, 100000, 18945.802337938363, 100000]\n",
      "graphstate 3\n",
      "Scores TKET:  [63.21084398976981, 34528.88349514563, 3.9, 62.69925611052072, 45.56407447973714]\n",
      "Scores qiskit:  [50.94997442455242, 65.39017902813299, 0.175, 539.8512221041445, 138.4446878422782]\n",
      "graphstate 8\n",
      "Scores TKET:  [191.08542199488488, 115062.94498381877, 10.4, 215.37371590506552, 121.50419861263235]\n",
      "Scores qiskit:  [126.60245524296673, 159.6607672634271, 0.225, 782.1466524973432, 229.5728368017525]\n",
      "graphstate 13\n",
      "Scores TKET:  [217.60572890025574, 92160.35598705501, 100000, 295.78462628409494, 100000]\n",
      "Scores qiskit:  [412.31999999999994, 271.55017902813296, 100000, 1821.8207580588028, 100000]\n",
      "graphstate 18\n",
      "Scores TKET:  [362.37268542199485, 551962.1359223301, 100000, 882.0403825717322, 100000]\n",
      "Scores qiskit:  [471.8065473145779, 255.38424552429663, 100000, 3296.138859369465, 100000]\n",
      "graphstate 23\n",
      "Scores TKET:  [574.7091560102301, 598017.3139158576, 100000, 1143.11016648955, 100000]\n",
      "Scores qiskit:  [329.31099744245523, 530.8394884910485, 100000, 6072.972015586256, 100000]\n",
      "graphstate 28\n",
      "Scores TKET:  [770.1532480818414, 100000, 100000, 1006.7304286220333, 100000]\n",
      "Scores qiskit:  [517.5793350383631, 100000, 100000, 5103.790294013461, 100000]\n",
      "graphstate 33\n",
      "Scores TKET:  [1387.9068030690537, 100000, 100000, 1484.5908607863976, 100000]\n",
      "Scores qiskit:  [865.508439897698, 100000, 100000, 7865.037194473964, 100000]\n",
      "graphstate 38\n",
      "Scores TKET:  [941.4405115089514, 100000, 100000, 1492.7382217499114, 100000]\n",
      "Scores qiskit:  [493.6032736572889, 100000, 100000, 5857.952532766561, 100000]\n",
      "graphstate 43\n",
      "Scores TKET:  [1677.4407161125318, 100000, 100000, 1862.2033297910025, 100000]\n",
      "Scores qiskit:  [648.8132992327365, 100000, 100000, 8360.963513992207, 100000]\n",
      "graphstate 48\n",
      "Scores TKET:  [2176.9476214833758, 100000, 100000, 425.07970244420824, 100000]\n",
      "Scores qiskit:  [733.548030690537, 100000, 100000, 7046.758767268863, 100000]\n",
      "ae 3\n",
      "fail:  Cannot parse gate of type: cp\n",
      "ae 8\n",
      "fail:  Cannot parse gate of type: cp\n",
      "ae 13\n",
      "fail:  Cannot parse gate of type: cp\n",
      "ae 18\n",
      "fail:  Cannot parse gate of type: cp\n",
      "ae 23\n",
      "fail:  Cannot parse gate of type: cp\n",
      "ae 28\n",
      "fail:  Cannot parse gate of type: cp\n",
      "ae 33\n",
      "fail:  Cannot parse gate of type: cp\n",
      "ae 38\n",
      "fail:  Cannot parse gate of type: cp\n",
      "ae 43\n",
      "fail:  Cannot parse gate of type: cp\n",
      "ae 48\n",
      "fail:  Cannot parse gate of type: cp\n",
      "qpeexact 3\n",
      "fail:  Cannot parse gate of type: cp\n",
      "qpeexact 8\n",
      "fail:  Cannot parse gate of type: cp\n",
      "qpeexact 13\n",
      "fail:  Cannot parse gate of type: cp\n",
      "qpeexact 18\n",
      "fail:  Cannot parse gate of type: cp\n",
      "qpeexact 23\n",
      "fail:  Cannot parse gate of type: cp\n",
      "qpeexact 28\n",
      "fail:  Cannot parse gate of type: cp\n",
      "qpeexact 33\n",
      "fail:  Cannot parse gate of type: cp\n",
      "qpeexact 38\n",
      "fail:  Cannot parse gate of type: cp\n",
      "qpeexact 43\n",
      "fail:  Cannot parse gate of type: cp\n",
      "qpeexact 48\n",
      "fail:  Cannot parse gate of type: cp\n",
      "twolocalrandom 3\n",
      "Scores TKET:  [160.20644501278773, 103536.65048543688, 10.65, 291.17959617428266, 107.77656078860899]\n",
      "Scores qiskit:  [168.37923273657287, 168.37923273657287, 0.35, 1063.7619553666314, 396.93318729463306]\n",
      "twolocalrandom 8\n"
     ]
    },
    {
     "name": "stdout",
     "output_type": "stream",
     "text": [
      "Scores TKET:  [1964.4236317135546, 1844886.933656958, 97.4, 3787.4601487778955, 725.5202628696605]\n",
      "Scores qiskit:  [853.7921227621482, 1399.9790281329922, 1.1, 3661.707403471484, 1845.052939028843]\n",
      "twolocalrandom 13\n",
      "Scores TKET:  [5373.416777493605, 5017110.881877022, 100000, 10896.918172157279, 100000]\n",
      "Scores qiskit:  [1778.7859846547312, 2590.619437340153, 100000, 6969.8901877435355, 100000]\n",
      "twolocalrandom 18\n",
      "Scores TKET:  [10184.477340153451, 10378743.932038834, 100000, 21547.29011689692, 100000]\n",
      "Scores qiskit:  [4266.052583120204, 6848.952838874679, 100000, 12392.490258590151, 100000]\n",
      "twolocalrandom 23\n",
      "Scores TKET:  [21651.13503836317, 17240208.414239485, 100000, 35449.52178533476, 100000]\n",
      "Scores qiskit:  [7006.160306905369, 11649.021278772378, 100000, 16936.94651080411, 100000]\n",
      "twolocalrandom 28\n"
     ]
    }
   ],
   "source": [
    "benchmarks = [\"dj\", \"ghz\", \"wstate\", \"graphstate\", \"ae\", \"qpeexact\", \"twolocalrandom\", \"qft\", \"qftentangled\", \"su2random\" ]\n",
    "res = []\n",
    "for benchmark in benchmarks:\n",
    "    for num_qubits in range(3,50,5):\n",
    "        print(benchmark, num_qubits)\n",
    "        qc = benchmark_generator.get_one_benchmark(benchmark, 1, num_qubits)\n",
    "        qasm_qc = qc.qasm()\n",
    "        ops_list = qc.count_ops()\n",
    "        try:\n",
    "            best_arch = np.argmin(get_tket_scores(qasm_qc)+get_qiskit_scores(qasm_qc))\n",
    "            res.append((ops_list, best_arch, num_qubits))\n",
    "        except Exception as e:\n",
    "            print(\"fail: \", e)"
   ]
  },
  {
   "cell_type": "code",
   "execution_count": null,
   "id": "589a79d3",
   "metadata": {},
   "outputs": [],
   "source": [
    "training_data = []\n",
    "for elem in res:\n",
    "    tmp=dict_to_featurevector(elem[0])\n",
    "    tmp[\"num_qubits\"]= elem[2]\n",
    "    training_data.append((list(tmp.values()), elem[1]))\n",
    "print(training_data)"
   ]
  },
  {
   "cell_type": "code",
   "execution_count": null,
   "id": "6f89baf7",
   "metadata": {},
   "outputs": [],
   "source": [
    "best_machine_index = []\n",
    "for elem in res:\n",
    "    best_machine_index.append(elem[1])\n",
    "plt.hist(best_machine_index)\n",
    "plt.xticks([0,1,2,3,4,5]);"
   ]
  },
  {
   "cell_type": "code",
   "execution_count": null,
   "id": "51fdfdc6",
   "metadata": {},
   "outputs": [],
   "source": [
    "x_train, y_train = zip(*training_data)\n",
    "with open('x_train.csv', 'w') as FOUT:\n",
    "    np.savetxt(FOUT, x_train)\n",
    "with open('y_train.csv', 'w') as FOUT:\n",
    "    np.savetxt(FOUT, y_train)"
   ]
  },
  {
   "cell_type": "code",
   "execution_count": null,
   "id": "b557bd1c",
   "metadata": {},
   "outputs": [],
   "source": [
    "print(y_train)"
   ]
  },
  {
   "cell_type": "code",
   "execution_count": null,
   "id": "9539d47d",
   "metadata": {},
   "outputs": [],
   "source": [
    "from numpy import genfromtxt\n",
    "X = genfromtxt('x_train.csv')\n",
    "y = genfromtxt('y_train.csv')\n",
    "print(X.shape, y.shape)"
   ]
  },
  {
   "cell_type": "code",
   "execution_count": null,
   "id": "7980656a",
   "metadata": {},
   "outputs": [],
   "source": [
    "from sklearn.model_selection import train_test_split\n",
    "X_train, X_test, y_train, y_test = train_test_split(X, y, test_size=0.30, random_state=40)"
   ]
  },
  {
   "cell_type": "code",
   "execution_count": null,
   "id": "d1230b5f",
   "metadata": {},
   "outputs": [],
   "source": [
    "import numpy as np\n",
    "import keras\n",
    "from keras.models import Sequential\n",
    "from keras.layers import Dense\n",
    "\n",
    "model = Sequential()\n",
    "model.add(Dense(500, activation='relu', input_dim=43))\n",
    "model.add(Dense(100, activation='relu'))\n",
    "model.add(Dense(50, activation='relu'))\n",
    "model.add(Dense(10, activation='softmax'))\n",
    "\n",
    "# Compile the model\n",
    "model.compile(optimizer='adam', \n",
    "              loss='sparse_categorical_crossentropy', \n",
    "              metrics=['accuracy'])\n",
    "model.fit(X_train, y_train, epochs=100)"
   ]
  },
  {
   "cell_type": "code",
   "execution_count": null,
   "id": "05047424",
   "metadata": {},
   "outputs": [],
   "source": [
    "pred_train= model.predict(X_train)\n",
    "scores = model.evaluate(X_train, y_train, verbose=0)\n",
    "print('Accuracy on training data: {}% \\n Error on training data: {}'.format(scores[1], 1 - scores[1]))   \n",
    " \n",
    "pred_test= model.predict(X_test)\n",
    "scores2 = model.evaluate(X_test, y_test, verbose=0)\n",
    "print('Accuracy on test data: {}% \\n Error on test data: {}'.format(scores2[1], 1 - scores2[1]))    "
   ]
  },
  {
   "cell_type": "markdown",
   "id": "0916bed7",
   "metadata": {},
   "source": [
    "# TKET IonQ Custom Rebase Pass"
   ]
  },
  {
   "cell_type": "code",
   "execution_count": null,
   "id": "efa4b6b5",
   "metadata": {},
   "outputs": [],
   "source": [
    "import pytket\n",
    "from pytket import OpType, circuit, _tket, Circuit\n",
    "from pytket.passes import RebaseCustom"
   ]
  },
  {
   "cell_type": "code",
   "execution_count": null,
   "id": "83f81849",
   "metadata": {},
   "outputs": [],
   "source": [
    "gates = {OpType.Rz, OpType.Ry, OpType.CY, OpType.ZZPhase}\n",
    "cx_in_cy = Circuit(2)\n",
    "cx_in_cy.Rz(0.5, 1).CY(0, 1).Rz(-0.5, 1)\n",
    "def tk1_to_rzry(a, b, c):\n",
    "    circ = Circuit(1)\n",
    "    circ.Rz(c + 0.5, 0).Ry(b, 0).Rz(a - 0.5, 0)\n",
    "    return circ\n",
    "\n",
    "custom = RebaseCustom(gates, cx_in_cy, tk1_to_rzry)\n",
    "\n",
    "circ = Circuit(3)\n",
    "circ.X(0).CX(0, 1).Ry(0.2, 1)\n",
    "circ.add_gate(OpType.ZZPhase, -0.83, [2, 1]).Rx(0.6, 2)\n",
    "\n",
    "custom.apply(circ)\n",
    "\n",
    "print(circ.get_commands())"
   ]
  },
  {
   "cell_type": "code",
   "execution_count": null,
   "id": "1c817873",
   "metadata": {},
   "outputs": [],
   "source": [
    "ionq_gateset = {OpType.Rz, OpType.Ry, OpType.XXPhase}\n",
    "cx_in_ionq = _tket.circuit._library._CX_using_XXPhase_0()\n",
    "def tk1_to_rzry(a, b, c):\n",
    "    circ = Circuit(1)\n",
    "    circ.Rz(c + 0.5, 0).Ry(b, 0).Rz(a - 0.5, 0)\n",
    "    return circ\n",
    "ionq_rebase = RebaseCustom(ionq_gateset, cx_in_ionq, tk1_to_rzry)"
   ]
  },
  {
   "cell_type": "code",
   "execution_count": null,
   "id": "059e2829",
   "metadata": {},
   "outputs": [],
   "source": [
    "circ = Circuit(3)\n",
    "circ.X(0).CX(0, 1).Ry(0.2, 1)\n",
    "circ.add_gate(OpType.ZZPhase, -0.83, [2, 1]).Rx(0.6, 2)\n",
    "\n",
    "ionq_rebase.apply(circ)\n",
    "print(circ.get_commands())"
   ]
  },
  {
   "cell_type": "code",
   "execution_count": null,
   "id": "3b0f65dc",
   "metadata": {},
   "outputs": [],
   "source": [
    "from pytket._tket.circuit._library._CX_using_XXPhase_0()"
   ]
  },
  {
   "cell_type": "code",
   "execution_count": null,
   "id": "ddaa41f1",
   "metadata": {},
   "outputs": [],
   "source": [
    "_library._CX_using_XXPhase_0()"
   ]
  },
  {
   "cell_type": "markdown",
   "id": "61fcb5ad",
   "metadata": {},
   "source": [
    "# Testing/Debugging"
   ]
  },
  {
   "cell_type": "code",
   "execution_count": null,
   "id": "15de70a6",
   "metadata": {},
   "outputs": [],
   "source": [
    "from evaluator import utils\n",
    "from pytket.circuit.display import render_circuit_jupyter\n",
    "from mqt.bench import benchmark_generator\n",
    "import matplotlib.pyplot as plt\n",
    "from evaluator.qiskit_plugin import *\n",
    "from evaluator.pytket_plugin import *\n",
    "import numpy as np"
   ]
  },
  {
   "cell_type": "code",
   "execution_count": null,
   "id": "d353e1f9",
   "metadata": {},
   "outputs": [],
   "source": [
    "qc_raw = benchmark_generator.get_one_benchmark(\"vqe\", 1, 5)\n",
    "qasm_qc = qc_raw.qasm()\n",
    "qc = qasm.circuit_from_qasm_str(qasm_qc)"
   ]
  },
  {
   "cell_type": "code",
   "execution_count": null,
   "id": "dfe1692e",
   "metadata": {},
   "outputs": [],
   "source": [
    "from pytket.extensions.pyquil import ForestStateBackend\n",
    "backend = ForestStateBackend()\n",
    "rigetti_arch = pytket.architecture.Architecture(get_cmap_rigetti_m1(10))\n",
    "render_circuit_jupyter(qc)\n",
    "backend.rebase_pass().apply(qc)\n",
    "PlacementPass(LinePlacement(rigetti_arch)).apply(qc)\n",
    "RoutingPass(rigetti_arch).apply(qc)\n",
    "backend.rebase_pass().apply(qc)\n",
    "render_circuit_jupyter(qc)"
   ]
  },
  {
   "cell_type": "code",
   "execution_count": null,
   "id": "fd3edab0",
   "metadata": {},
   "outputs": [],
   "source": [
    "render_circuit_jupyter(qc)\n",
    "ionq_rebase = ge()\n",
    "ionq_rebase.apply(qc)\n",
    "render_circuit_jupyter(qc)"
   ]
  },
  {
   "cell_type": "code",
   "execution_count": null,
   "id": "7e813b0c",
   "metadata": {},
   "outputs": [],
   "source": [
    "qc = benchmark_generator.get_one_benchmark(\"dj\", 1, 5)"
   ]
  },
  {
   "cell_type": "code",
   "execution_count": null,
   "id": "a56af258",
   "metadata": {},
   "outputs": [],
   "source": [
    "from qiskit import transpile\n",
    "oqc_gates = ['rz', 'ecr', 'sx', 'x']\n",
    "qc_oqc = transpile(qc, basis_gates=oqc_gates)\n",
    "oqc = get_oqc_lucy()\n",
    "#print(qc_oqc.qasm())\n",
    "score_oqc = calc_score(qc_oqc, oqc)\n",
    "score_oqc"
   ]
  },
  {
   "cell_type": "code",
   "execution_count": null,
   "id": "c86fcdb6",
   "metadata": {},
   "outputs": [],
   "source": [
    "from qiskit.test.mock import (\n",
    "    FakeBogota,\n",
    "    FakeCasablanca,\n",
    "    FakeGuadalupe,\n",
    "    FakeMontreal,\n",
    "    FakeManhattan,\n",
    ")"
   ]
  },
  {
   "cell_type": "code",
   "execution_count": null,
   "id": "ef33bb7f",
   "metadata": {},
   "outputs": [],
   "source": [
    "FakeMontreal().configuration().configuration().coupling_map"
   ]
  },
  {
   "cell_type": "code",
   "execution_count": null,
   "id": "ea31396a",
   "metadata": {},
   "outputs": [],
   "source": [
    "from pytket.passes import RebaseTket"
   ]
  },
  {
   "cell_type": "code",
   "execution_count": null,
   "id": "4d3fb249",
   "metadata": {},
   "outputs": [],
   "source": [
    "from pytket.extensions.qiskit import IBMQBackend\n",
    "backend = IBMQBackend(\"ibmq_santiago\")\n"
   ]
  },
  {
   "cell_type": "code",
   "execution_count": null,
   "id": "db7bb770",
   "metadata": {},
   "outputs": [],
   "source": [
    "backend.rebase_pass().tk1_replacement"
   ]
  },
  {
   "cell_type": "code",
   "execution_count": null,
   "id": "c29002ba",
   "metadata": {},
   "outputs": [],
   "source": [
    "from pytket.extensions.qiskit import tk_to_qiskit"
   ]
  },
  {
   "cell_type": "code",
   "execution_count": null,
   "id": "08c87c4a",
   "metadata": {},
   "outputs": [],
   "source": [
    "tk_to_qiskit(qc).draw()"
   ]
  },
  {
   "cell_type": "code",
   "execution_count": null,
   "id": "70157597",
   "metadata": {},
   "outputs": [],
   "source": []
  }
 ],
 "metadata": {
  "kernelspec": {
   "display_name": "Python 3 (ipykernel)",
   "language": "python",
   "name": "python3"
  },
  "language_info": {
   "codemirror_mode": {
    "name": "ipython",
    "version": 3
   },
   "file_extension": ".py",
   "mimetype": "text/x-python",
   "name": "python",
   "nbconvert_exporter": "python",
   "pygments_lexer": "ipython3",
   "version": "3.9.12"
  }
 },
 "nbformat": 4,
 "nbformat_minor": 5
}
