{
 "cells": [
  {
   "cell_type": "markdown",
   "id": "e4464aaf",
   "metadata": {},
   "source": [
    "# Cirq"
   ]
  },
  {
   "cell_type": "code",
   "execution_count": 1,
   "id": "c7ded9db",
   "metadata": {},
   "outputs": [
    {
     "ename": "ModuleNotFoundError",
     "evalue": "No module named 'cirq'",
     "output_type": "error",
     "traceback": [
      "\u001b[0;31m---------------------------------------------------------------------------\u001b[0m",
      "\u001b[0;31mModuleNotFoundError\u001b[0m                       Traceback (most recent call last)",
      "Input \u001b[0;32mIn [1]\u001b[0m, in \u001b[0;36m<cell line: 1>\u001b[0;34m()\u001b[0m\n\u001b[0;32m----> 1\u001b[0m \u001b[38;5;28;01mimport\u001b[39;00m \u001b[38;5;21;01mcirq\u001b[39;00m\n\u001b[1;32m      2\u001b[0m \u001b[38;5;28;01mfrom\u001b[39;00m \u001b[38;5;21;01mcirq\u001b[39;00m\u001b[38;5;21;01m.\u001b[39;00m\u001b[38;5;21;01mcontrib\u001b[39;00m\u001b[38;5;21;01m.\u001b[39;00m\u001b[38;5;21;01msvg\u001b[39;00m \u001b[38;5;28;01mimport\u001b[39;00m SVGCircuit\n\u001b[1;32m      4\u001b[0m \u001b[38;5;28;01mdef\u001b[39;00m \u001b[38;5;21mget_cirq_compilation\u001b[39m(qasm_qc, target):\n",
      "\u001b[0;31mModuleNotFoundError\u001b[0m: No module named 'cirq'"
     ]
    }
   ],
   "source": [
    "import cirq\n",
    "from cirq.contrib.svg import SVGCircuit\n",
    "\n",
    "def get_cirq_compilation(qasm_qc, target):\n",
    "    if \"ibm\" in target:\n",
    "        pass\n",
    "    elif \"rigetti\" in target:\n",
    "        pass\n",
    "    elif \"ionq\" in target:\n",
    "        pass"
   ]
  },
  {
   "cell_type": "code",
   "execution_count": null,
   "id": "099f6993",
   "metadata": {},
   "outputs": [],
   "source": [
    "from cirq.contrib.qasm_import import circuit_from_qasm\n",
    "test = open('../MQTbench/mqt/bench/qasm_output/su2random_indep_4.qasm', 'r').read()\n",
    "ion_circuit = cirq.ion.ConvertToIonGates().convert_circuit(circuit)\n",
    "print(ion_circuit)"
   ]
  },
  {
   "cell_type": "code",
   "execution_count": null,
   "id": "18873a2e",
   "metadata": {},
   "outputs": [],
   "source": [
    "import cirq_rigetti\n",
    "c = cirq_rigetti.circuit_transformers.default(circuit=circuit)\n",
    "print(c)\n",
    "\n",
    "SVGCircuit(c[0])"
   ]
  },
  {
   "cell_type": "code",
   "execution_count": null,
   "id": "011fcc62",
   "metadata": {},
   "outputs": [],
   "source": [
    "import cirq\n",
    "import cirq_ionq as ionq\n",
    "q0 = cirq.LineQubit(0)\n",
    "device = ionq.IonQAPIDevice([q0])\n",
    "circuit = cirq.Circuit(device=device)\n",
    "circuit.append(cirq.H(q0)**0.2) # Non-IonQ-API gate\n",
    "print(circuit) # will print the circuit converted into IonQ's target gateset"
   ]
  },
  {
   "cell_type": "markdown",
   "id": "7ba4bcd1",
   "metadata": {},
   "source": [
    "# Pennylane"
   ]
  },
  {
   "cell_type": "code",
   "execution_count": null,
   "id": "975af259",
   "metadata": {},
   "outputs": [],
   "source": [
    "import pennylane as qml\n",
    "from pennylane import numpy as np"
   ]
  },
  {
   "cell_type": "code",
   "execution_count": null,
   "id": "6271e83e",
   "metadata": {},
   "outputs": [],
   "source": [
    "ibm_native_gates = FakeMontreal().configuration().basis_gates\n",
    "rigetti_native_gates = [\"rx\", \"rz\", \"cz\"]\n",
    "ibm_native_gates\n",
    "\n",
    "dev = qml.device('default.qubit', wires=[0, 1, 2])\n",
    "qnode = qml.QNode(qfunc, dev)\n",
    "print(qml.draw(qnode)(0.2, 0.3, 0.4))\n",
    "\n",
    "compiled_qfunc = qml.compile(basis_set=rigetti_native_gates)(qfunc)\n",
    "compiled_qnode = qml.QNode(compiled_qfunc, dev)\n",
    "print(qml.draw(compiled_qnode)(0.2, 0.3, 0.4))"
   ]
  },
  {
   "cell_type": "code",
   "execution_count": null,
   "id": "288fc804",
   "metadata": {},
   "outputs": [],
   "source": [
    "path_file = \"../MQTbench/qasm_output/dj_indep_4.qasm\"\n",
    "with open (path_file, \"r\") as myfile:\n",
    "    data = myfile.read()\n",
    "my_circuit = qml.from_qasm(data)\n",
    "\n",
    "n=4\n",
    "dev = qml.device('default.qubit', wires=n)\n",
    "@qml.qnode(dev)\n",
    "def circuit():\n",
    "    my_circuit(wires=tuple(range(n)))\n",
    "    return [qml.expval(qml.PauliZ(i)) for i in range(n)]\n",
    "\n",
    "#circuit()\n",
    "#print(dev._circuit.qasm(formatted=True))"
   ]
  },
  {
   "cell_type": "code",
   "execution_count": null,
   "id": "be022fce",
   "metadata": {},
   "outputs": [],
   "source": [
    "pennylane_ibm=[\"RZ\", \"SX\", \"PauliX\", \"CNOT\"]\n",
    "pennylane_rigetti=[\"RX\", \"RZ\", \"CZ\"]"
   ]
  },
  {
   "cell_type": "code",
   "execution_count": null,
   "id": "94017cf2",
   "metadata": {},
   "outputs": [],
   "source": [
    "compiled_qfunc1 = qml.compile()(circuit)\n",
    "compiled_qnode1 = qml.QNode(compiled_qfunc1, dev)\n",
    "print(qml.draw(compiled_qnode1)())\n",
    "\n",
    "compiled_qfunc2 = qml.compile(\n",
    "    basis_set=[\"CNOT\", \"RX\", \"RY\", \"RZ\"],\n",
    "    num_passes=2\n",
    ")(circuit)\n",
    "\n",
    "compiled_qnode2 = qml.QNode(compiled_qfunc2, dev)\n",
    "print(qml.draw(compiled_qnode2)())"
   ]
  },
  {
   "cell_type": "code",
   "execution_count": null,
   "id": "a08ff5ba",
   "metadata": {},
   "outputs": [],
   "source": [
    "def qfunc(x, y, z):\n",
    "    qml.Hadamard(wires=0)\n",
    "    qml.Hadamard(wires=1)\n",
    "    qml.Hadamard(wires=2)\n",
    "    qml.RZ(z, wires=2)\n",
    "    qml.CNOT(wires=[2, 1])\n",
    "    qml.RX(z, wires=0)\n",
    "    qml.CNOT(wires=[1, 0])\n",
    "    qml.RX(x, wires=0)\n",
    "    qml.CNOT(wires=[1, 0])\n",
    "    qml.RZ(-z, wires=2)\n",
    "    qml.RX(y, wires=2)\n",
    "    qml.PauliY(wires=2)\n",
    "    qml.CY(wires=[1, 2])\n",
    "    return qml.expval(qml.PauliZ(wires=0))\n",
    "\n",
    "dev = qml.device('default.qubit', wires=[0, 1, 2])\n",
    "qnode = qml.QNode(qfunc, dev)\n",
    "print(qml.draw(qnode)(0.2, 0.3, 0.4))\n",
    "\n",
    "compiled_qfunc = qml.compile(\n",
    "    pipeline=[\n",
    "        qml.transforms.commute_controlled(direction=\"left\"),\n",
    "        qml.transforms.merge_rotations(atol=1e-6),\n",
    "        qml.transforms.cancel_inverses\n",
    "    ],\n",
    "    basis_set=[\"CNOT\", \"RX\", \"RY\", \"CZ\"],\n",
    "    num_passes=2\n",
    ")(qfunc)\n",
    "\n",
    "compiled_qnode = qml.QNode(compiled_qfunc, dev)\n",
    "print(qml.draw(compiled_qnode)(0.2, 0.3, 0.4))"
   ]
  },
  {
   "cell_type": "code",
   "execution_count": null,
   "id": "7d3b37ba",
   "metadata": {
    "scrolled": true
   },
   "outputs": [],
   "source": [
    "def qfunc():\n",
    "    qml.Hadamard(wires=0)    \n",
    "    qml.Hadamard(wires=1)\n",
    "    qml.Hadamard(wires=2)\n",
    "    qml.RZ(-0.4, wires=2)\n",
    "    qml.CNOT(wires=[2, 1])\n",
    "    qml.RX(-0.4, wires=0)\n",
    "    qml.CNOT(wires=[1, 0])\n",
    "    qml.RX(-0.4, wires=0)\n",
    "    qml.CNOT(wires=[1, 0])\n",
    "    qml.RZ(-0.4, wires=2)\n",
    "    qml.RX(1, wires=2)\n",
    "    qml.PauliY(wires=2)\n",
    "    qml.CY(wires=[1, 2])\n",
    "    return [qml.expval(qml.PauliZ(i)) for i in range(2)]\n",
    "\n",
    "dev = qml.device('default.qubit', wires=[0, 1, 2])\n",
    "qnode = qml.QNode(qfunc, dev)\n",
    "print(qml.draw(qnode)())\n",
    "\n",
    "compiled_qfunc = qml.compile(\n",
    "    basis_set=[\"CNOT\", \"Rdawd\", \"wdfawdaw\", \"dawd\"],\n",
    "    num_passes=20\n",
    ")(qfunc)\n",
    "\n",
    "compiled_qnode = qml.QNode(compiled_qfunc, dev)\n",
    "print(qml.draw(compiled_qnode)())"
   ]
  },
  {
   "cell_type": "markdown",
   "id": "02189cd9",
   "metadata": {},
   "source": [
    "# Machine Learning Model"
   ]
  },
  {
   "cell_type": "code",
   "execution_count": null,
   "id": "bdd5ecf7",
   "metadata": {},
   "outputs": [],
   "source": [
    "import tensorflow as tf\n",
    "from tensorflow import keras\n",
    "from tensorflow.keras import layers"
   ]
  },
  {
   "cell_type": "code",
   "execution_count": null,
   "id": "754c48f6",
   "metadata": {},
   "outputs": [],
   "source": [
    "mnist = tf.keras.datasets.mnist\n",
    "\n",
    "(x_train, y_train), (x_test, y_test) = mnist.load_data()\n",
    "x_train, x_test = x_train / 255.0, x_test / 255.0"
   ]
  },
  {
   "cell_type": "code",
   "execution_count": null,
   "id": "9cacb562",
   "metadata": {},
   "outputs": [],
   "source": [
    "model.evaluate(x_test,  y_test, verbose=2)"
   ]
  },
  {
   "cell_type": "code",
   "execution_count": null,
   "id": "06c50646",
   "metadata": {},
   "outputs": [],
   "source": [
    "probability_model = tf.keras.Sequential([\n",
    "  model,\n",
    "  tf.keras.layers.Softmax()\n",
    "])"
   ]
  },
  {
   "cell_type": "code",
   "execution_count": null,
   "id": "1aa57ee5",
   "metadata": {},
   "outputs": [],
   "source": [
    "probability_model(x_test[:5])"
   ]
  },
  {
   "cell_type": "markdown",
   "id": "d7a71c62",
   "metadata": {},
   "source": [
    "# Feature Vector Generation"
   ]
  },
  {
   "cell_type": "code",
   "execution_count": null,
   "id": "2ad5560d",
   "metadata": {},
   "outputs": [],
   "source": [
    "from mqt.bench import benchmark_generator\n",
    "import matplotlib.pyplot as plt\n",
    "from evaluator.qiskit_plugin import *\n",
    "from evaluator.pytket_plugin import *\n",
    "import numpy as np"
   ]
  },
  {
   "cell_type": "code",
   "execution_count": null,
   "id": "42f68a0d",
   "metadata": {},
   "outputs": [],
   "source": [
    "from evaluator.utils import get_openqasm_gates\n",
    "def dict_to_featurevector(gate_dict):\n",
    "    openqasm_gates_list = get_openqasm_gates()\n",
    "    res_dct = {openqasm_gates_list[i] for i in range(0, len(openqasm_gates_list))}\n",
    "    res_dct = dict.fromkeys(res_dct, 0)\n",
    "    for key, val in dict(gate_dict).items():\n",
    "        if not key in res_dct:\n",
    "            print(key, \"gate not found in openQASM 2.0 gateset\")\n",
    "        else:\n",
    "            res_dct[key] = val\n",
    "    return res_dct"
   ]
  },
  {
   "cell_type": "code",
   "execution_count": null,
   "id": "2d083877",
   "metadata": {},
   "outputs": [],
   "source": [
    "benchmarks = [\"dj\", \"ghz\", \"wstate\", \"graphstate\", \"ae\", \"qpeexact\", \"twolocalrandom\", \"qft\", \"qftentangled\", \"su2random\" ]\n",
    "res = []\n",
    "for benchmark in benchmarks:\n",
    "    for num_qubits in range(3,50,5):\n",
    "        print(benchmark, num_qubits)\n",
    "        qc = benchmark_generator.get_one_benchmark(benchmark, 1, num_qubits)\n",
    "        qasm_qc = qc.qasm()\n",
    "        ops_list = qc.count_ops()\n",
    "        try:\n",
    "            best_arch = np.argmin(get_tket_scores(qasm_qc)+get_qiskit_scores(qasm_qc))\n",
    "            res.append((ops_list, best_arch, num_qubits))\n",
    "        except Exception as e:\n",
    "            print(\"fail: \", e)"
   ]
  },
  {
   "cell_type": "code",
   "execution_count": null,
   "id": "589a79d3",
   "metadata": {},
   "outputs": [],
   "source": [
    "training_data = []\n",
    "for elem in res:\n",
    "    tmp=dict_to_featurevector(elem[0])\n",
    "    tmp[\"num_qubits\"]= elem[2]\n",
    "    training_data.append((list(tmp.values()), elem[1]))\n",
    "print(training_data)"
   ]
  },
  {
   "cell_type": "code",
   "execution_count": null,
   "id": "6f89baf7",
   "metadata": {},
   "outputs": [],
   "source": [
    "best_machine_index = []\n",
    "for elem in res:\n",
    "    best_machine_index.append(elem[1])\n",
    "plt.hist(best_machine_index)\n",
    "plt.xticks([0,1,2,3,4,5,6,7,8,9]);"
   ]
  },
  {
   "cell_type": "code",
   "execution_count": null,
   "id": "51fdfdc6",
   "metadata": {},
   "outputs": [],
   "source": [
    "x_train, y_train = zip(*training_data)\n",
    "with open('x_train.csv', 'w') as FOUT:\n",
    "    np.savetxt(FOUT, x_train)\n",
    "with open('y_train.csv', 'w') as FOUT:\n",
    "    np.savetxt(FOUT, y_train)"
   ]
  },
  {
   "cell_type": "code",
   "execution_count": null,
   "id": "b557bd1c",
   "metadata": {},
   "outputs": [],
   "source": [
    "print(y_train)"
   ]
  },
  {
   "cell_type": "code",
   "execution_count": null,
   "id": "9539d47d",
   "metadata": {},
   "outputs": [],
   "source": [
    "from numpy import genfromtxt\n",
    "X = genfromtxt('x_train.csv')\n",
    "y = genfromtxt('y_train.csv')\n",
    "print(X.shape, y.shape)"
   ]
  },
  {
   "cell_type": "code",
   "execution_count": null,
   "id": "7980656a",
   "metadata": {},
   "outputs": [],
   "source": [
    "from sklearn.model_selection import train_test_split\n",
    "X_train, X_test, y_train, y_test = train_test_split(X, y, test_size=0.30, random_state=40)"
   ]
  },
  {
   "cell_type": "code",
   "execution_count": null,
   "id": "d1230b5f",
   "metadata": {},
   "outputs": [],
   "source": [
    "import numpy as np\n",
    "import keras\n",
    "from keras.models import Sequential\n",
    "from keras.layers import Dense\n",
    "\n",
    "model = Sequential()\n",
    "model.add(Dense(500, activation='relu', input_dim=43))\n",
    "model.add(Dense(100, activation='relu'))\n",
    "model.add(Dense(50, activation='relu'))\n",
    "model.add(Dense(10, activation='softmax'))\n",
    "\n",
    "# Compile the model\n",
    "model.compile(optimizer='adam', \n",
    "              loss='sparse_categorical_crossentropy', \n",
    "              metrics=['accuracy'])\n",
    "model.fit(X_train, y_train, epochs=100)"
   ]
  },
  {
   "cell_type": "code",
   "execution_count": null,
   "id": "05047424",
   "metadata": {},
   "outputs": [],
   "source": [
    "pred_train= model.predict(X_train)\n",
    "scores = model.evaluate(X_train, y_train, verbose=0)\n",
    "print('Accuracy on training data: {}% \\n Error on training data: {}'.format(scores[1], 1 - scores[1]))   \n",
    " \n",
    "pred_test= model.predict(X_test)\n",
    "scores2 = model.evaluate(X_test, y_test, verbose=0)\n",
    "print('Accuracy on test data: {}% \\n Error on test data: {}'.format(scores2[1], 1 - scores2[1]))    "
   ]
  },
  {
   "cell_type": "markdown",
   "id": "0916bed7",
   "metadata": {},
   "source": [
    "# TKET IonQ Custom Rebase Pass"
   ]
  },
  {
   "cell_type": "code",
   "execution_count": null,
   "id": "efa4b6b5",
   "metadata": {},
   "outputs": [],
   "source": [
    "import pytket\n",
    "from pytket import OpType, circuit, _tket, Circuit\n",
    "from pytket.passes import RebaseCustom"
   ]
  },
  {
   "cell_type": "code",
   "execution_count": null,
   "id": "83f81849",
   "metadata": {},
   "outputs": [],
   "source": [
    "gates = {OpType.Rz, OpType.Ry, OpType.CY, OpType.ZZPhase}\n",
    "cx_in_cy = Circuit(2)\n",
    "cx_in_cy.Rz(0.5, 1).CY(0, 1).Rz(-0.5, 1)\n",
    "def tk1_to_rzry(a, b, c):\n",
    "    circ = Circuit(1)\n",
    "    circ.Rz(c + 0.5, 0).Ry(b, 0).Rz(a - 0.5, 0)\n",
    "    return circ\n",
    "\n",
    "custom = RebaseCustom(gates, cx_in_cy, tk1_to_rzry)\n",
    "\n",
    "circ = Circuit(3)\n",
    "circ.X(0).CX(0, 1).Ry(0.2, 1)\n",
    "circ.add_gate(OpType.ZZPhase, -0.83, [2, 1]).Rx(0.6, 2)\n",
    "\n",
    "custom.apply(circ)\n",
    "\n",
    "print(circ.get_commands())"
   ]
  },
  {
   "cell_type": "code",
   "execution_count": null,
   "id": "1c817873",
   "metadata": {},
   "outputs": [],
   "source": [
    "ionq_gateset = {OpType.Rz, OpType.Ry, OpType.XXPhase}\n",
    "cx_in_ionq = _tket.circuit._library._CX_using_XXPhase_0()\n",
    "def tk1_to_rzry(a, b, c):\n",
    "    circ = Circuit(1)\n",
    "    circ.Rz(c + 0.5, 0).Ry(b, 0).Rz(a - 0.5, 0)\n",
    "    return circ\n",
    "ionq_rebase = RebaseCustom(ionq_gateset, cx_in_ionq, tk1_to_rzry)"
   ]
  },
  {
   "cell_type": "code",
   "execution_count": null,
   "id": "059e2829",
   "metadata": {},
   "outputs": [],
   "source": [
    "circ = Circuit(3)\n",
    "circ.X(0).CX(0, 1).Ry(0.2, 1)\n",
    "circ.add_gate(OpType.ZZPhase, -0.83, [2, 1]).Rx(0.6, 2)\n",
    "\n",
    "ionq_rebase.apply(circ)\n",
    "print(circ.get_commands())"
   ]
  },
  {
   "cell_type": "code",
   "execution_count": null,
   "id": "3b0f65dc",
   "metadata": {},
   "outputs": [],
   "source": [
    "from pytket._tket.circuit._library._CX_using_XXPhase_0()"
   ]
  },
  {
   "cell_type": "code",
   "execution_count": null,
   "id": "ddaa41f1",
   "metadata": {},
   "outputs": [],
   "source": [
    "_library._CX_using_XXPhase_0()"
   ]
  },
  {
   "cell_type": "markdown",
   "id": "61fcb5ad",
   "metadata": {},
   "source": [
    "# Testing/Debugging"
   ]
  },
  {
   "cell_type": "code",
   "execution_count": null,
   "id": "15de70a6",
   "metadata": {},
   "outputs": [],
   "source": [
    "from evaluator import utils\n",
    "from pytket.circuit.display import render_circuit_jupyter\n",
    "from mqt.bench import benchmark_generator\n",
    "import matplotlib.pyplot as plt\n",
    "from evaluator.qiskit_plugin import *\n",
    "from evaluator.pytket_plugin import *\n",
    "import numpy as np\n",
    "from pytket.extensions.qiskit import qiskit_to_tk\n",
    "from qiskit import QuantumCircuit"
   ]
  },
  {
   "cell_type": "code",
   "execution_count": null,
   "id": "36ee828c",
   "metadata": {},
   "outputs": [],
   "source": [
    "from pytket.extensions.aqt import AQTBackend\n",
    "from pytket.extensions.qiskit import IBMQBackend\n",
    "from pytket.extensions.pyquil import ForestStateBackend\n",
    "from pytket.passes import PlacementPass, RoutingPass, FullPeepholeOptimise, SynthesiseTket\n",
    "from pytket.placement import LinePlacement\n",
    "from pytket import _tket, Circuit, architecture, qasm\n",
    "from pytket.passes import RebaseCustom\n",
    "from pytket.passes._decompositions import _TK1_to_X_SX_Rz\n"
   ]
  },
  {
   "cell_type": "code",
   "execution_count": null,
   "id": "d353e1f9",
   "metadata": {},
   "outputs": [],
   "source": [
    "qc_raw = benchmark_generator.get_one_benchmark(\"pricingcall\", 1, 2)\n",
    "qasm_qc = qc_raw.qasm()\n",
    "qc = qasm.circuit_from_qasm_str(qasm_qc)\n",
    "render_circuit_jupyter(qc)"
   ]
  },
  {
   "cell_type": "code",
   "execution_count": null,
   "id": "304b5ab2",
   "metadata": {},
   "outputs": [],
   "source": [
    "from pytket.extensions.qiskit import IBMQBackend\n",
    "backend = IBMQBackend(\"ibmq_santiago\")\n",
    "backend.rebase_pass()"
   ]
  },
  {
   "cell_type": "code",
   "execution_count": null,
   "id": "613fc173",
   "metadata": {},
   "outputs": [],
   "source": [
    "from pytket import OpType\n",
    "from pytket.passes import auto_rebase_pass\n",
    "rigetti_gateset = auto_rebase_pass({OpType.Rz, OpType.SX, OpType.X, OpType.ECR})\n",
    "rigetti_gateset"
   ]
  },
  {
   "cell_type": "code",
   "execution_count": null,
   "id": "0f1b3f13",
   "metadata": {},
   "outputs": [],
   "source": [
    "rigetti_rebase = auto_rebase_pass({OpType.Rz, OpType.Rx, OpType.CZ})\n",
    "ibm_rebase = auto_rebase_pass({OpType.Rz, OpType.SX, OpType.X, OpType.CX})\n",
    "oqc_gateset = {OpType.Rz, OpType.SX, OpType.X, OpType.ECR}\n",
    "oqc_rebase = auto_rebase_pass(oqc_gateset)\n",
    "ionq_gateset = {OpType.Rz, OpType.Ry, OpType.Rx, OpType.XXPhase}\n",
    "ionq_rebase = auto_rebase_pass(ionq_gateset)\n",
    "print(rigetti_gateset, ibm_rebase, ionq_rebase, oqc_rebase)"
   ]
  },
  {
   "cell_type": "code",
   "execution_count": null,
   "id": "4f42ba5a",
   "metadata": {},
   "outputs": [],
   "source": [
    "rigetti_gateset"
   ]
  },
  {
   "cell_type": "code",
   "execution_count": null,
   "id": "7fdc9f43",
   "metadata": {},
   "outputs": [],
   "source": [
    "ibm_rebase"
   ]
  },
  {
   "cell_type": "code",
   "execution_count": null,
   "id": "01b7b04d",
   "metadata": {},
   "outputs": [],
   "source": [
    "ionq_rebase"
   ]
  },
  {
   "cell_type": "code",
   "execution_count": null,
   "id": "896104b3",
   "metadata": {},
   "outputs": [],
   "source": [
    "oqc_rebase"
   ]
  },
  {
   "cell_type": "code",
   "execution_count": null,
   "id": "531594e7",
   "metadata": {},
   "outputs": [],
   "source": [
    "from evaluator import utils\n",
    "from pytket.passes import auto_rebase_pass\n",
    "from pytket.circuit.display import render_circuit_jupyter\n",
    "\n",
    "qc_raw = benchmark_generator.get_one_benchmark(\"dj\", 1, 5)\n",
    "qasm_qc = qc_raw.qasm()\n",
    "qc = qasm.circuit_from_qasm_str(qasm_qc)\n",
    "def get_qc(opt_level):\n",
    "    ibm_washington_arch = architecture.Architecture(utils.get_cmap_imbq_washington())\n",
    "    backend = auto_rebase_pass({OpType.Rz, OpType.SX, OpType.X, OpType.CX})\n",
    "    backend.apply(qc)\n",
    "    PlacementPass(LinePlacement(ibm_washington_arch)).apply(qc)\n",
    "    RoutingPass(ibm_washington_arch).apply(qc)\n",
    "    if opt_level == 1:\n",
    "        SynthesiseTket().apply(qc)\n",
    "    elif opt_level == 2:\n",
    "        FullPeepholeOptimise().apply(qc)\n",
    "    backend.apply(qc)\n",
    "    return qc"
   ]
  },
  {
   "cell_type": "code",
   "execution_count": null,
   "id": "d4cb04b1",
   "metadata": {},
   "outputs": [],
   "source": [
    "render_circuit_jupyter(get_qc(0))"
   ]
  },
  {
   "cell_type": "code",
   "execution_count": null,
   "id": "ee53af1b",
   "metadata": {},
   "outputs": [],
   "source": [
    "render_circuit_jupyter(get_qc(1))"
   ]
  },
  {
   "cell_type": "code",
   "execution_count": null,
   "id": "3ec17132",
   "metadata": {},
   "outputs": [],
   "source": [
    "render_circuit_jupyter(get_qc(2))"
   ]
  },
  {
   "cell_type": "code",
   "execution_count": null,
   "id": "6fd42876",
   "metadata": {},
   "outputs": [],
   "source": [
    "from mqt.bench import benchmark_generator\n",
    "from evaluator import utils\n",
    "from evaluator.qiskit_plugin import *\n",
    "from evaluator.pytket_plugin import *\n",
    "from pytket import _tket, Circuit, architecture, qasm"
   ]
  },
  {
   "cell_type": "code",
   "execution_count": null,
   "id": "c8640714",
   "metadata": {},
   "outputs": [],
   "source": [
    "qc = benchmark_generator.get_one_benchmark(\"ghz\", 1, 5)\n",
    "#qasm_qc = qc.qasm()\n",
    "#qc = qasm.circuit_from_qasm_str(qasm_qc)"
   ]
  },
  {
   "cell_type": "code",
   "execution_count": null,
   "id": "01d77265",
   "metadata": {},
   "outputs": [],
   "source": [
    "res = []\n",
    "tmp_1 = get_qiskit_gates(qc)\n",
    "qasm_qc = qc.qasm()\n",
    "qc = qasm.circuit_from_qasm_str(qasm_qc)\n",
    "tmp_2 = get_tket_gate_lists(qc)\n",
    "res.append((\"dj\", 5, tmp_1+tmp_2))\n",
    "print(res)"
   ]
  },
  {
   "cell_type": "code",
   "execution_count": 1,
   "id": "61990900",
   "metadata": {},
   "outputs": [],
   "source": [
    "from evaluator import evaluator"
   ]
  },
  {
   "cell_type": "code",
   "execution_count": 2,
   "id": "d1029b70",
   "metadata": {},
   "outputs": [
    {
     "name": "stdout",
     "output_type": "stream",
     "text": [
      "dj 4\n"
     ]
    },
    {
     "name": "stderr",
     "output_type": "stream",
     "text": [
      "/Users/nils/miniforge3/envs/tf3/lib/python3.9/site-packages/numpy/linalg/linalg.py:2158: RuntimeWarning: divide by zero encountered in det\n",
      "  r = _umath_linalg.det(a, signature=signature)\n",
      "/Users/nils/miniforge3/envs/tf3/lib/python3.9/site-packages/numpy/linalg/linalg.py:2158: RuntimeWarning: invalid value encountered in det\n",
      "  r = _umath_linalg.det(a, signature=signature)\n"
     ]
    },
    {
     "name": "stdout",
     "output_type": "stream",
     "text": [
      "dj 5\n",
      "grover-noancilla 4\n",
      "grover-noancilla 5\n",
      "grover-v-chain 4\n",
      "grover-v-chain 5\n",
      "fail:  Qubit(QuantumRegister(3, 'q475'), 2)\n",
      "ghz 4\n",
      "ghz 5\n",
      "graphstate 4\n",
      "graphstate 5\n",
      "qft 4\n",
      "qft 5\n",
      "qftentangled 4\n",
      "qftentangled 5\n",
      "qpeexact 4\n",
      "qpeexact 5\n",
      "qpeinexact 4\n",
      "qpeinexact 5\n",
      "qwalk-noancilla 4\n",
      "qwalk-noancilla 5\n",
      "qwalk-v-chain 4\n",
      "fail:  Qubit(QuantumRegister(3, 'q1542'), 2)\n",
      "qwalk-v-chain 5\n",
      "fail:  Qubit(QuantumRegister(3, 'q1653'), 2)\n",
      "realamprandom 4\n",
      "realamprandom 5\n",
      "su2random 4\n",
      "su2random 5\n",
      "twolocalrandom 4\n",
      "twolocalrandom 5\n",
      "vqe 4\n"
     ]
    },
    {
     "name": "stderr",
     "output_type": "stream",
     "text": [
      "/Users/nils/miniforge3/envs/tf3/lib/python3.9/site-packages/numpy/linalg/linalg.py:2158: RuntimeWarning: divide by zero encountered in det\n",
      "  r = _umath_linalg.det(a, signature=signature)\n",
      "/Users/nils/miniforge3/envs/tf3/lib/python3.9/site-packages/numpy/linalg/linalg.py:2158: RuntimeWarning: invalid value encountered in det\n",
      "  r = _umath_linalg.det(a, signature=signature)\n"
     ]
    },
    {
     "name": "stdout",
     "output_type": "stream",
     "text": [
      "vqe 5\n",
      "wstate 4\n",
      "wstate 5\n",
      "vqe 4\n",
      "vqe 5\n",
      "qaoa 4\n",
      "qaoa 5\n",
      "portfoliovqe 4\n",
      "portfoliovqe 5\n",
      "portfolioqaoa 4\n",
      "portfolioqaoa 5\n",
      "qgan 4\n",
      "qgan 5\n"
     ]
    }
   ],
   "source": [
    "res = evaluator.create_gate_lists(4,6)"
   ]
  },
  {
   "cell_type": "code",
   "execution_count": 4,
   "id": "005383a8",
   "metadata": {},
   "outputs": [],
   "source": [
    "res"
   ]
  },
  {
   "cell_type": "code",
   "execution_count": null,
   "id": "553e694a",
   "metadata": {},
   "outputs": [],
   "source": [
    "type(res)"
   ]
  }
 ],
 "metadata": {
  "kernelspec": {
   "display_name": "Python 3 (ipykernel)",
   "language": "python",
   "name": "python3"
  },
  "language_info": {
   "codemirror_mode": {
    "name": "ipython",
    "version": 3
   },
   "file_extension": ".py",
   "mimetype": "text/x-python",
   "name": "python",
   "nbconvert_exporter": "python",
   "pygments_lexer": "ipython3",
   "version": "3.9.12"
  }
 },
 "nbformat": 4,
 "nbformat_minor": 5
}
