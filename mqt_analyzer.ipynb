{
 "cells": [
  {
   "cell_type": "code",
   "execution_count": 1,
   "id": "7e01a77a",
   "metadata": {},
   "outputs": [],
   "source": [
    "from qiskit import QuantumCircuit\n",
    "from qiskit.converters import circuit_to_dag\n",
    "from qiskit.visualization import dag_drawer\n"
   ]
  },
  {
   "cell_type": "code",
   "execution_count": 2,
   "id": "94b183f8",
   "metadata": {},
   "outputs": [],
   "source": [
    "from qiskit.test.mock import (\n",
    "    FakeBogota,\n",
    "    FakeCasablanca,\n",
    "    FakeGuadalupe,\n",
    "    FakeMontreal,\n",
    "    FakeManhattan,\n",
    ") \n"
   ]
  },
  {
   "cell_type": "code",
   "execution_count": 3,
   "id": "bdbd3ddd",
   "metadata": {},
   "outputs": [],
   "source": [
    "# Score generator\n",
    "# for each MQTbench circuit\n",
    "    # for each compiler -> tket, staq, qiskit, forest, ...\n",
    "        # for each backend -> Rigetti, IBM, Google?, AQT?, OQC?, Cirq, ProjectQ\n",
    "            # generate circuit\n",
    "            # calculate score\n",
    "            # safe data: input: qasmfile/gate count per gate, compiler/compiler settings/machine -> output: score"
   ]
  },
  {
   "cell_type": "code",
   "execution_count": 4,
   "id": "6ac3b644",
   "metadata": {},
   "outputs": [],
   "source": [
    "rigetti_m1 = {\n",
    "    \"provider\": \"rigetti\",\n",
    "    \"name\": \"m1\",\n",
    "    \"num_qubits\": 80,\n",
    "    \"t1_avg\": 33.845,\n",
    "    \"t2_avg\": 28.230,\n",
    "    \"avg_gate_time_1q\": 60e-3, #source: https://qcs.rigetti.com/qpus -> ASPEN-M-1\n",
    "    \"avg_gate_time_2q\": 160e-3 #source: https://qcs.rigetti.com/qpus -> ASPEN-M-1\n",
    "}\n",
    "ibm_washington = {\n",
    "    \"provider\": \"ibm\",\n",
    "    \"name\": \"washington\",\n",
    "    \"num_qubits\": 127,\n",
    "    \"t1_avg\": 103.39,\n",
    "    \"t2_avg\": 97.75,\n",
    "    \"avg_gate_time_1q\": 206e-3, #estimated, based on the rigetti relation between 1q and 2q and given avg 2q time\n",
    "    \"avg_gate_time_2q\": 550.41e-3 #source: https://quantum-computing.ibm.com/services?services=systems&system=ibm_washington\n",
    "}\n",
    "ionq = {\n",
    "    \"provider\": \"ionq\",\n",
    "    \"name\": \"washington\",\n",
    "    \"num_qubits\": 127,\n",
    "    \"t1_avg\": 10000,\n",
    "    \"t2_avg\": 0.2,\n",
    "    \"avg_gate_time_1q\": 0.00001,\n",
    "    \"avg_gate_time_2q\": 0.0002 \n",
    "}"
   ]
  },
  {
   "cell_type": "code",
   "execution_count": 5,
   "id": "0395d6d7",
   "metadata": {},
   "outputs": [],
   "source": [
    "def count_qubit_gates(qc, provider:str):\n",
    "    dag = circuit_to_dag(qc)\n",
    "    count_gates = dag.count_ops_longest_path()\n",
    "    single_qubit_gates = 0\n",
    "    two_qubit_gates = 0\n",
    "    if provider == \"ibm\":\n",
    "        # gates: ['id', 'rz', 'sx', 'x', 'cx', 'reset']\n",
    "        if \"id\" in count_gates:\n",
    "            single_qubit_gates += count_gates[\"id\"]\n",
    "        if \"rz\" in count_gates:\n",
    "            single_qubit_gates += count_gates[\"rz\"]\n",
    "        if \"sx\" in count_gates:\n",
    "            single_qubit_gates += count_gates[\"sx\"]\n",
    "        if \"x\" in count_gates:\n",
    "            single_qubit_gates += count_gates[\"x\"]\n",
    "        if \"cx\" in count_gates:\n",
    "            two_qubit_gates += count_gates[\"cx\"]\n",
    "        \n",
    "    elif provider == \"rigetti\":\n",
    "        # gates: rigetti_native_gates = [\"rx\", \"rz\", \"cz\"]\n",
    "        if \"rx\" in count_gates:\n",
    "            single_qubit_gates += count_gates[\"rx\"]\n",
    "        if \"rz\" in count_gates:\n",
    "            single_qubit_gates += count_gates[\"rz\"]\n",
    "        if \"cz\" in count_gates:\n",
    "            two_qubit_gates += count_gates[\"cz\"]\n",
    "            \n",
    "    elif provider == \"ionq\":\n",
    "        # gates: ionq_native_gates = [\"ms\", \"rz\", \"ry\", \"rx\"]\n",
    "        if \"rx\" in count_gates:\n",
    "            single_qubit_gates += count_gates[\"rx\"]\n",
    "        if \"ry\" in count_gates:\n",
    "            single_qubit_gates += count_gates[\"ry\"]\n",
    "        if \"rz\" in count_gates:\n",
    "            single_qubit_gates += count_gates[\"rz\"]\n",
    "        if \"ms\" in count_gates:\n",
    "            two_qubit_gates += count_gates[\"ms\"]\n",
    "    return single_qubit_gates, two_qubit_gates\n",
    "        "
   ]
  },
  {
   "cell_type": "code",
   "execution_count": 6,
   "id": "748f0283",
   "metadata": {},
   "outputs": [],
   "source": [
    "def calc_score_from_str(qc:str, backend):\n",
    "    qc = QuantumCircuit.from_qasm_str(qc)\n",
    "    return calc_score(qc, backend)\n",
    "    \n",
    "def calc_score_from_path(filepath, backend):       \n",
    "    qc = QuantumCircuit.from_qasm_file(filepath)\n",
    "    return calc_score(qc, backend)\n",
    "    \n",
    "def calc_score(qc:QuantumCircuit, backend):\n",
    "    count_gates = count_qubit_gates(qc, backend[\"provider\"])\n",
    "    #print(\"Gates: \", count_gates)\n",
    "    penalty_factor_width = 5000\n",
    "    penalty_factor_1q = 500\n",
    "    penalty_factor_2q = 1000\n",
    "\n",
    "    b_qubits = backend[\"num_qubits\"]\n",
    "    t_1 = backend[\"t1_avg\"]\n",
    "    t_2 = backend[\"t2_avg\"]\n",
    "    avg_gate_time_1q = backend[\"avg_gate_time_1q\"]\n",
    "    avg_gate_time_2q = backend[\"avg_gate_time_2q\"]\n",
    "    max_depth_1q = min(t_1, t_2) / avg_gate_time_1q\n",
    "    max_depth_2q = min(t_1, t_2) / avg_gate_time_2q\n",
    "\n",
    "    penalty_width = 0\n",
    "    \n",
    "    if qc.num_qubits > b_qubits:\n",
    "        penalty_width = penalty_factor_width\n",
    "        \n",
    "    \n",
    "    score = count_gates[0] / max_depth_1q * penalty_factor_1q + count_gates[1] / max_depth_2q * penalty_factor_2q + penalty_width\n",
    "    #print(\"Score: \", score)\n",
    "    return score"
   ]
  },
  {
   "cell_type": "markdown",
   "id": "6fa937e7",
   "metadata": {},
   "source": [
    "# Qiskit"
   ]
  },
  {
   "cell_type": "code",
   "execution_count": 7,
   "id": "e101b1b7",
   "metadata": {},
   "outputs": [],
   "source": [
    "ibm_gates = ['id', 'rz', 'sx', 'x', 'cx', 'reset']\n",
    "rigetti_gates = [\"rx\", \"rz\", \"cz\"]\n",
    "ionq_gates = [\"rxx\", \"rz\", \"ry\", \"rx\"]\n",
    "aqt_gates = ['rx', 'ry', 'rxx']"
   ]
  },
  {
   "cell_type": "code",
   "execution_count": 153,
   "id": "003cc718",
   "metadata": {},
   "outputs": [],
   "source": [
    "from qiskit import transpile\n",
    "def get_qiskit_scores(qc_filepath:QuantumCircuit):\n",
    "    qc = QuantumCircuit.from_qasm_file(qc_filepath)\n",
    "    #compile to ibm architecture\n",
    "    qc_ibm = transpile(qc, basis_gates=ibm_gates)\n",
    "    #print(qc_ibm.draw())\n",
    "    score_ibm = calc_score_from_str(qc_ibm.qasm(), ibm_washington)\n",
    "    #compile to rigetti architecture\n",
    "    qc_rigetti = transpile(qc, basis_gates=rigetti_gates)\n",
    "    #print(qc_rigetti.draw())\n",
    "    score_rigetti = calc_score_from_str(qc_rigetti.qasm(), rigetti_m1)\n",
    "    #compile to aqt architecture\n",
    "    qc_ion = transpile(qc, basis_gates=ionq_gates)\n",
    "    #print(qc_ion.draw())\n",
    "    score_ionq = calc_score_from_str(qc_ion.qasm(), ionq)\n",
    "    #print(\"qiskit: \", score_ibm, score_rigetti, score_ionq)\n",
    "    return score_ibm, score_ionq, score_rigetti"
   ]
  },
  {
   "cell_type": "code",
   "execution_count": 9,
   "id": "d85654bf",
   "metadata": {},
   "outputs": [
    {
     "data": {
      "text/plain": [
       "['rx', 'ry', 'rxx']"
      ]
     },
     "execution_count": 9,
     "metadata": {},
     "output_type": "execute_result"
    }
   ],
   "source": [
    "from qiskit_aqt_provider import AQTProvider\n",
    "aqt = AQTProvider(\"\")\n",
    "AQT_backend = aqt.backends.aqt_qasm_simulator\n",
    "AQT_backend.configuration().basis_gates"
   ]
  },
  {
   "cell_type": "markdown",
   "id": "e4464aaf",
   "metadata": {},
   "source": [
    "# Cirq"
   ]
  },
  {
   "cell_type": "code",
   "execution_count": 10,
   "id": "c7ded9db",
   "metadata": {},
   "outputs": [],
   "source": [
    "import cirq\n",
    "from cirq.contrib.svg import SVGCircuit\n",
    "\n",
    "def get_cirq_compilation(qasm_qc, target):\n",
    "    if \"ibm\" in target:\n",
    "        pass\n",
    "    elif \"rigetti\" in target:\n",
    "        pass\n",
    "    elif \"ionq\" in target:\n",
    "        pass"
   ]
  },
  {
   "cell_type": "code",
   "execution_count": 11,
   "id": "099f6993",
   "metadata": {},
   "outputs": [
    {
     "ename": "NameError",
     "evalue": "name 'circuit' is not defined",
     "output_type": "error",
     "traceback": [
      "\u001b[0;31m---------------------------------------------------------------------------\u001b[0m",
      "\u001b[0;31mNameError\u001b[0m                                 Traceback (most recent call last)",
      "\u001b[0;32m/var/folders/f4/n3_mnvbd6q50h0gtzy84vyn40000gn/T/ipykernel_8530/845464970.py\u001b[0m in \u001b[0;36m<module>\u001b[0;34m\u001b[0m\n\u001b[1;32m      1\u001b[0m \u001b[0;32mfrom\u001b[0m \u001b[0mcirq\u001b[0m\u001b[0;34m.\u001b[0m\u001b[0mcontrib\u001b[0m\u001b[0;34m.\u001b[0m\u001b[0mqasm_import\u001b[0m \u001b[0;32mimport\u001b[0m \u001b[0mcircuit_from_qasm\u001b[0m\u001b[0;34m\u001b[0m\u001b[0;34m\u001b[0m\u001b[0m\n\u001b[1;32m      2\u001b[0m \u001b[0mtest\u001b[0m \u001b[0;34m=\u001b[0m \u001b[0mopen\u001b[0m\u001b[0;34m(\u001b[0m\u001b[0;34m'../MQTbench/qasm_output/dj_indep_4.qasm'\u001b[0m\u001b[0;34m,\u001b[0m \u001b[0;34m'r'\u001b[0m\u001b[0;34m)\u001b[0m\u001b[0;34m.\u001b[0m\u001b[0mread\u001b[0m\u001b[0;34m(\u001b[0m\u001b[0;34m)\u001b[0m\u001b[0;34m\u001b[0m\u001b[0;34m\u001b[0m\u001b[0m\n\u001b[0;32m----> 3\u001b[0;31m \u001b[0mion_circuit\u001b[0m \u001b[0;34m=\u001b[0m \u001b[0mcirq\u001b[0m\u001b[0;34m.\u001b[0m\u001b[0mion\u001b[0m\u001b[0;34m.\u001b[0m\u001b[0mConvertToIonGates\u001b[0m\u001b[0;34m(\u001b[0m\u001b[0;34m)\u001b[0m\u001b[0;34m.\u001b[0m\u001b[0mconvert_circuit\u001b[0m\u001b[0;34m(\u001b[0m\u001b[0mcircuit\u001b[0m\u001b[0;34m)\u001b[0m\u001b[0;34m\u001b[0m\u001b[0;34m\u001b[0m\u001b[0m\n\u001b[0m\u001b[1;32m      4\u001b[0m \u001b[0mprint\u001b[0m\u001b[0;34m(\u001b[0m\u001b[0mion_circuit\u001b[0m\u001b[0;34m)\u001b[0m\u001b[0;34m\u001b[0m\u001b[0;34m\u001b[0m\u001b[0m\n",
      "\u001b[0;31mNameError\u001b[0m: name 'circuit' is not defined"
     ]
    }
   ],
   "source": [
    "from cirq.contrib.qasm_import import circuit_from_qasm\n",
    "test = open('../MQTbench/qasm_output/dj_indep_4.qasm', 'r').read()\n",
    "ion_circuit = cirq.ion.ConvertToIonGates().convert_circuit(circuit)\n",
    "print(ion_circuit)"
   ]
  },
  {
   "cell_type": "code",
   "execution_count": null,
   "id": "18873a2e",
   "metadata": {},
   "outputs": [],
   "source": [
    "import cirq_rigetti\n",
    "c = cirq_rigetti.circuit_transformers.default(circuit=circuit)\n",
    "print(c)\n",
    "\n",
    "SVGCircuit(c[0])"
   ]
  },
  {
   "cell_type": "code",
   "execution_count": null,
   "id": "011fcc62",
   "metadata": {},
   "outputs": [],
   "source": [
    "import cirq\n",
    "import cirq_ionq as ionq\n",
    "q0 = cirq.LineQubit(0)\n",
    "device = ionq.IonQAPIDevice([q0])\n",
    "circuit = cirq.Circuit(device=device)\n",
    "circuit.append(cirq.H(q0)**0.2) # Non-IonQ-API gate\n",
    "print(circuit) # will print the circuit converted into IonQ's target gateset"
   ]
  },
  {
   "cell_type": "markdown",
   "id": "b47069e6",
   "metadata": {},
   "source": [
    "# PyTKET"
   ]
  },
  {
   "cell_type": "code",
   "execution_count": 123,
   "id": "1160f595",
   "metadata": {},
   "outputs": [
    {
     "data": {
      "text/plain": [
       "[(node[1], node[0]), (node[2], node[0])]"
      ]
     },
     "execution_count": 123,
     "metadata": {},
     "output_type": "execute_result"
    }
   ],
   "source": [
    "import pytket\n",
    "a = pytket.architecture.Architecture([[1,0], [2,0]])\n",
    "a.coupling"
   ]
  },
  {
   "cell_type": "code",
   "execution_count": 147,
   "id": "670ec77c",
   "metadata": {
    "scrolled": true
   },
   "outputs": [
    {
     "data": {
      "text/plain": [
       "***PassType: StandardPass***\n",
       "Preconditions:\n",
       "Specific Postconditions:\n",
       "  GateSetPredicate:{ X CX Rz SX Measure Collapse Reset }\n",
       "  MaxTwoQubitGatesPredicate\n",
       "Generic Postconditions:\n",
       "  GateSetPredicate Clear\n",
       "Default Postcondition: Preserve"
      ]
     },
     "execution_count": 147,
     "metadata": {},
     "output_type": "execute_result"
    }
   ],
   "source": [
    "b1.rebase_pass()"
   ]
  },
  {
   "cell_type": "code",
   "execution_count": 110,
   "id": "4235264f",
   "metadata": {},
   "outputs": [
    {
     "data": {
      "text/plain": [
       "***PassType: StandardPass***\n",
       "Preconditions:\n",
       "Specific Postconditions:\n",
       "  GateSetPredicate:{ Measure Rx XXPhase Ry Collapse Reset }\n",
       "  MaxTwoQubitGatesPredicate\n",
       "Generic Postconditions:\n",
       "  GateSetPredicate Clear\n",
       "Default Postcondition: Preserve"
      ]
     },
     "execution_count": 110,
     "metadata": {},
     "output_type": "execute_result"
    }
   ],
   "source": [
    "b2.rebase_pass()"
   ]
  },
  {
   "cell_type": "code",
   "execution_count": 112,
   "id": "f0ed3d6a",
   "metadata": {},
   "outputs": [
    {
     "data": {
      "text/plain": [
       "***PassType: StandardPass***\n",
       "Preconditions:\n",
       "Specific Postconditions:\n",
       "  GateSetPredicate:{ ZZMax Measure CX noop Rz Ry Rx Vdg V Tdg T XXPhase Z YYPhase SWAP H Barrier Sdg Y ZZPhase X S Collapse Reset }\n",
       "  MaxTwoQubitGatesPredicate\n",
       "Generic Postconditions:\n",
       "  GateSetPredicate Clear\n",
       "Default Postcondition: Preserve"
      ]
     },
     "execution_count": 112,
     "metadata": {},
     "output_type": "execute_result"
    }
   ],
   "source": [
    "b3.rebase_pass()"
   ]
  },
  {
   "cell_type": "code",
   "execution_count": 111,
   "id": "1cfa4191",
   "metadata": {},
   "outputs": [
    {
     "data": {
      "text/plain": [
       "***PassType: StandardPass***\n",
       "Preconditions:\n",
       "Specific Postconditions:\n",
       "  GateSetPredicate:{ CZ Rx Rz Collapse Measure Reset }\n",
       "  MaxTwoQubitGatesPredicate\n",
       "Generic Postconditions:\n",
       "  GateSetPredicate Clear\n",
       "Default Postcondition: Preserve"
      ]
     },
     "execution_count": 111,
     "metadata": {},
     "output_type": "execute_result"
    }
   ],
   "source": [
    "b4.rebase_pass()"
   ]
  },
  {
   "cell_type": "code",
   "execution_count": 149,
   "id": "a342fe31",
   "metadata": {},
   "outputs": [],
   "source": [
    "from pytket.extensions.qiskit import IBMQBackend\n",
    "from pytket.extensions.aqt import AQTBackend\n",
    "from pytket.extensions.qiskit import IBMQBackend\n",
    "from pytket.extensions.pyquil import ForestBackend, ForestStateBackend\n",
    "from pytket.extensions.ionq import IonQBackend\n",
    "from pytket.circuit.display import render_circuit_jupyter\n",
    "from pytket.passes import PlacementPass, RoutingPass, SequencePass\n",
    "from pytket.placement import LinePlacement\n",
    "from pytket.placement import GraphPlacement\n",
    "\n",
    "def get_tket_scores(qc_filepath:QuantumCircuit):\n",
    "    ibm_arch = pytket.architecture.Architecture(get_cmap_imbq_washington())\n",
    "    rigetti_arch = pytket.architecture.Architecture(get_rigetti_c_map(10))\n",
    "\n",
    "    b1 = IBMQBackend(\"ibmq_santiago\")\n",
    "    b2 = AQTBackend(device_name=\"sim/noise-model-1\", access_token='')\n",
    "    b3 = IonQBackend(api_key=\"\")\n",
    "    b4 = ForestStateBackend()\n",
    "    c = qasm.circuit_from_qasm(qc_filepath)\n",
    "\n",
    "    b1.rebase_pass().apply(c)\n",
    "    PlacementPass(LinePlacement(ibm_arch)).apply(c)\n",
    "    RoutingPass(ibm_arch).apply(c)\n",
    "    b1.rebase_pass().apply(c)\n",
    "    qc_qasm = qasm.circuit_to_qasm_str(c)\n",
    "    score_ibm = calc_score_from_str(qc_qasm, ibm_washington)\n",
    "\n",
    "    c = qasm.circuit_from_qasm(qc_filepath)\n",
    "    b2.rebase_pass().apply(c)\n",
    "    qc_qasm = qasm.circuit_to_qasm_str(c)\n",
    "    score_aqt = calc_score_from_str(qc_qasm, ionq)\n",
    "\n",
    "    c = qasm.circuit_from_qasm(qc_filepath)\n",
    "    b3.rebase_pass().apply(c)\n",
    "    qc_qasm = qasm.circuit_to_qasm_str(c)\n",
    "    score_ionq = calc_score_from_str(qc_qasm, ionq)\n",
    "\n",
    "    c = qasm.circuit_from_qasm(qc_filepath)\n",
    "    b4.rebase_pass().apply(c)\n",
    "    PlacementPass(LinePlacement(rigetti_arch)).apply(c)\n",
    "    RoutingPass(ibm_arch).apply(c)\n",
    "    b4.rebase_pass().apply(c)\n",
    "    qc_qasm = qasm.circuit_to_qasm_str(c)\n",
    "    score_rigetti = calc_score_from_str(qc_qasm, rigetti_m1)\n",
    "    \n",
    "    return score_ibm, score_aqt, score_ionq, score_rigetti"
   ]
  },
  {
   "cell_type": "code",
   "execution_count": 155,
   "id": "a33147c2",
   "metadata": {},
   "outputs": [
    {
     "name": "stdout",
     "output_type": "stream",
     "text": [
      "grover-noancilla_indep_2.qasm 0\n",
      "(3.161125319693095, 0.05, 3.188097768331562)\n",
      "(3.161125319693095, 0.125, 0.0, 3.188097768331562)\n",
      "dj_indep_4.qasm 1\n",
      "(23.21462915601023, 0.125, 23.379383634431456)\n",
      "(38.69104859335038, 0.425, 0.15, 65.88735387885228)\n",
      "shor_15_2_indep_15.qasm 2\n",
      "(51322.05759590792, 437.375, 72785.33475026567)\n",
      "fail\n",
      "wstate_indep_8.qasm 3\n",
      "(70.3353452685422, 0.475, 207.22635494155156)\n",
      "(104.05401534526854, 1.675, 0.2, 5336.521431101665)\n",
      "portfolioqaoa_indep_5.qasm 4\n",
      "(228.32675191815855, 1.4749999999999999, 177.47077577045695)\n",
      "(523.8607672634271, 4.15, 0.625, 5922.777187389302)\n",
      "dj_indep_5.qasm 5\n",
      "(28.84542199488491, 0.15, 29.04711300035423)\n",
      "(65.4290537084399, 0.45, 0.15, 77.93127878143818)\n",
      "qft_indep_8.qasm 6\n",
      "(195.95795396419436, 1.35, 204.74672334396033)\n",
      "fail\n",
      "grover-noancilla_indep_3.qasm 7\n",
      "(53.11375959079284, 0.35, 49.94686503719447)\n",
      "(77.38209718670076, 1.25, 0.15, 125.75274530641161)\n",
      "grover-noancilla_indep_4.qasm 8\n",
      "(259.2795907928388, 1.9, 266.73751328374067)\n",
      "(475.6863427109974, 4.725, 0.925, 5744.243712362735)\n",
      "ghz_indep_5.qasm 9\n",
      "(25.684296675191813, 0.225, 38.61140630534892)\n",
      "(25.684296675191813, 0.4, 0.0, 38.61140630534892)\n",
      "dj_indep_2.qasm 10\n",
      "(11.95304347826087, 0.075, 12.0439249025859)\n",
      "(13.006751918158567, 0.375, 0.075, 15.232022670917463)\n",
      "vqe_indep_5.qasm 11\n",
      "(80.21401534526854, 0.375, 334.750265674814)\n",
      "(270.2119693094629, 1.15, 0.075, 417.2865745660645)\n",
      "pricingput_indep_5.qasm 12\n",
      "(4069.8381585677744, 25.975, 3963.8682252922426)\n",
      "(8284.598567774934, 70.4, 8.725, 18277.718738930216)\n",
      "qaoa_indep_5.qasm 13\n",
      "(87.58997442455242, 0.6, 81.11937654976975)\n",
      "(127.3347314578005, 1.5, 0.05, 5204.03825717322)\n",
      "qpeexact_indep_8.qasm 14\n",
      "(265.9640920716112, 1.7, 269.92561105207227)\n",
      "fail\n",
      "dj_indep_3.qasm 15\n",
      "(17.58383631713555, 0.1, 17.711654268508678)\n",
      "(18.637544757033247, 0.4, 0.15, 27.275947573503366)\n",
      "grover-noancilla_indep_5.qasm 16\n",
      "(974.1259335038362, 6.875, 1046.758767268863)\n",
      "(1656.7356521739127, 18.2, 4.4, 7656.748140276302)\n",
      "ae_indep_8.qasm 17\n",
      "(290.1663427109974, 1.7, 274.17640807651435)\n",
      "fail\n",
      "hhl_indep_2.qasm 18\n",
      "(14705.863631713553, 92.27499999999999, 13503.010981225647)\n",
      "fail\n",
      "qpeinexact_indep_8.qasm 19\n",
      "(265.9640920716112, 1.7249999999999999, 269.92561105207227)\n",
      "fail\n",
      "qftentangled_indep_8.qasm 20\n",
      "(204.7498721227621, 1.425, 278.7814381863266)\n",
      "fail\n",
      "grover-v-chain_indep_5.qasm 21\n",
      "(976.2333503836317, 6.8, 1026.5674814027632)\n",
      "fail\n",
      "grover-v-chain_indep_4.qasm 22\n",
      "(259.2795907928388, 1.9, 266.73751328374067)\n",
      "(475.6863427109974, 4.725, 0.925, 5744.243712362735)\n",
      "qgan_indep_5.qasm 23\n",
      "(40.436214833759585, 0.25, 46.05030109812257)\n",
      "(170.24061381074165, 1.625, 0.1, 203.6840240878498)\n",
      "grover_indep_5.qasm 24\n",
      "(976.2333503836317, 6.8, 1026.5674814027632)\n",
      "fail\n",
      "hhl_indep_8.qasm 25\n",
      "(14705.863631713553, 92.27499999999999, 13503.010981225647)\n",
      "fail\n",
      "vqerandom_indep_8.qasm 26\n",
      "(130.89115089514064, 0.6, 583.4218916046759)\n",
      "(517.9338107416879, 1.975, 0.075, 957.8462628409494)\n",
      "grover-v-chain_indep_3.qasm 27\n",
      "(53.11375959079284, 0.35, 49.94686503719447)\n",
      "(77.38209718670076, 1.25, 0.15, 125.75274530641161)\n",
      "pricingcall_indep_5.qasm 28\n",
      "(3971.4149360613806, 25.75, 3972.0155862557563)\n",
      "(8238.99294117647, 70.25, 8.725, 18233.085370173576)\n",
      "portfoliovqe_indep_5.qasm 29\n",
      "(91.08030690537083, 0.55, 109.10379029401346)\n",
      "(472.39304347826084, 3.925, 0.1, 599.0081473609634)\n",
      "graphstate_indep_8.qasm 30\n",
      "(35.1676726342711, 0.2, 25.85901523202267)\n",
      "(100.26751918158567, 1.0250000000000001, 0.0, 5374.424371236273)\n",
      "hhl_indep_5.qasm 31\n",
      "(1373.4496163682863, 8.149999999999999, 1344.6687920651789)\n",
      "fail\n",
      "qwalk_indep_5.qasm 32\n",
      "(1440.558976982097, 10.149999999999999, 1386.8225292242294)\n",
      "fail\n",
      "grover-v-chain_indep_2.qasm 33\n",
      "(3.161125319693095, 0.05, 3.188097768331562)\n",
      "(3.161125319693095, 0.125, 0.0, 3.188097768331562)\n",
      "tsp_indep_3.qasm 34\n",
      "(145.93923273657288, 0.85, 109.8122564647538)\n",
      "(169.12081841432223, 3.25, 0.15, 6165.072617782501)\n"
     ]
    }
   ],
   "source": [
    "import os\n",
    "i = 0\n",
    "path_to_all_files = \"../MQTbench/qasm_output\"\n",
    "res = dict()\n",
    "for file in os.listdir(path_to_all_files):\n",
    "    if \"indep\" in file:\n",
    "        print(file, i)\n",
    "        filepath = os.path.join(path_to_all_files, file)\n",
    "\n",
    "        try:        \n",
    "            print(get_qiskit_scores(filepath))\n",
    "            print(get_tket_scores(filepath))\n",
    "        except:\n",
    "            print(\"fail\")\n",
    "        i+=1\n",
    "        if i>100:\n",
    "            break"
   ]
  },
  {
   "cell_type": "code",
   "execution_count": 135,
   "id": "08fd3bc3",
   "metadata": {},
   "outputs": [],
   "source": [
    "def get_cmap_imbq_washington():\n",
    "    \"\"\"Returns the coupling map of the IBM-Q washington quantum computer.\"\"\"\n",
    "    c_map_ibmq_washington = [\n",
    "        [0, 1],\n",
    "        [1, 2],\n",
    "        [2, 3],\n",
    "        [3, 4],\n",
    "        [4, 5],\n",
    "        [5, 6],\n",
    "        [6, 7],\n",
    "        [7, 8],\n",
    "        [0, 14],\n",
    "        [14, 18],\n",
    "        [18, 19],\n",
    "        [19, 20],\n",
    "        [20, 21],\n",
    "        [21, 22],\n",
    "        [4, 15],\n",
    "        [15, 22],\n",
    "        [22, 23],\n",
    "        [23, 24],\n",
    "        [24, 25],\n",
    "        [25, 26],\n",
    "        [8, 16],\n",
    "        [16, 26],\n",
    "        [26, 27],\n",
    "        [27, 28],\n",
    "        [28, 29],\n",
    "        [29, 30],\n",
    "        [30, 31],\n",
    "        [31, 32],\n",
    "        [9, 10],\n",
    "        [10, 11],\n",
    "        [11, 12],\n",
    "        [12, 13],\n",
    "        [12, 17],\n",
    "        [17, 30],\n",
    "        [32, 36],\n",
    "        [36, 51],\n",
    "        [20, 33],\n",
    "        [33, 39],\n",
    "        [24, 34],\n",
    "        [34, 43],\n",
    "        [28, 35],\n",
    "        [35, 47],\n",
    "        [37, 38],\n",
    "        [38, 39],\n",
    "        [39, 40],\n",
    "        [40, 41],\n",
    "        [41, 42],\n",
    "        [42, 43],\n",
    "        [43, 44],\n",
    "        [44, 45],\n",
    "        [45, 46],\n",
    "        [46, 47],\n",
    "        [47, 48],\n",
    "        [48, 49],\n",
    "        [49, 50],\n",
    "        [50, 51],\n",
    "        [37, 52],\n",
    "        [52, 56],\n",
    "        [41, 53],\n",
    "        [53, 60],\n",
    "        [45, 54],\n",
    "        [54, 64],\n",
    "        [49, 55],\n",
    "        [55, 68],\n",
    "        [56, 57],\n",
    "        [57, 58],\n",
    "        [58, 59],\n",
    "        [59, 60],\n",
    "        [60, 61],\n",
    "        [61, 62],\n",
    "        [62, 63],\n",
    "        [63, 64],\n",
    "        [64, 65],\n",
    "        [65, 66],\n",
    "        [66, 67],\n",
    "        [67, 68],\n",
    "        [68, 69],\n",
    "        [69, 70],\n",
    "        [70, 74],\n",
    "        [74, 89],\n",
    "        [58, 71],\n",
    "        [71, 77],\n",
    "        [62, 72],\n",
    "        [72, 81],\n",
    "        [66, 73],\n",
    "        [73, 85],\n",
    "        [75, 76],\n",
    "        [76, 77],\n",
    "        [77, 78],\n",
    "        [78, 79],\n",
    "        [79, 80],\n",
    "        [80, 81],\n",
    "        [81, 82],\n",
    "        [82, 83],\n",
    "        [83, 84],\n",
    "        [84, 85],\n",
    "        [85, 86],\n",
    "        [86, 87],\n",
    "        [87, 88],\n",
    "        [88, 89],\n",
    "        [75, 90],\n",
    "        [90, 94],\n",
    "        [79, 91],\n",
    "        [91, 98],\n",
    "        [83, 92],\n",
    "        [92, 102],\n",
    "        [87, 93],\n",
    "        [93, 106],\n",
    "        [94, 95],\n",
    "        [95, 96],\n",
    "        [96, 97],\n",
    "        [97, 98],\n",
    "        [98, 99],\n",
    "        [99, 100],\n",
    "        [100, 101],\n",
    "        [101, 102],\n",
    "        [102, 103],\n",
    "        [103, 104],\n",
    "        [104, 105],\n",
    "        [105, 106],\n",
    "        [106, 107],\n",
    "        [107, 108],\n",
    "        [108, 112],\n",
    "        [112, 126],\n",
    "        [96, 109],\n",
    "        [100, 110],\n",
    "        [110, 118],\n",
    "        [104, 111],\n",
    "        [111, 122],\n",
    "        [113, 114],\n",
    "        [114, 115],\n",
    "        [115, 116],\n",
    "        [116, 117],\n",
    "        [117, 118],\n",
    "        [118, 119],\n",
    "        [119, 120],\n",
    "        [120, 121],\n",
    "        [121, 122],\n",
    "        [122, 123],\n",
    "        [123, 124],\n",
    "        [124, 125],\n",
    "        [125, 126],\n",
    "    ]\n",
    "\n",
    "    inverted = [[item[1], item[0]] for item in c_map_ibmq_washington]\n",
    "    c_map_ibmq_washington = c_map_ibmq_washington + inverted\n",
    "    return c_map_ibmq_washington"
   ]
  },
  {
   "cell_type": "code",
   "execution_count": 136,
   "id": "2b75a3cd",
   "metadata": {
    "scrolled": false
   },
   "outputs": [],
   "source": [
    "def get_rigetti_c_map(circles: int = 4):\n",
    "    \"\"\"Returns a coupling map of the circular layout scheme used by Rigetti.\n",
    "\n",
    "    Keyword arguments:\n",
    "    circles -- number of circles, each one comprises 8 qubits\n",
    "    \"\"\"\n",
    "    if circles != 10:\n",
    "        c_map_rigetti = []\n",
    "        for j in range(circles):\n",
    "            for i in range(0, 7):\n",
    "                c_map_rigetti.append([i + j * 8, i + 1 + j * 8])\n",
    "\n",
    "                if i == 6:\n",
    "                    c_map_rigetti.append([0 + j * 8, 7 + j * 8])\n",
    "\n",
    "            if j != 0:\n",
    "                c_map_rigetti.append([j * 8 - 6, j * 8 + 5])\n",
    "                c_map_rigetti.append([j * 8 - 7, j * 8 + 6])\n",
    "\n",
    "        inverted = [[item[1], item[0]] for item in c_map_rigetti]\n",
    "        c_map_rigetti = c_map_rigetti + inverted\n",
    "    else:\n",
    "        c_map_rigetti = []\n",
    "        for j in range(5):\n",
    "            for i in range(0, 7):\n",
    "                c_map_rigetti.append([i + j * 8, i + 1 + j * 8])\n",
    "\n",
    "                if i == 6:\n",
    "                    c_map_rigetti.append([0 + j * 8, 7 + j * 8])\n",
    "\n",
    "            if j != 0:\n",
    "                c_map_rigetti.append([j * 8 - 6, j * 8 + 5])\n",
    "                c_map_rigetti.append([j * 8 - 7, j * 8 + 6])\n",
    "\n",
    "        for j in range(5):\n",
    "            m = 8 * j + 5 * 8\n",
    "            for i in range(0, 7):\n",
    "                c_map_rigetti.append([i + m, i + 1 + m])\n",
    "\n",
    "                if i == 6:\n",
    "                    c_map_rigetti.append([0 + m, 7 + m])\n",
    "\n",
    "            if j != 0:\n",
    "                c_map_rigetti.append([m - 6, m + 5])\n",
    "                c_map_rigetti.append([m - 7, m + 6])\n",
    "\n",
    "        for n in range(5):\n",
    "            c_map_rigetti.append([n * 8 + 3, n * 8 + 5 * 8])\n",
    "            c_map_rigetti.append([n * 8 + 4, n * 8 + 7 + 5 * 8])\n",
    "\n",
    "        inverted = [[item[1], item[0]] for item in c_map_rigetti]\n",
    "        c_map_rigetti = c_map_rigetti + inverted\n",
    "\n",
    "    return c_map_rigetti"
   ]
  },
  {
   "cell_type": "markdown",
   "id": "7ba4bcd1",
   "metadata": {},
   "source": [
    "# Pennylane"
   ]
  },
  {
   "cell_type": "code",
   "execution_count": null,
   "id": "975af259",
   "metadata": {},
   "outputs": [],
   "source": [
    "import pennylane as qml\n",
    "from pennylane import numpy as np"
   ]
  },
  {
   "cell_type": "code",
   "execution_count": null,
   "id": "6271e83e",
   "metadata": {},
   "outputs": [],
   "source": [
    "ibm_native_gates = FakeMontreal().configuration().basis_gates\n",
    "rigetti_native_gates = [\"rx\", \"rz\", \"cz\"]\n",
    "ibm_native_gates\n",
    "\n",
    "dev = qml.device('default.qubit', wires=[0, 1, 2])\n",
    "qnode = qml.QNode(qfunc, dev)\n",
    "print(qml.draw(qnode)(0.2, 0.3, 0.4))\n",
    "\n",
    "compiled_qfunc = qml.compile(basis_set=rigetti_native_gates)(qfunc)\n",
    "compiled_qnode = qml.QNode(compiled_qfunc, dev)\n",
    "print(qml.draw(compiled_qnode)(0.2, 0.3, 0.4))"
   ]
  },
  {
   "cell_type": "code",
   "execution_count": null,
   "id": "288fc804",
   "metadata": {},
   "outputs": [],
   "source": [
    "path_file = \"../MQTbench/qasm_output/dj_indep_4.qasm\"\n",
    "with open (path_file, \"r\") as myfile:\n",
    "    data = myfile.read()\n",
    "my_circuit = qml.from_qasm(data)\n",
    "\n",
    "n=4\n",
    "dev = qml.device('default.qubit', wires=n)\n",
    "@qml.qnode(dev)\n",
    "def circuit():\n",
    "    my_circuit(wires=tuple(range(n)))\n",
    "    return [qml.expval(qml.PauliZ(i)) for i in range(n)]\n",
    "\n",
    "#circuit()\n",
    "#print(dev._circuit.qasm(formatted=True))"
   ]
  },
  {
   "cell_type": "code",
   "execution_count": null,
   "id": "be022fce",
   "metadata": {},
   "outputs": [],
   "source": [
    "pennylane_ibm=[\"RZ\", \"SX\", \"PauliX\", \"CNOT\"]\n",
    "pennylane_rigetti=[\"RX\", \"RZ\", \"CZ\"]"
   ]
  },
  {
   "cell_type": "code",
   "execution_count": null,
   "id": "94017cf2",
   "metadata": {},
   "outputs": [],
   "source": [
    "compiled_qfunc1 = qml.compile()(circuit)\n",
    "compiled_qnode1 = qml.QNode(compiled_qfunc1, dev)\n",
    "print(qml.draw(compiled_qnode1)())\n",
    "\n",
    "compiled_qfunc2 = qml.compile(\n",
    "    basis_set=[\"CNOT\", \"RX\", \"RY\", \"RZ\"],\n",
    "    num_passes=2\n",
    ")(circuit)\n",
    "\n",
    "compiled_qnode2 = qml.QNode(compiled_qfunc2, dev)\n",
    "print(qml.draw(compiled_qnode2)())"
   ]
  },
  {
   "cell_type": "code",
   "execution_count": null,
   "id": "a08ff5ba",
   "metadata": {},
   "outputs": [],
   "source": [
    "def qfunc(x, y, z):\n",
    "    qml.Hadamard(wires=0)\n",
    "    qml.Hadamard(wires=1)\n",
    "    qml.Hadamard(wires=2)\n",
    "    qml.RZ(z, wires=2)\n",
    "    qml.CNOT(wires=[2, 1])\n",
    "    qml.RX(z, wires=0)\n",
    "    qml.CNOT(wires=[1, 0])\n",
    "    qml.RX(x, wires=0)\n",
    "    qml.CNOT(wires=[1, 0])\n",
    "    qml.RZ(-z, wires=2)\n",
    "    qml.RX(y, wires=2)\n",
    "    qml.PauliY(wires=2)\n",
    "    qml.CY(wires=[1, 2])\n",
    "    return qml.expval(qml.PauliZ(wires=0))\n",
    "\n",
    "dev = qml.device('default.qubit', wires=[0, 1, 2])\n",
    "qnode = qml.QNode(qfunc, dev)\n",
    "print(qml.draw(qnode)(0.2, 0.3, 0.4))\n",
    "\n",
    "compiled_qfunc = qml.compile(\n",
    "    pipeline=[\n",
    "        qml.transforms.commute_controlled(direction=\"left\"),\n",
    "        qml.transforms.merge_rotations(atol=1e-6),\n",
    "        qml.transforms.cancel_inverses\n",
    "    ],\n",
    "    basis_set=[\"CNOT\", \"RX\", \"RY\", \"CZ\"],\n",
    "    num_passes=2\n",
    ")(qfunc)\n",
    "\n",
    "compiled_qnode = qml.QNode(compiled_qfunc, dev)\n",
    "print(qml.draw(compiled_qnode)(0.2, 0.3, 0.4))"
   ]
  },
  {
   "cell_type": "code",
   "execution_count": null,
   "id": "7d3b37ba",
   "metadata": {
    "scrolled": true
   },
   "outputs": [],
   "source": [
    "def qfunc():\n",
    "    qml.Hadamard(wires=0)    \n",
    "    qml.Hadamard(wires=1)\n",
    "    qml.Hadamard(wires=2)\n",
    "    qml.RZ(-0.4, wires=2)\n",
    "    qml.CNOT(wires=[2, 1])\n",
    "    qml.RX(-0.4, wires=0)\n",
    "    qml.CNOT(wires=[1, 0])\n",
    "    qml.RX(-0.4, wires=0)\n",
    "    qml.CNOT(wires=[1, 0])\n",
    "    qml.RZ(-0.4, wires=2)\n",
    "    qml.RX(1, wires=2)\n",
    "    qml.PauliY(wires=2)\n",
    "    qml.CY(wires=[1, 2])\n",
    "    return [qml.expval(qml.PauliZ(i)) for i in range(2)]\n",
    "\n",
    "dev = qml.device('default.qubit', wires=[0, 1, 2])\n",
    "qnode = qml.QNode(qfunc, dev)\n",
    "print(qml.draw(qnode)())\n",
    "\n",
    "compiled_qfunc = qml.compile(\n",
    "    basis_set=[\"CNOT\", \"Rdawd\", \"wdfawdaw\", \"dawd\"],\n",
    "    num_passes=20\n",
    ")(qfunc)\n",
    "\n",
    "compiled_qnode = qml.QNode(compiled_qfunc, dev)\n",
    "print(qml.draw(compiled_qnode)())"
   ]
  },
  {
   "cell_type": "markdown",
   "id": "e21c98ac",
   "metadata": {},
   "source": [
    "# ProjectQ"
   ]
  },
  {
   "cell_type": "code",
   "execution_count": null,
   "id": "92562782",
   "metadata": {},
   "outputs": [],
   "source": [
    "\n",
    "import projectq.setups.ibm as ibm_setup"
   ]
  },
  {
   "cell_type": "markdown",
   "id": "21090d67",
   "metadata": {},
   "source": [
    "# Microsoft QDK"
   ]
  },
  {
   "cell_type": "code",
   "execution_count": null,
   "id": "baf3e439",
   "metadata": {},
   "outputs": [],
   "source": []
  },
  {
   "cell_type": "markdown",
   "id": "02189cd9",
   "metadata": {},
   "source": [
    "# Old"
   ]
  },
  {
   "cell_type": "code",
   "execution_count": null,
   "id": "1b396b71",
   "metadata": {
    "pycharm": {
     "is_executing": true
    }
   },
   "outputs": [],
   "source": [
    "import os\n",
    "i = 0\n",
    "path_to_all_files = \"../MQTbench/qasm_output\"\n",
    "res = dict()\n",
    "for file in os.listdir(path_to_all_files):\n",
    "    print (file)\n",
    "    if \"ibm\" in file:\n",
    "        score = calc_score_from_path(os.path.join(path_to_all_files, file), ibm_washington)\n",
    "        res[file] = score\n",
    "    elif \"rigetti\" in file:\n",
    "        score= calc_score_from_path(os.path.join(path_to_all_files, file), rigetti_m1)\n",
    "        res[file] = score\n",
    "    i+=1\n",
    "    if i>50:\n",
    "        break"
   ]
  }
 ],
 "metadata": {
  "kernelspec": {
   "display_name": "Python 3 (ipykernel)",
   "language": "python",
   "name": "python3"
  },
  "language_info": {
   "codemirror_mode": {
    "name": "ipython",
    "version": 3
   },
   "file_extension": ".py",
   "mimetype": "text/x-python",
   "name": "python",
   "nbconvert_exporter": "python",
   "pygments_lexer": "ipython3",
   "version": "3.9.7"
  }
 },
 "nbformat": 4,
 "nbformat_minor": 5
}
