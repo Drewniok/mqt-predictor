{
 "cells": [
  {
   "cell_type": "markdown",
   "id": "e4464aaf",
   "metadata": {},
   "source": [
    "# Cirq"
   ]
  },
  {
   "cell_type": "code",
   "execution_count": 10,
   "id": "c7ded9db",
   "metadata": {},
   "outputs": [],
   "source": [
    "import cirq\n",
    "from cirq.contrib.svg import SVGCircuit\n",
    "\n",
    "def get_cirq_compilation(qasm_qc, target):\n",
    "    if \"ibm\" in target:\n",
    "        pass\n",
    "    elif \"rigetti\" in target:\n",
    "        pass\n",
    "    elif \"ionq\" in target:\n",
    "        pass"
   ]
  },
  {
   "cell_type": "code",
   "execution_count": 13,
   "id": "099f6993",
   "metadata": {},
   "outputs": [
    {
     "ename": "FileNotFoundError",
     "evalue": "[Errno 2] No such file or directory: '../MQTbench/mqt/bench/qasm_output/su2random_indep_4.qasm'",
     "output_type": "error",
     "traceback": [
      "\u001b[0;31m---------------------------------------------------------------------------\u001b[0m",
      "\u001b[0;31mFileNotFoundError\u001b[0m                         Traceback (most recent call last)",
      "\u001b[0;32m/var/folders/f4/n3_mnvbd6q50h0gtzy84vyn40000gn/T/ipykernel_22392/1541880137.py\u001b[0m in \u001b[0;36m<module>\u001b[0;34m\u001b[0m\n\u001b[1;32m      1\u001b[0m \u001b[0;32mfrom\u001b[0m \u001b[0mcirq\u001b[0m\u001b[0;34m.\u001b[0m\u001b[0mcontrib\u001b[0m\u001b[0;34m.\u001b[0m\u001b[0mqasm_import\u001b[0m \u001b[0;32mimport\u001b[0m \u001b[0mcircuit_from_qasm\u001b[0m\u001b[0;34m\u001b[0m\u001b[0;34m\u001b[0m\u001b[0m\n\u001b[0;32m----> 2\u001b[0;31m \u001b[0mtest\u001b[0m \u001b[0;34m=\u001b[0m \u001b[0mopen\u001b[0m\u001b[0;34m(\u001b[0m\u001b[0;34m'../MQTbench/mqt/bench/qasm_output/su2random_indep_4.qasm'\u001b[0m\u001b[0;34m,\u001b[0m \u001b[0;34m'r'\u001b[0m\u001b[0;34m)\u001b[0m\u001b[0;34m.\u001b[0m\u001b[0mread\u001b[0m\u001b[0;34m(\u001b[0m\u001b[0;34m)\u001b[0m\u001b[0;34m\u001b[0m\u001b[0;34m\u001b[0m\u001b[0m\n\u001b[0m\u001b[1;32m      3\u001b[0m \u001b[0mion_circuit\u001b[0m \u001b[0;34m=\u001b[0m \u001b[0mcirq\u001b[0m\u001b[0;34m.\u001b[0m\u001b[0mion\u001b[0m\u001b[0;34m.\u001b[0m\u001b[0mConvertToIonGates\u001b[0m\u001b[0;34m(\u001b[0m\u001b[0;34m)\u001b[0m\u001b[0;34m.\u001b[0m\u001b[0mconvert_circuit\u001b[0m\u001b[0;34m(\u001b[0m\u001b[0mcircuit\u001b[0m\u001b[0;34m)\u001b[0m\u001b[0;34m\u001b[0m\u001b[0;34m\u001b[0m\u001b[0m\n\u001b[1;32m      4\u001b[0m \u001b[0mprint\u001b[0m\u001b[0;34m(\u001b[0m\u001b[0mion_circuit\u001b[0m\u001b[0;34m)\u001b[0m\u001b[0;34m\u001b[0m\u001b[0;34m\u001b[0m\u001b[0m\n",
      "\u001b[0;31mFileNotFoundError\u001b[0m: [Errno 2] No such file or directory: '../MQTbench/mqt/bench/qasm_output/su2random_indep_4.qasm'"
     ]
    }
   ],
   "source": [
    "from cirq.contrib.qasm_import import circuit_from_qasm\n",
    "test = open('../MQTbench/mqt/bench/qasm_output/su2random_indep_4.qasm', 'r').read()\n",
    "ion_circuit = cirq.ion.ConvertToIonGates().convert_circuit(circuit)\n",
    "print(ion_circuit)"
   ]
  },
  {
   "cell_type": "code",
   "execution_count": null,
   "id": "18873a2e",
   "metadata": {},
   "outputs": [],
   "source": [
    "import cirq_rigetti\n",
    "c = cirq_rigetti.circuit_transformers.default(circuit=circuit)\n",
    "print(c)\n",
    "\n",
    "SVGCircuit(c[0])"
   ]
  },
  {
   "cell_type": "code",
   "execution_count": null,
   "id": "011fcc62",
   "metadata": {},
   "outputs": [],
   "source": [
    "import cirq\n",
    "import cirq_ionq as ionq\n",
    "q0 = cirq.LineQubit(0)\n",
    "device = ionq.IonQAPIDevice([q0])\n",
    "circuit = cirq.Circuit(device=device)\n",
    "circuit.append(cirq.H(q0)**0.2) # Non-IonQ-API gate\n",
    "print(circuit) # will print the circuit converted into IonQ's target gateset"
   ]
  },
  {
   "cell_type": "markdown",
   "id": "7ba4bcd1",
   "metadata": {},
   "source": [
    "# Pennylane"
   ]
  },
  {
   "cell_type": "code",
   "execution_count": null,
   "id": "975af259",
   "metadata": {},
   "outputs": [],
   "source": [
    "import pennylane as qml\n",
    "from pennylane import numpy as np"
   ]
  },
  {
   "cell_type": "code",
   "execution_count": null,
   "id": "6271e83e",
   "metadata": {},
   "outputs": [],
   "source": [
    "ibm_native_gates = FakeMontreal().configuration().basis_gates\n",
    "rigetti_native_gates = [\"rx\", \"rz\", \"cz\"]\n",
    "ibm_native_gates\n",
    "\n",
    "dev = qml.device('default.qubit', wires=[0, 1, 2])\n",
    "qnode = qml.QNode(qfunc, dev)\n",
    "print(qml.draw(qnode)(0.2, 0.3, 0.4))\n",
    "\n",
    "compiled_qfunc = qml.compile(basis_set=rigetti_native_gates)(qfunc)\n",
    "compiled_qnode = qml.QNode(compiled_qfunc, dev)\n",
    "print(qml.draw(compiled_qnode)(0.2, 0.3, 0.4))"
   ]
  },
  {
   "cell_type": "code",
   "execution_count": null,
   "id": "288fc804",
   "metadata": {},
   "outputs": [],
   "source": [
    "path_file = \"../MQTbench/qasm_output/dj_indep_4.qasm\"\n",
    "with open (path_file, \"r\") as myfile:\n",
    "    data = myfile.read()\n",
    "my_circuit = qml.from_qasm(data)\n",
    "\n",
    "n=4\n",
    "dev = qml.device('default.qubit', wires=n)\n",
    "@qml.qnode(dev)\n",
    "def circuit():\n",
    "    my_circuit(wires=tuple(range(n)))\n",
    "    return [qml.expval(qml.PauliZ(i)) for i in range(n)]\n",
    "\n",
    "#circuit()\n",
    "#print(dev._circuit.qasm(formatted=True))"
   ]
  },
  {
   "cell_type": "code",
   "execution_count": null,
   "id": "be022fce",
   "metadata": {},
   "outputs": [],
   "source": [
    "pennylane_ibm=[\"RZ\", \"SX\", \"PauliX\", \"CNOT\"]\n",
    "pennylane_rigetti=[\"RX\", \"RZ\", \"CZ\"]"
   ]
  },
  {
   "cell_type": "code",
   "execution_count": null,
   "id": "94017cf2",
   "metadata": {},
   "outputs": [],
   "source": [
    "compiled_qfunc1 = qml.compile()(circuit)\n",
    "compiled_qnode1 = qml.QNode(compiled_qfunc1, dev)\n",
    "print(qml.draw(compiled_qnode1)())\n",
    "\n",
    "compiled_qfunc2 = qml.compile(\n",
    "    basis_set=[\"CNOT\", \"RX\", \"RY\", \"RZ\"],\n",
    "    num_passes=2\n",
    ")(circuit)\n",
    "\n",
    "compiled_qnode2 = qml.QNode(compiled_qfunc2, dev)\n",
    "print(qml.draw(compiled_qnode2)())"
   ]
  },
  {
   "cell_type": "code",
   "execution_count": null,
   "id": "a08ff5ba",
   "metadata": {},
   "outputs": [],
   "source": [
    "def qfunc(x, y, z):\n",
    "    qml.Hadamard(wires=0)\n",
    "    qml.Hadamard(wires=1)\n",
    "    qml.Hadamard(wires=2)\n",
    "    qml.RZ(z, wires=2)\n",
    "    qml.CNOT(wires=[2, 1])\n",
    "    qml.RX(z, wires=0)\n",
    "    qml.CNOT(wires=[1, 0])\n",
    "    qml.RX(x, wires=0)\n",
    "    qml.CNOT(wires=[1, 0])\n",
    "    qml.RZ(-z, wires=2)\n",
    "    qml.RX(y, wires=2)\n",
    "    qml.PauliY(wires=2)\n",
    "    qml.CY(wires=[1, 2])\n",
    "    return qml.expval(qml.PauliZ(wires=0))\n",
    "\n",
    "dev = qml.device('default.qubit', wires=[0, 1, 2])\n",
    "qnode = qml.QNode(qfunc, dev)\n",
    "print(qml.draw(qnode)(0.2, 0.3, 0.4))\n",
    "\n",
    "compiled_qfunc = qml.compile(\n",
    "    pipeline=[\n",
    "        qml.transforms.commute_controlled(direction=\"left\"),\n",
    "        qml.transforms.merge_rotations(atol=1e-6),\n",
    "        qml.transforms.cancel_inverses\n",
    "    ],\n",
    "    basis_set=[\"CNOT\", \"RX\", \"RY\", \"CZ\"],\n",
    "    num_passes=2\n",
    ")(qfunc)\n",
    "\n",
    "compiled_qnode = qml.QNode(compiled_qfunc, dev)\n",
    "print(qml.draw(compiled_qnode)(0.2, 0.3, 0.4))"
   ]
  },
  {
   "cell_type": "code",
   "execution_count": null,
   "id": "7d3b37ba",
   "metadata": {
    "scrolled": true
   },
   "outputs": [],
   "source": [
    "def qfunc():\n",
    "    qml.Hadamard(wires=0)    \n",
    "    qml.Hadamard(wires=1)\n",
    "    qml.Hadamard(wires=2)\n",
    "    qml.RZ(-0.4, wires=2)\n",
    "    qml.CNOT(wires=[2, 1])\n",
    "    qml.RX(-0.4, wires=0)\n",
    "    qml.CNOT(wires=[1, 0])\n",
    "    qml.RX(-0.4, wires=0)\n",
    "    qml.CNOT(wires=[1, 0])\n",
    "    qml.RZ(-0.4, wires=2)\n",
    "    qml.RX(1, wires=2)\n",
    "    qml.PauliY(wires=2)\n",
    "    qml.CY(wires=[1, 2])\n",
    "    return [qml.expval(qml.PauliZ(i)) for i in range(2)]\n",
    "\n",
    "dev = qml.device('default.qubit', wires=[0, 1, 2])\n",
    "qnode = qml.QNode(qfunc, dev)\n",
    "print(qml.draw(qnode)())\n",
    "\n",
    "compiled_qfunc = qml.compile(\n",
    "    basis_set=[\"CNOT\", \"Rdawd\", \"wdfawdaw\", \"dawd\"],\n",
    "    num_passes=20\n",
    ")(qfunc)\n",
    "\n",
    "compiled_qnode = qml.QNode(compiled_qfunc, dev)\n",
    "print(qml.draw(compiled_qnode)())"
   ]
  },
  {
   "cell_type": "markdown",
   "id": "02189cd9",
   "metadata": {},
   "source": [
    "# Machine Learning Model"
   ]
  },
  {
   "cell_type": "code",
   "execution_count": 1,
   "id": "bdd5ecf7",
   "metadata": {},
   "outputs": [],
   "source": [
    "import tensorflow as tf\n",
    "from tensorflow import keras\n",
    "from tensorflow.keras import layers"
   ]
  },
  {
   "cell_type": "code",
   "execution_count": 14,
   "id": "754c48f6",
   "metadata": {},
   "outputs": [
    {
     "name": "stdout",
     "output_type": "stream",
     "text": [
      "Downloading data from https://storage.googleapis.com/tensorflow/tf-keras-datasets/mnist.npz\n",
      "11493376/11490434 [==============================] - 0s 0us/step\n",
      "11501568/11490434 [==============================] - 0s 0us/step\n"
     ]
    }
   ],
   "source": [
    "mnist = tf.keras.datasets.mnist\n",
    "\n",
    "(x_train, y_train), (x_test, y_test) = mnist.load_data()\n",
    "x_train, x_test = x_train / 255.0, x_test / 255.0"
   ]
  },
  {
   "cell_type": "code",
   "execution_count": 22,
   "id": "9cacb562",
   "metadata": {},
   "outputs": [
    {
     "name": "stderr",
     "output_type": "stream",
     "text": [
      "2022-03-24 15:32:09.189384: I tensorflow/core/grappler/optimizers/custom_graph_optimizer_registry.cc:113] Plugin optimizer for device_type GPU is enabled.\n"
     ]
    },
    {
     "name": "stdout",
     "output_type": "stream",
     "text": [
      "313/313 - 1s - loss: 0.0699 - accuracy: 0.9782 - 1s/epoch - 4ms/step\n"
     ]
    },
    {
     "data": {
      "text/plain": [
       "[0.06987350434064865, 0.9782000184059143]"
      ]
     },
     "execution_count": 22,
     "metadata": {},
     "output_type": "execute_result"
    }
   ],
   "source": [
    "model.evaluate(x_test,  y_test, verbose=2)"
   ]
  },
  {
   "cell_type": "code",
   "execution_count": 23,
   "id": "06c50646",
   "metadata": {},
   "outputs": [],
   "source": [
    "probability_model = tf.keras.Sequential([\n",
    "  model,\n",
    "  tf.keras.layers.Softmax()\n",
    "])"
   ]
  },
  {
   "cell_type": "code",
   "execution_count": 24,
   "id": "1aa57ee5",
   "metadata": {},
   "outputs": [
    {
     "data": {
      "text/plain": [
       "<tf.Tensor: shape=(5, 10), dtype=float32, numpy=\n",
       "array([[1.61644095e-07, 1.43269858e-07, 4.41609700e-06, 1.33631716e-03,\n",
       "        3.49819218e-09, 3.56963005e-06, 8.81849760e-10, 9.98581648e-01,\n",
       "        1.75721379e-05, 5.61770830e-05],\n",
       "       [5.36965814e-08, 4.86371660e-04, 9.99352634e-01, 1.58076102e-04,\n",
       "        4.83236368e-12, 2.66078274e-07, 4.82783491e-07, 1.39725427e-12,\n",
       "        2.11429119e-06, 3.06094768e-11],\n",
       "       [1.43877037e-06, 9.99599755e-01, 7.32547123e-05, 2.63284965e-05,\n",
       "        3.59330115e-05, 7.65023287e-06, 3.27832531e-05, 1.42501056e-04,\n",
       "        7.94223160e-05, 9.00848477e-07],\n",
       "       [9.99954581e-01, 1.00921858e-08, 1.31901525e-05, 3.07816386e-08,\n",
       "        1.21074237e-07, 1.11040379e-06, 2.26913235e-05, 2.17096317e-06,\n",
       "        8.86725182e-09, 6.08828850e-06],\n",
       "       [1.36675214e-06, 9.67644229e-11, 2.77127157e-07, 1.45685732e-07,\n",
       "        9.39869940e-01, 2.41013004e-06, 1.90321373e-06, 1.39823474e-04,\n",
       "        4.66320080e-06, 5.99794798e-02]], dtype=float32)>"
      ]
     },
     "execution_count": 24,
     "metadata": {},
     "output_type": "execute_result"
    }
   ],
   "source": [
    "probability_model(x_test[:5])"
   ]
  },
  {
   "cell_type": "markdown",
   "id": "d7a71c62",
   "metadata": {},
   "source": [
    "# Feature Vector Generation"
   ]
  },
  {
   "cell_type": "code",
   "execution_count": 2,
   "id": "2ad5560d",
   "metadata": {},
   "outputs": [],
   "source": [
    "from mqt.bench import benchmark_generator\n",
    "import matplotlib.pyplot as plt\n",
    "from evaluator.qiskit_plugin import *\n",
    "from evaluator.pytket_plugin import *\n",
    "import numpy as np"
   ]
  },
  {
   "cell_type": "code",
   "execution_count": 3,
   "id": "42f68a0d",
   "metadata": {},
   "outputs": [],
   "source": [
    "from evaluator.utils import get_openqasm_gates\n",
    "def dict_to_featurevector(gate_dict):\n",
    "    openqasm_gates_list = get_openqasm_gates()\n",
    "    res_dct = {openqasm_gates_list[i] for i in range(0, len(openqasm_gates_list))}\n",
    "    res_dct = dict.fromkeys(res_dct, 0)\n",
    "    for key, val in dict(gate_dict).items():\n",
    "        if not key in res_dct:\n",
    "            print(key, \"gate not found in openQASM 2.0 gateset\")\n",
    "        else:\n",
    "            res_dct[key] = val\n",
    "    return res_dct"
   ]
  },
  {
   "cell_type": "code",
   "execution_count": null,
   "id": "2d083877",
   "metadata": {},
   "outputs": [
    {
     "name": "stdout",
     "output_type": "stream",
     "text": [
      "dj 3\n",
      "dj 8\n",
      "dj 13\n",
      "dj 18\n",
      "dj 23\n",
      "dj 28\n",
      "dj 33\n",
      "dj 38\n",
      "dj 43\n",
      "dj 48\n",
      "ghz 3\n",
      "ghz 8\n",
      "ghz 13\n",
      "ghz 18\n",
      "ghz 23\n",
      "ghz 28\n",
      "ghz 33\n",
      "ghz 38\n",
      "ghz 43\n",
      "ghz 48\n",
      "wstate 3\n",
      "wstate 8\n",
      "wstate 13\n",
      "wstate 18\n",
      "wstate 23\n",
      "wstate 28\n",
      "wstate 33\n",
      "wstate 38\n",
      "wstate 43\n",
      "wstate 48\n",
      "graphstate 3\n",
      "graphstate 8\n",
      "graphstate 13\n",
      "graphstate 18\n",
      "graphstate 23\n",
      "graphstate 28\n",
      "graphstate 33\n",
      "graphstate 38\n",
      "graphstate 43\n",
      "graphstate 48\n",
      "ae 3\n",
      "fail:  Cannot parse gate of type: cp\n",
      "ae 8\n",
      "fail:  Cannot parse gate of type: cp\n",
      "ae 13\n",
      "fail:  Cannot parse gate of type: cp\n",
      "ae 18\n",
      "fail:  Cannot parse gate of type: cp\n",
      "ae 23\n",
      "fail:  Cannot parse gate of type: cp\n",
      "ae 28\n",
      "fail:  Cannot parse gate of type: cp\n",
      "ae 33\n",
      "fail:  Cannot parse gate of type: cp\n",
      "ae 38\n",
      "fail:  Cannot parse gate of type: cp\n",
      "ae 43\n",
      "fail:  Cannot parse gate of type: cp\n",
      "ae 48\n",
      "fail:  Cannot parse gate of type: cp\n",
      "qpeexact 3\n",
      "fail:  Cannot parse gate of type: cp\n",
      "qpeexact 8\n",
      "fail:  Cannot parse gate of type: cp\n",
      "qpeexact 13\n",
      "fail:  Cannot parse gate of type: cp\n",
      "qpeexact 18\n",
      "fail:  Cannot parse gate of type: cp\n",
      "qpeexact 23\n",
      "fail:  Cannot parse gate of type: cp\n",
      "qpeexact 28\n",
      "fail:  Cannot parse gate of type: cp\n",
      "qpeexact 33\n",
      "fail:  Cannot parse gate of type: cp\n",
      "qpeexact 38\n",
      "fail:  Cannot parse gate of type: cp\n",
      "qpeexact 43\n",
      "fail:  Cannot parse gate of type: cp\n",
      "qpeexact 48\n",
      "fail:  Cannot parse gate of type: cp\n",
      "twolocalrandom 3\n",
      "twolocalrandom 8\n",
      "twolocalrandom 13\n",
      "twolocalrandom 18\n",
      "twolocalrandom 23\n",
      "twolocalrandom 28\n",
      "twolocalrandom 33\n"
     ]
    }
   ],
   "source": [
    "benchmarks = [\"dj\", \"ghz\", \"wstate\", \"graphstate\", \"ae\", \"qpeexact\", \"twolocalrandom\", \"qft\", \"qftentangled\", \"su2random\" ]\n",
    "res = []\n",
    "for benchmark in benchmarks:\n",
    "    for num_qubits in range(3,50,5):\n",
    "        print(benchmark, num_qubits)\n",
    "        qc = benchmark_generator.get_one_benchmark(benchmark, 1, num_qubits)\n",
    "        qasm_qc = qc.qasm()\n",
    "        ops_list = qc.count_ops()\n",
    "        try:\n",
    "            best_arch = np.argmin(get_tket_scores(qasm_qc)+get_qiskit_scores(qasm_qc))\n",
    "            res.append((ops_list, best_arch, num_qubits))\n",
    "        except Exception as e:\n",
    "            print(\"fail: \", e)"
   ]
  },
  {
   "cell_type": "code",
   "execution_count": null,
   "id": "6f89baf7",
   "metadata": {},
   "outputs": [],
   "source": [
    "best_machine_index = []\n",
    "for elem in res:\n",
    "    best_machine_index.append(elem[1])\n",
    "plt.hist(best_machine_index)\n",
    "plt.xticks([0,1,2,3,4,5]);"
   ]
  },
  {
   "cell_type": "code",
   "execution_count": null,
   "id": "51fdfdc6",
   "metadata": {},
   "outputs": [],
   "source": [
    "x_train, y_train = zip(*training_data)\n",
    "with open('x_train.csv', 'w') as FOUT:\n",
    "    np.savetxt(FOUT, x_train)\n",
    "with open('y_train.csv', 'w') as FOUT:\n",
    "    np.savetxt(FOUT, y_train)"
   ]
  },
  {
   "cell_type": "code",
   "execution_count": null,
   "id": "9539d47d",
   "metadata": {},
   "outputs": [],
   "source": [
    "from numpy import genfromtxt\n",
    "X_train = genfromtxt('x_train.csv')\n",
    "y_train = genfromtxt('y_train.csv')"
   ]
  },
  {
   "cell_type": "code",
   "execution_count": null,
   "id": "d1230b5f",
   "metadata": {},
   "outputs": [],
   "source": [
    "import numpy as np\n",
    "import keras\n",
    "from keras.models import Sequential\n",
    "from keras.layers import Dense\n",
    "\n",
    "model = Sequential()\n",
    "model.add(Dense(500, activation='relu', input_dim=43))\n",
    "model.add(Dense(100, activation='relu'))\n",
    "model.add(Dense(50, activation='relu'))\n",
    "model.add(Dense(2, activation='softmax'))\n",
    "\n",
    "# Compile the model\n",
    "model.compile(optimizer='adam', \n",
    "              loss='sparse_categorical_crossentropy', \n",
    "              metrics=['accuracy'])\n",
    "model.fit(X_train, y_train, epochs=50)"
   ]
  },
  {
   "cell_type": "markdown",
   "id": "0916bed7",
   "metadata": {},
   "source": [
    "# TKET IonQ Custom Rebase Pass"
   ]
  },
  {
   "cell_type": "code",
   "execution_count": 1,
   "id": "efa4b6b5",
   "metadata": {},
   "outputs": [],
   "source": [
    "import pytket\n",
    "from pytket import OpType, circuit, _tket, Circuit\n",
    "from pytket.passes import RebaseCustom"
   ]
  },
  {
   "cell_type": "code",
   "execution_count": null,
   "id": "83f81849",
   "metadata": {},
   "outputs": [],
   "source": [
    "gates = {OpType.Rz, OpType.Ry, OpType.CY, OpType.ZZPhase}\n",
    "cx_in_cy = Circuit(2)\n",
    "cx_in_cy.Rz(0.5, 1).CY(0, 1).Rz(-0.5, 1)\n",
    "def tk1_to_rzry(a, b, c):\n",
    "    circ = Circuit(1)\n",
    "    circ.Rz(c + 0.5, 0).Ry(b, 0).Rz(a - 0.5, 0)\n",
    "    return circ\n",
    "\n",
    "custom = RebaseCustom(gates, cx_in_cy, tk1_to_rzry)\n",
    "\n",
    "circ = Circuit(3)\n",
    "circ.X(0).CX(0, 1).Ry(0.2, 1)\n",
    "circ.add_gate(OpType.ZZPhase, -0.83, [2, 1]).Rx(0.6, 2)\n",
    "\n",
    "custom.apply(circ)\n",
    "\n",
    "print(circ.get_commands())"
   ]
  },
  {
   "cell_type": "code",
   "execution_count": 7,
   "id": "1c817873",
   "metadata": {},
   "outputs": [],
   "source": [
    "ionq_gateset = {OpType.Rz, OpType.Ry, OpType.XXPhase}\n",
    "cx_in_ionq = _tket.circuit._library._CX_using_XXPhase_0()\n",
    "def tk1_to_rzry(a, b, c):\n",
    "    circ = Circuit(1)\n",
    "    circ.Rz(c + 0.5, 0).Ry(b, 0).Rz(a - 0.5, 0)\n",
    "    return circ\n",
    "ionq_rebase = RebaseCustom(ionq_gateset, cx_in_ionq, tk1_to_rzry)"
   ]
  },
  {
   "cell_type": "code",
   "execution_count": 11,
   "id": "059e2829",
   "metadata": {},
   "outputs": [
    {
     "name": "stdout",
     "output_type": "stream",
     "text": [
      "[Rz(0.5) q[0];, Ry(0.5) q[2];, Ry(1) q[0];, Rz(3.5) q[0];, Ry(0.5) q[0];, XXPhase(0.5) q[0], q[1];, Ry(3.5) q[0];, Rz(0.5) q[1];, Rz(3.5) q[0];, Ry(3.5) q[1];, Rz(3.5) q[1];, Ry(0.2) q[1];, XXPhase(0.5) q[2], q[1];, Rz(0.5) q[1];, Ry(3.5) q[2];, Ry(3.5) q[1];, Rz(3.5) q[2];, Rz(3.5) q[1];, Ry(0.5) q[2];, Rz(3.17) q[1];, XXPhase(0.5) q[2], q[1];, Rz(0.5) q[1];, Ry(3.5) q[2];, Ry(3.5) q[1];, Rz(3.5) q[2];, Rz(3.5) q[1];, Rz(0.5) q[2];, Ry(0.6) q[2];, Rz(3.5) q[2];]\n"
     ]
    }
   ],
   "source": [
    "circ = Circuit(3)\n",
    "circ.X(0).CX(0, 1).Ry(0.2, 1)\n",
    "circ.add_gate(OpType.ZZPhase, -0.83, [2, 1]).Rx(0.6, 2)\n",
    "\n",
    "ionq_rebase.apply(circ)\n",
    "print(circ.get_commands())"
   ]
  },
  {
   "cell_type": "code",
   "execution_count": 14,
   "id": "3b0f65dc",
   "metadata": {},
   "outputs": [],
   "source": [
    "from pytket._tket.circuit._library._CX_using_XXPhase_0()"
   ]
  },
  {
   "cell_type": "code",
   "execution_count": 16,
   "id": "ddaa41f1",
   "metadata": {},
   "outputs": [
    {
     "data": {
      "text/plain": [
       "[Ry(0.5) q[0]; XXPhase(0.5) q[0], q[1]; Ry(3.5) q[0]; Rx(3.5) q[1]; Rz(3.5) q[0]; ]"
      ]
     },
     "execution_count": 16,
     "metadata": {},
     "output_type": "execute_result"
    }
   ],
   "source": [
    "_library._CX_using_XXPhase_0()"
   ]
  },
  {
   "cell_type": "code",
   "execution_count": null,
   "id": "e1e79d87",
   "metadata": {},
   "outputs": [],
   "source": []
  }
 ],
 "metadata": {
  "kernelspec": {
   "display_name": "Python 3 (ipykernel)",
   "language": "python",
   "name": "python3"
  },
  "language_info": {
   "codemirror_mode": {
    "name": "ipython",
    "version": 3
   },
   "file_extension": ".py",
   "mimetype": "text/x-python",
   "name": "python",
   "nbconvert_exporter": "python",
   "pygments_lexer": "ipython3",
   "version": "3.9.7"
  }
 },
 "nbformat": 4,
 "nbformat_minor": 5
}
