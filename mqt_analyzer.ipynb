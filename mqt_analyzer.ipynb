{
 "cells": [
  {
   "cell_type": "code",
   "execution_count": 1,
   "id": "bdbd3ddd",
   "metadata": {},
   "outputs": [],
   "source": [
    "# Score generator\n",
    "# for each MQTbench circuit\n",
    "    # for each compiler -> tket, staq, qiskit, forest, ...\n",
    "        # for each backend -> Rigetti, IBM, Google?, AQT?, OQC?, Cirq, ProjectQ\n",
    "            # generate circuit\n",
    "            # calculate score\n",
    "            # safe data: input: qasmfile/gate count per gate, compiler/compiler settings/machine -> output: score"
   ]
  },
  {
   "cell_type": "markdown",
   "id": "e4464aaf",
   "metadata": {},
   "source": [
    "# Cirq"
   ]
  },
  {
   "cell_type": "code",
   "execution_count": 45,
   "id": "c7ded9db",
   "metadata": {},
   "outputs": [],
   "source": [
    "import cirq\n",
    "from cirq.contrib.svg import SVGCircuit\n",
    "\n",
    "def get_cirq_compilation(qasm_qc, target):\n",
    "    if \"ibm\" in target:\n",
    "        pass\n",
    "    elif \"rigetti\" in target:\n",
    "        pass\n",
    "    elif \"ionq\" in target:\n",
    "        pass"
   ]
  },
  {
   "cell_type": "code",
   "execution_count": 46,
   "id": "099f6993",
   "metadata": {},
   "outputs": [
    {
     "ename": "NameError",
     "evalue": "name 'circuit' is not defined",
     "output_type": "error",
     "traceback": [
      "\u001b[0;31m---------------------------------------------------------------------------\u001b[0m",
      "\u001b[0;31mNameError\u001b[0m                                 Traceback (most recent call last)",
      "\u001b[0;32m/var/folders/f4/n3_mnvbd6q50h0gtzy84vyn40000gn/T/ipykernel_5237/845464970.py\u001b[0m in \u001b[0;36m<module>\u001b[0;34m\u001b[0m\n\u001b[1;32m      1\u001b[0m \u001b[0;32mfrom\u001b[0m \u001b[0mcirq\u001b[0m\u001b[0;34m.\u001b[0m\u001b[0mcontrib\u001b[0m\u001b[0;34m.\u001b[0m\u001b[0mqasm_import\u001b[0m \u001b[0;32mimport\u001b[0m \u001b[0mcircuit_from_qasm\u001b[0m\u001b[0;34m\u001b[0m\u001b[0;34m\u001b[0m\u001b[0m\n\u001b[1;32m      2\u001b[0m \u001b[0mtest\u001b[0m \u001b[0;34m=\u001b[0m \u001b[0mopen\u001b[0m\u001b[0;34m(\u001b[0m\u001b[0;34m'../MQTbench/qasm_output/dj_indep_4.qasm'\u001b[0m\u001b[0;34m,\u001b[0m \u001b[0;34m'r'\u001b[0m\u001b[0;34m)\u001b[0m\u001b[0;34m.\u001b[0m\u001b[0mread\u001b[0m\u001b[0;34m(\u001b[0m\u001b[0;34m)\u001b[0m\u001b[0;34m\u001b[0m\u001b[0;34m\u001b[0m\u001b[0m\n\u001b[0;32m----> 3\u001b[0;31m \u001b[0mion_circuit\u001b[0m \u001b[0;34m=\u001b[0m \u001b[0mcirq\u001b[0m\u001b[0;34m.\u001b[0m\u001b[0mion\u001b[0m\u001b[0;34m.\u001b[0m\u001b[0mConvertToIonGates\u001b[0m\u001b[0;34m(\u001b[0m\u001b[0;34m)\u001b[0m\u001b[0;34m.\u001b[0m\u001b[0mconvert_circuit\u001b[0m\u001b[0;34m(\u001b[0m\u001b[0mcircuit\u001b[0m\u001b[0;34m)\u001b[0m\u001b[0;34m\u001b[0m\u001b[0;34m\u001b[0m\u001b[0m\n\u001b[0m\u001b[1;32m      4\u001b[0m \u001b[0mprint\u001b[0m\u001b[0;34m(\u001b[0m\u001b[0mion_circuit\u001b[0m\u001b[0;34m)\u001b[0m\u001b[0;34m\u001b[0m\u001b[0;34m\u001b[0m\u001b[0m\n",
      "\u001b[0;31mNameError\u001b[0m: name 'circuit' is not defined"
     ]
    }
   ],
   "source": [
    "from cirq.contrib.qasm_import import circuit_from_qasm\n",
    "test = open('../MQTbench/qasm_output/dj_indep_4.qasm', 'r').read()\n",
    "ion_circuit = cirq.ion.ConvertToIonGates().convert_circuit(circuit)\n",
    "print(ion_circuit)"
   ]
  },
  {
   "cell_type": "code",
   "execution_count": null,
   "id": "18873a2e",
   "metadata": {},
   "outputs": [],
   "source": [
    "import cirq_rigetti\n",
    "c = cirq_rigetti.circuit_transformers.default(circuit=circuit)\n",
    "print(c)\n",
    "\n",
    "SVGCircuit(c[0])"
   ]
  },
  {
   "cell_type": "code",
   "execution_count": null,
   "id": "011fcc62",
   "metadata": {},
   "outputs": [],
   "source": [
    "import cirq\n",
    "import cirq_ionq as ionq\n",
    "q0 = cirq.LineQubit(0)\n",
    "device = ionq.IonQAPIDevice([q0])\n",
    "circuit = cirq.Circuit(device=device)\n",
    "circuit.append(cirq.H(q0)**0.2) # Non-IonQ-API gate\n",
    "print(circuit) # will print the circuit converted into IonQ's target gateset"
   ]
  },
  {
   "cell_type": "markdown",
   "id": "7ba4bcd1",
   "metadata": {},
   "source": [
    "# Pennylane"
   ]
  },
  {
   "cell_type": "code",
   "execution_count": null,
   "id": "975af259",
   "metadata": {},
   "outputs": [],
   "source": [
    "import pennylane as qml\n",
    "from pennylane import numpy as np"
   ]
  },
  {
   "cell_type": "code",
   "execution_count": null,
   "id": "6271e83e",
   "metadata": {},
   "outputs": [],
   "source": [
    "ibm_native_gates = FakeMontreal().configuration().basis_gates\n",
    "rigetti_native_gates = [\"rx\", \"rz\", \"cz\"]\n",
    "ibm_native_gates\n",
    "\n",
    "dev = qml.device('default.qubit', wires=[0, 1, 2])\n",
    "qnode = qml.QNode(qfunc, dev)\n",
    "print(qml.draw(qnode)(0.2, 0.3, 0.4))\n",
    "\n",
    "compiled_qfunc = qml.compile(basis_set=rigetti_native_gates)(qfunc)\n",
    "compiled_qnode = qml.QNode(compiled_qfunc, dev)\n",
    "print(qml.draw(compiled_qnode)(0.2, 0.3, 0.4))"
   ]
  },
  {
   "cell_type": "code",
   "execution_count": null,
   "id": "288fc804",
   "metadata": {},
   "outputs": [],
   "source": [
    "path_file = \"../MQTbench/qasm_output/dj_indep_4.qasm\"\n",
    "with open (path_file, \"r\") as myfile:\n",
    "    data = myfile.read()\n",
    "my_circuit = qml.from_qasm(data)\n",
    "\n",
    "n=4\n",
    "dev = qml.device('default.qubit', wires=n)\n",
    "@qml.qnode(dev)\n",
    "def circuit():\n",
    "    my_circuit(wires=tuple(range(n)))\n",
    "    return [qml.expval(qml.PauliZ(i)) for i in range(n)]\n",
    "\n",
    "#circuit()\n",
    "#print(dev._circuit.qasm(formatted=True))"
   ]
  },
  {
   "cell_type": "code",
   "execution_count": null,
   "id": "be022fce",
   "metadata": {},
   "outputs": [],
   "source": [
    "pennylane_ibm=[\"RZ\", \"SX\", \"PauliX\", \"CNOT\"]\n",
    "pennylane_rigetti=[\"RX\", \"RZ\", \"CZ\"]"
   ]
  },
  {
   "cell_type": "code",
   "execution_count": null,
   "id": "94017cf2",
   "metadata": {},
   "outputs": [],
   "source": [
    "compiled_qfunc1 = qml.compile()(circuit)\n",
    "compiled_qnode1 = qml.QNode(compiled_qfunc1, dev)\n",
    "print(qml.draw(compiled_qnode1)())\n",
    "\n",
    "compiled_qfunc2 = qml.compile(\n",
    "    basis_set=[\"CNOT\", \"RX\", \"RY\", \"RZ\"],\n",
    "    num_passes=2\n",
    ")(circuit)\n",
    "\n",
    "compiled_qnode2 = qml.QNode(compiled_qfunc2, dev)\n",
    "print(qml.draw(compiled_qnode2)())"
   ]
  },
  {
   "cell_type": "code",
   "execution_count": null,
   "id": "a08ff5ba",
   "metadata": {},
   "outputs": [],
   "source": [
    "def qfunc(x, y, z):\n",
    "    qml.Hadamard(wires=0)\n",
    "    qml.Hadamard(wires=1)\n",
    "    qml.Hadamard(wires=2)\n",
    "    qml.RZ(z, wires=2)\n",
    "    qml.CNOT(wires=[2, 1])\n",
    "    qml.RX(z, wires=0)\n",
    "    qml.CNOT(wires=[1, 0])\n",
    "    qml.RX(x, wires=0)\n",
    "    qml.CNOT(wires=[1, 0])\n",
    "    qml.RZ(-z, wires=2)\n",
    "    qml.RX(y, wires=2)\n",
    "    qml.PauliY(wires=2)\n",
    "    qml.CY(wires=[1, 2])\n",
    "    return qml.expval(qml.PauliZ(wires=0))\n",
    "\n",
    "dev = qml.device('default.qubit', wires=[0, 1, 2])\n",
    "qnode = qml.QNode(qfunc, dev)\n",
    "print(qml.draw(qnode)(0.2, 0.3, 0.4))\n",
    "\n",
    "compiled_qfunc = qml.compile(\n",
    "    pipeline=[\n",
    "        qml.transforms.commute_controlled(direction=\"left\"),\n",
    "        qml.transforms.merge_rotations(atol=1e-6),\n",
    "        qml.transforms.cancel_inverses\n",
    "    ],\n",
    "    basis_set=[\"CNOT\", \"RX\", \"RY\", \"CZ\"],\n",
    "    num_passes=2\n",
    ")(qfunc)\n",
    "\n",
    "compiled_qnode = qml.QNode(compiled_qfunc, dev)\n",
    "print(qml.draw(compiled_qnode)(0.2, 0.3, 0.4))"
   ]
  },
  {
   "cell_type": "code",
   "execution_count": null,
   "id": "7d3b37ba",
   "metadata": {
    "scrolled": true
   },
   "outputs": [],
   "source": [
    "def qfunc():\n",
    "    qml.Hadamard(wires=0)    \n",
    "    qml.Hadamard(wires=1)\n",
    "    qml.Hadamard(wires=2)\n",
    "    qml.RZ(-0.4, wires=2)\n",
    "    qml.CNOT(wires=[2, 1])\n",
    "    qml.RX(-0.4, wires=0)\n",
    "    qml.CNOT(wires=[1, 0])\n",
    "    qml.RX(-0.4, wires=0)\n",
    "    qml.CNOT(wires=[1, 0])\n",
    "    qml.RZ(-0.4, wires=2)\n",
    "    qml.RX(1, wires=2)\n",
    "    qml.PauliY(wires=2)\n",
    "    qml.CY(wires=[1, 2])\n",
    "    return [qml.expval(qml.PauliZ(i)) for i in range(2)]\n",
    "\n",
    "dev = qml.device('default.qubit', wires=[0, 1, 2])\n",
    "qnode = qml.QNode(qfunc, dev)\n",
    "print(qml.draw(qnode)())\n",
    "\n",
    "compiled_qfunc = qml.compile(\n",
    "    basis_set=[\"CNOT\", \"Rdawd\", \"wdfawdaw\", \"dawd\"],\n",
    "    num_passes=20\n",
    ")(qfunc)\n",
    "\n",
    "compiled_qnode = qml.QNode(compiled_qfunc, dev)\n",
    "print(qml.draw(compiled_qnode)())"
   ]
  },
  {
   "cell_type": "markdown",
   "id": "02189cd9",
   "metadata": {},
   "source": [
    "# Old"
   ]
  }
 ],
 "metadata": {
  "kernelspec": {
   "display_name": "Python 3 (ipykernel)",
   "language": "python",
   "name": "python3"
  },
  "language_info": {
   "codemirror_mode": {
    "name": "ipython",
    "version": 3
   },
   "file_extension": ".py",
   "mimetype": "text/x-python",
   "name": "python",
   "nbconvert_exporter": "python",
   "pygments_lexer": "ipython3",
   "version": "3.9.7"
  }
 },
 "nbformat": 4,
 "nbformat_minor": 5
}
