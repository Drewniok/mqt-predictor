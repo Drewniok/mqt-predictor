{
 "cells": [
  {
   "cell_type": "code",
   "execution_count": 3,
   "id": "7e01a77a",
   "metadata": {},
   "outputs": [],
   "source": [
    "from qiskit import QuantumCircuit\n",
    "from qiskit.converters import circuit_to_dag\n",
    "from qiskit.visualization import dag_drawer"
   ]
  },
  {
   "cell_type": "code",
   "execution_count": 4,
   "id": "94b183f8",
   "metadata": {},
   "outputs": [],
   "source": [
    "from qiskit.test.mock import (\n",
    "    FakeBogota,\n",
    "    FakeCasablanca,\n",
    "    FakeGuadalupe,\n",
    "    FakeMontreal,\n",
    "    FakeManhattan,\n",
    ") "
   ]
  },
  {
   "cell_type": "code",
   "execution_count": 5,
   "id": "bdbd3ddd",
   "metadata": {},
   "outputs": [],
   "source": [
    "# Score generator\n",
    "# for each MQTbench circuit\n",
    "    # for each compiler -> tket, staq, qiskit, forest, ...\n",
    "        # for each backend -> Rigetti, IBM, Google?, AQT?, OQC?, Cirq, ProjectQ\n",
    "            # generate circuit\n",
    "            # calculate score\n",
    "            # safe data: input: qasmfile/gate count per gate, compiler/compiler settings/machine -> output: score"
   ]
  },
  {
   "cell_type": "code",
   "execution_count": 55,
   "id": "6ac3b644",
   "metadata": {},
   "outputs": [],
   "source": [
    "rigetti_m1 = {\n",
    "    \"provider\": \"rigetti\",\n",
    "    \"name\": \"m1\",\n",
    "    \"num_qubits\": 80,\n",
    "    \"t1_avg\": 33.845,\n",
    "    \"t2_avg\": 28.230,\n",
    "    \"avg_gate_time_1q\": 60e-3, #source: https://qcs.rigetti.com/qpus -> ASPEN-M-1\n",
    "    \"avg_gate_time_2q\": 160e-3 #source: https://qcs.rigetti.com/qpus -> ASPEN-M-1\n",
    "}\n",
    "ibm_washington = {\n",
    "    \"provider\": \"ibm\",\n",
    "    \"name\": \"washington\",\n",
    "    \"num_qubits\": 127,\n",
    "    \"t1_avg\": 103.39,\n",
    "    \"t2_avg\": 97.75,\n",
    "    \"avg_gate_time_1q\": 206e-3, #estimated, based on the rigetti relation between 1q and 2q and given avg 2q time\n",
    "    \"avg_gate_time_2q\": 550.41e-3 #source: https://quantum-computing.ibm.com/services?services=systems&system=ibm_washington\n",
    "}\n",
    "ionq = {\n",
    "    \"provider\": \"ionq\",\n",
    "    \"name\": \"washington\",\n",
    "    \"num_qubits\": 127,\n",
    "    \"t1_avg\": 10000,\n",
    "    \"t2_avg\": 0.2,\n",
    "    \"avg_gate_time_1q\": 0.00001,\n",
    "    \"avg_gate_time_2q\": 0.0002 \n",
    "}"
   ]
  },
  {
   "cell_type": "code",
   "execution_count": 56,
   "id": "0395d6d7",
   "metadata": {},
   "outputs": [],
   "source": [
    "def count_qubit_gates(qc, provider:str):\n",
    "    dag = circuit_to_dag(qc)\n",
    "    count_gates = dag.count_ops_longest_path()\n",
    "    single_qubit_gates = 0\n",
    "    two_qubit_gates = 0\n",
    "    if provider == \"ibm\":\n",
    "        # gates: ['id', 'rz', 'sx', 'x', 'cx', 'reset']\n",
    "        if \"id\" in count_gates:\n",
    "            single_qubit_gates += count_gates[\"id\"]\n",
    "        if \"rz\" in count_gates:\n",
    "            single_qubit_gates += count_gates[\"rz\"]\n",
    "        if \"sx\" in count_gates:\n",
    "            single_qubit_gates += count_gates[\"sx\"]\n",
    "        if \"x\" in count_gates:\n",
    "            single_qubit_gates += count_gates[\"x\"]\n",
    "        if \"cx\" in count_gates:\n",
    "            two_qubit_gates += count_gates[\"cx\"]\n",
    "        \n",
    "    elif provider == \"rigetti\":\n",
    "        # gates: rigetti_native_gates = [\"rx\", \"rz\", \"cz\"]\n",
    "        if \"rx\" in count_gates:\n",
    "            single_qubit_gates += count_gates[\"rx\"]\n",
    "        if \"rz\" in count_gates:\n",
    "            single_qubit_gates += count_gates[\"rz\"]\n",
    "        if \"cz\" in count_gates:\n",
    "            two_qubit_gates += count_gates[\"cz\"]\n",
    "            \n",
    "    elif provider == \"ionq\":\n",
    "        # gates: ionq_native_gates = [\"ms\", \"rz\", \"ry\", \"rx\"]\n",
    "        if \"rx\" in count_gates:\n",
    "            single_qubit_gates += count_gates[\"rx\"]\n",
    "        if \"ry\" in count_gates:\n",
    "            single_qubit_gates += count_gates[\"ry\"]\n",
    "        if \"rz\" in count_gates:\n",
    "            single_qubit_gates += count_gates[\"rz\"]\n",
    "        if \"ms\" in count_gates:\n",
    "            two_qubit_gates += count_gates[\"ms\"]\n",
    "    return single_qubit_gates, two_qubit_gates\n",
    "        "
   ]
  },
  {
   "cell_type": "code",
   "execution_count": 57,
   "id": "748f0283",
   "metadata": {},
   "outputs": [],
   "source": [
    "def calc_score_from_str(qc:str, backend):\n",
    "    qc = QuantumCircuit.from_qasm_str(qc)\n",
    "    return calc_score(qc, backend)\n",
    "    \n",
    "def calc_score_from_path(filepath, backend):       \n",
    "    qc = QuantumCircuit.from_qasm_file(filepath)\n",
    "    return calc_score(qc, backend)\n",
    "    \n",
    "def calc_score(qc:QuantumCircuit, backend):\n",
    "    count_gates = count_qubit_gates(qc, backend[\"provider\"])\n",
    "    #print(\"Gates: \", count_gates)\n",
    "    penalty_factor_width = 5000\n",
    "    penalty_factor_1q = 500\n",
    "    penalty_factor_2q = 1000\n",
    "\n",
    "    b_qubits = backend[\"num_qubits\"]\n",
    "    t_1 = backend[\"t1_avg\"]\n",
    "    t_2 = backend[\"t2_avg\"]\n",
    "    avg_gate_time_1q = backend[\"avg_gate_time_1q\"]\n",
    "    avg_gate_time_2q = backend[\"avg_gate_time_2q\"]\n",
    "    max_depth_1q = min(t_1, t_2) / avg_gate_time_1q\n",
    "    max_depth_2q = min(t_1, t_2) / avg_gate_time_2q\n",
    "\n",
    "    penalty_width = 0\n",
    "    \n",
    "    if qc.num_qubits > b_qubits:\n",
    "        penalty_width = penalty_factor_width\n",
    "        \n",
    "    \n",
    "    score = count_gates[0] / max_depth_1q * penalty_factor_1q + count_gates[1] / max_depth_2q * penalty_factor_2q + penalty_width\n",
    "    #print(\"Score: \", score)\n",
    "    return score"
   ]
  },
  {
   "cell_type": "markdown",
   "id": "6fa937e7",
   "metadata": {},
   "source": [
    "# Qiskit"
   ]
  },
  {
   "cell_type": "code",
   "execution_count": 58,
   "id": "e101b1b7",
   "metadata": {},
   "outputs": [],
   "source": [
    "ibm_gates = ['id', 'rz', 'sx', 'x', 'cx', 'reset']\n",
    "rigetti_gates = [\"rx\", \"rz\", \"cz\"]\n",
    "ionq_gates = [\"rxx\", \"rz\", \"ry\", \"rx\"]\n",
    "aqt_gates = ['rx', 'ry', 'rxx']"
   ]
  },
  {
   "cell_type": "code",
   "execution_count": 59,
   "id": "003cc718",
   "metadata": {},
   "outputs": [],
   "source": [
    "from qiskit import transpile\n",
    "\n",
    "opt_level=0\n",
    "def get_qiskit_scores(qc_filepath:QuantumCircuit, opt_level=0):\n",
    "    qc = QuantumCircuit.from_qasm_file(qc_filepath)\n",
    "    #compile to ibm architecture\n",
    "    qc_ibm = transpile(qc, basis_gates=ibm_gates, optimization_level=opt_level)\n",
    "    #print(qc_ibm.draw())\n",
    "    score_ibm = calc_score_from_str(qc_ibm.qasm(), ibm_washington)\n",
    "    #compile to rigetti architecture\n",
    "    qc_rigetti = transpile(qc, basis_gates=rigetti_gates, optimization_level=opt_level)\n",
    "    #print(qc_rigetti.draw())\n",
    "    score_rigetti = calc_score_from_str(qc_rigetti.qasm(), rigetti_m1)\n",
    "    #compile to aqt architecture\n",
    "    qc_aqt = transpile(qc, basis_gates=aqt_gates, optimization_level=opt_level)\n",
    "    #print(qc_ion.draw())\n",
    "    score_aqt = calc_score_from_str(qc_aqt.qasm(), ionq)\n",
    "    #compile to rigetti architecture\n",
    "    qc_ion = transpile(qc, basis_gates=ionq_gates, optimization_level=opt_level)\n",
    "    #print(qc_ion.draw())\n",
    "    score_ionq = calc_score_from_str(qc_ion.qasm(), ionq)\n",
    "    #print(\"qiskit: \", score_ibm, score_rigetti, score_ionq)\n",
    "    return [score_ibm, score_aqt, score_ionq, score_rigetti]"
   ]
  },
  {
   "cell_type": "code",
   "execution_count": 60,
   "id": "d85654bf",
   "metadata": {},
   "outputs": [
    {
     "data": {
      "text/plain": [
       "['rx', 'ry', 'rxx']"
      ]
     },
     "execution_count": 60,
     "metadata": {},
     "output_type": "execute_result"
    }
   ],
   "source": [
    "from qiskit_aqt_provider import AQTProvider\n",
    "aqt = AQTProvider(\"\")\n",
    "AQT_backend = aqt.backends.aqt_qasm_simulator\n",
    "AQT_backend.configuration().basis_gates"
   ]
  },
  {
   "cell_type": "markdown",
   "id": "e4464aaf",
   "metadata": {},
   "source": [
    "# Cirq"
   ]
  },
  {
   "cell_type": "code",
   "execution_count": 28,
   "id": "c7ded9db",
   "metadata": {},
   "outputs": [],
   "source": [
    "import cirq\n",
    "from cirq.contrib.svg import SVGCircuit\n",
    "\n",
    "def get_cirq_compilation(qasm_qc, target):\n",
    "    if \"ibm\" in target:\n",
    "        pass\n",
    "    elif \"rigetti\" in target:\n",
    "        pass\n",
    "    elif \"ionq\" in target:\n",
    "        pass"
   ]
  },
  {
   "cell_type": "code",
   "execution_count": 11,
   "id": "099f6993",
   "metadata": {},
   "outputs": [
    {
     "ename": "NameError",
     "evalue": "name 'circuit' is not defined",
     "output_type": "error",
     "traceback": [
      "\u001b[0;31m---------------------------------------------------------------------------\u001b[0m",
      "\u001b[0;31mNameError\u001b[0m                                 Traceback (most recent call last)",
      "\u001b[0;32m/var/folders/f4/n3_mnvbd6q50h0gtzy84vyn40000gn/T/ipykernel_8530/845464970.py\u001b[0m in \u001b[0;36m<module>\u001b[0;34m\u001b[0m\n\u001b[1;32m      1\u001b[0m \u001b[0;32mfrom\u001b[0m \u001b[0mcirq\u001b[0m\u001b[0;34m.\u001b[0m\u001b[0mcontrib\u001b[0m\u001b[0;34m.\u001b[0m\u001b[0mqasm_import\u001b[0m \u001b[0;32mimport\u001b[0m \u001b[0mcircuit_from_qasm\u001b[0m\u001b[0;34m\u001b[0m\u001b[0;34m\u001b[0m\u001b[0m\n\u001b[1;32m      2\u001b[0m \u001b[0mtest\u001b[0m \u001b[0;34m=\u001b[0m \u001b[0mopen\u001b[0m\u001b[0;34m(\u001b[0m\u001b[0;34m'../MQTbench/qasm_output/dj_indep_4.qasm'\u001b[0m\u001b[0;34m,\u001b[0m \u001b[0;34m'r'\u001b[0m\u001b[0;34m)\u001b[0m\u001b[0;34m.\u001b[0m\u001b[0mread\u001b[0m\u001b[0;34m(\u001b[0m\u001b[0;34m)\u001b[0m\u001b[0;34m\u001b[0m\u001b[0;34m\u001b[0m\u001b[0m\n\u001b[0;32m----> 3\u001b[0;31m \u001b[0mion_circuit\u001b[0m \u001b[0;34m=\u001b[0m \u001b[0mcirq\u001b[0m\u001b[0;34m.\u001b[0m\u001b[0mion\u001b[0m\u001b[0;34m.\u001b[0m\u001b[0mConvertToIonGates\u001b[0m\u001b[0;34m(\u001b[0m\u001b[0;34m)\u001b[0m\u001b[0;34m.\u001b[0m\u001b[0mconvert_circuit\u001b[0m\u001b[0;34m(\u001b[0m\u001b[0mcircuit\u001b[0m\u001b[0;34m)\u001b[0m\u001b[0;34m\u001b[0m\u001b[0;34m\u001b[0m\u001b[0m\n\u001b[0m\u001b[1;32m      4\u001b[0m \u001b[0mprint\u001b[0m\u001b[0;34m(\u001b[0m\u001b[0mion_circuit\u001b[0m\u001b[0;34m)\u001b[0m\u001b[0;34m\u001b[0m\u001b[0;34m\u001b[0m\u001b[0m\n",
      "\u001b[0;31mNameError\u001b[0m: name 'circuit' is not defined"
     ]
    }
   ],
   "source": [
    "from cirq.contrib.qasm_import import circuit_from_qasm\n",
    "test = open('../MQTbench/qasm_output/dj_indep_4.qasm', 'r').read()\n",
    "ion_circuit = cirq.ion.ConvertToIonGates().convert_circuit(circuit)\n",
    "print(ion_circuit)"
   ]
  },
  {
   "cell_type": "code",
   "execution_count": null,
   "id": "18873a2e",
   "metadata": {},
   "outputs": [],
   "source": [
    "import cirq_rigetti\n",
    "c = cirq_rigetti.circuit_transformers.default(circuit=circuit)\n",
    "print(c)\n",
    "\n",
    "SVGCircuit(c[0])"
   ]
  },
  {
   "cell_type": "code",
   "execution_count": null,
   "id": "011fcc62",
   "metadata": {},
   "outputs": [],
   "source": [
    "import cirq\n",
    "import cirq_ionq as ionq\n",
    "q0 = cirq.LineQubit(0)\n",
    "device = ionq.IonQAPIDevice([q0])\n",
    "circuit = cirq.Circuit(device=device)\n",
    "circuit.append(cirq.H(q0)**0.2) # Non-IonQ-API gate\n",
    "print(circuit) # will print the circuit converted into IonQ's target gateset"
   ]
  },
  {
   "cell_type": "markdown",
   "id": "b47069e6",
   "metadata": {},
   "source": [
    "# PyTKET"
   ]
  },
  {
   "cell_type": "code",
   "execution_count": 29,
   "id": "1160f595",
   "metadata": {},
   "outputs": [
    {
     "data": {
      "text/plain": [
       "[(node[1], node[0]), (node[2], node[0])]"
      ]
     },
     "execution_count": 29,
     "metadata": {},
     "output_type": "execute_result"
    }
   ],
   "source": [
    "import pytket\n",
    "a = pytket.architecture.Architecture([[1,0], [2,0]])\n",
    "a.coupling"
   ]
  },
  {
   "cell_type": "code",
   "execution_count": 30,
   "id": "670ec77c",
   "metadata": {
    "scrolled": true
   },
   "outputs": [
    {
     "ename": "NameError",
     "evalue": "name 'b1' is not defined",
     "output_type": "error",
     "traceback": [
      "\u001b[0;31m---------------------------------------------------------------------------\u001b[0m",
      "\u001b[0;31mNameError\u001b[0m                                 Traceback (most recent call last)",
      "\u001b[0;32m/var/folders/f4/n3_mnvbd6q50h0gtzy84vyn40000gn/T/ipykernel_4447/1621208298.py\u001b[0m in \u001b[0;36m<module>\u001b[0;34m\u001b[0m\n\u001b[0;32m----> 1\u001b[0;31m \u001b[0mb1\u001b[0m\u001b[0;34m.\u001b[0m\u001b[0mrebase_pass\u001b[0m\u001b[0;34m(\u001b[0m\u001b[0;34m)\u001b[0m\u001b[0;34m\u001b[0m\u001b[0;34m\u001b[0m\u001b[0m\n\u001b[0m",
      "\u001b[0;31mNameError\u001b[0m: name 'b1' is not defined"
     ]
    }
   ],
   "source": [
    "b1.rebase_pass()"
   ]
  },
  {
   "cell_type": "code",
   "execution_count": 31,
   "id": "4235264f",
   "metadata": {},
   "outputs": [
    {
     "ename": "NameError",
     "evalue": "name 'b2' is not defined",
     "output_type": "error",
     "traceback": [
      "\u001b[0;31m---------------------------------------------------------------------------\u001b[0m",
      "\u001b[0;31mNameError\u001b[0m                                 Traceback (most recent call last)",
      "\u001b[0;32m/var/folders/f4/n3_mnvbd6q50h0gtzy84vyn40000gn/T/ipykernel_4447/2938040848.py\u001b[0m in \u001b[0;36m<module>\u001b[0;34m\u001b[0m\n\u001b[0;32m----> 1\u001b[0;31m \u001b[0mb2\u001b[0m\u001b[0;34m.\u001b[0m\u001b[0mrebase_pass\u001b[0m\u001b[0;34m(\u001b[0m\u001b[0;34m)\u001b[0m\u001b[0;34m\u001b[0m\u001b[0;34m\u001b[0m\u001b[0m\n\u001b[0m",
      "\u001b[0;31mNameError\u001b[0m: name 'b2' is not defined"
     ]
    }
   ],
   "source": [
    "b2.rebase_pass()"
   ]
  },
  {
   "cell_type": "code",
   "execution_count": 32,
   "id": "f0ed3d6a",
   "metadata": {},
   "outputs": [
    {
     "ename": "NameError",
     "evalue": "name 'b3' is not defined",
     "output_type": "error",
     "traceback": [
      "\u001b[0;31m---------------------------------------------------------------------------\u001b[0m",
      "\u001b[0;31mNameError\u001b[0m                                 Traceback (most recent call last)",
      "\u001b[0;32m/var/folders/f4/n3_mnvbd6q50h0gtzy84vyn40000gn/T/ipykernel_4447/2664768255.py\u001b[0m in \u001b[0;36m<module>\u001b[0;34m\u001b[0m\n\u001b[0;32m----> 1\u001b[0;31m \u001b[0mb3\u001b[0m\u001b[0;34m.\u001b[0m\u001b[0mrebase_pass\u001b[0m\u001b[0;34m(\u001b[0m\u001b[0;34m)\u001b[0m\u001b[0;34m\u001b[0m\u001b[0;34m\u001b[0m\u001b[0m\n\u001b[0m",
      "\u001b[0;31mNameError\u001b[0m: name 'b3' is not defined"
     ]
    }
   ],
   "source": [
    "b3.rebase_pass()"
   ]
  },
  {
   "cell_type": "code",
   "execution_count": 33,
   "id": "1cfa4191",
   "metadata": {},
   "outputs": [
    {
     "ename": "NameError",
     "evalue": "name 'b4' is not defined",
     "output_type": "error",
     "traceback": [
      "\u001b[0;31m---------------------------------------------------------------------------\u001b[0m",
      "\u001b[0;31mNameError\u001b[0m                                 Traceback (most recent call last)",
      "\u001b[0;32m/var/folders/f4/n3_mnvbd6q50h0gtzy84vyn40000gn/T/ipykernel_4447/411916562.py\u001b[0m in \u001b[0;36m<module>\u001b[0;34m\u001b[0m\n\u001b[0;32m----> 1\u001b[0;31m \u001b[0mb4\u001b[0m\u001b[0;34m.\u001b[0m\u001b[0mrebase_pass\u001b[0m\u001b[0;34m(\u001b[0m\u001b[0;34m)\u001b[0m\u001b[0;34m\u001b[0m\u001b[0;34m\u001b[0m\u001b[0m\n\u001b[0m",
      "\u001b[0;31mNameError\u001b[0m: name 'b4' is not defined"
     ]
    }
   ],
   "source": [
    "b4.rebase_pass()"
   ]
  },
  {
   "cell_type": "code",
   "execution_count": 61,
   "id": "a342fe31",
   "metadata": {},
   "outputs": [],
   "source": [
    "from pytket.extensions.qiskit import IBMQBackend\n",
    "from pytket.extensions.aqt import AQTBackend\n",
    "from pytket.extensions.qiskit import IBMQBackend\n",
    "from pytket.extensions.pyquil import ForestBackend, ForestStateBackend\n",
    "from pytket.extensions.ionq import IonQBackend\n",
    "from pytket.circuit.display import render_circuit_jupyter\n",
    "from pytket.passes import PlacementPass, RoutingPass, SequencePass\n",
    "from pytket.placement import LinePlacement\n",
    "from pytket.placement import GraphPlacement\n",
    "import pytket\n",
    "from pytket import qasm\n",
    "\n",
    "def get_tket_scores(qc_filepath:QuantumCircuit):\n",
    "    ibm_arch = pytket.architecture.Architecture(get_cmap_imbq_washington())\n",
    "    rigetti_arch = pytket.architecture.Architecture(get_rigetti_c_map(10))\n",
    "\n",
    "    b1 = IBMQBackend(\"ibmq_santiago\")\n",
    "    b2 = AQTBackend(device_name=\"sim/noise-model-1\", access_token='')\n",
    "    b3 = IonQBackend(api_key=\"\")\n",
    "    b4 = ForestStateBackend()\n",
    "    c = qasm.circuit_from_qasm(qc_filepath)\n",
    "\n",
    "    b1.rebase_pass().apply(c)\n",
    "    PlacementPass(LinePlacement(ibm_arch)).apply(c)\n",
    "    RoutingPass(ibm_arch).apply(c)\n",
    "    b1.rebase_pass().apply(c)\n",
    "    qc_qasm = qasm.circuit_to_qasm_str(c)\n",
    "    score_ibm = calc_score_from_str(qc_qasm, ibm_washington)\n",
    "\n",
    "    c = qasm.circuit_from_qasm(qc_filepath)\n",
    "    b2.rebase_pass().apply(c)\n",
    "    qc_qasm = qasm.circuit_to_qasm_str(c)\n",
    "    score_aqt = calc_score_from_str(qc_qasm, ionq)\n",
    "\n",
    "    c = qasm.circuit_from_qasm(qc_filepath)\n",
    "    b3.rebase_pass().apply(c)\n",
    "    qc_qasm = qasm.circuit_to_qasm_str(c)\n",
    "    score_ionq = calc_score_from_str(qc_qasm, ionq)\n",
    "\n",
    "    c = qasm.circuit_from_qasm(qc_filepath)\n",
    "    b4.rebase_pass().apply(c)\n",
    "    PlacementPass(LinePlacement(rigetti_arch)).apply(c)\n",
    "    RoutingPass(ibm_arch).apply(c)\n",
    "    b4.rebase_pass().apply(c)\n",
    "    qc_qasm = qasm.circuit_to_qasm_str(c)\n",
    "    score_rigetti = calc_score_from_str(qc_qasm, rigetti_m1)\n",
    "    \n",
    "    return [score_ibm, score_aqt, score_ionq, score_rigetti]"
   ]
  },
  {
   "cell_type": "code",
   "execution_count": 82,
   "id": "a33147c2",
   "metadata": {},
   "outputs": [
    {
     "name": "stdout",
     "output_type": "stream",
     "text": [
      "grover-noancilla_indep_2.qasm\n",
      "dj_indep_4.qasm\n",
      "shor_15_2_indep_15.qasm\n",
      "fail:  Cannot parse gate of type: cp\n",
      "wstate_indep_8.qasm\n",
      "portfolioqaoa_indep_5.qasm\n",
      "dj_indep_5.qasm\n",
      "qft_indep_8.qasm\n",
      "fail:  Cannot parse gate of type: cp\n",
      "grover-noancilla_indep_3.qasm\n",
      "grover-noancilla_indep_4.qasm\n",
      "ghz_indep_5.qasm\n",
      "dj_indep_2.qasm\n",
      "vqe_indep_5.qasm\n",
      "pricingput_indep_5.qasm\n",
      "qaoa_indep_5.qasm\n",
      "qpeexact_indep_8.qasm\n",
      "fail:  Cannot parse gate of type: cp\n",
      "dj_indep_3.qasm\n",
      "grover-noancilla_indep_5.qasm\n",
      "ae_indep_8.qasm\n",
      "fail:  Cannot parse gate of type: cp\n",
      "hhl_indep_2.qasm\n",
      "fail:  Cannot parse gate of type: cu\n",
      "qpeinexact_indep_8.qasm\n",
      "fail:  Cannot parse gate of type: cp\n",
      "qftentangled_indep_8.qasm\n",
      "fail:  Cannot parse gate of type: cp\n",
      "grover-v-chain_indep_5.qasm\n",
      "fail:  Cannot parse gate of type: rccx\n",
      "grover-v-chain_indep_4.qasm\n",
      "qgan_indep_5.qasm\n",
      "grover_indep_5.qasm\n",
      "fail:  Cannot parse gate of type: rccx\n",
      "hhl_indep_8.qasm\n",
      "fail:  Cannot parse gate of type: cu\n",
      "vqerandom_indep_8.qasm\n",
      "grover-v-chain_indep_3.qasm\n",
      "pricingcall_indep_5.qasm\n",
      "portfoliovqe_indep_5.qasm\n",
      "graphstate_indep_8.qasm\n",
      "hhl_indep_5.qasm\n",
      "fail:  Cannot parse gate of type: cu\n",
      "qwalk_indep_5.qasm\n",
      "fail:  Cannot parse gate of type: rccx\n",
      "grover-v-chain_indep_2.qasm\n",
      "tsp_indep_3.qasm\n"
     ]
    }
   ],
   "source": [
    "import os\n",
    "i = 0\n",
    "path_to_all_files = \"../MQTbench/qasm_output\"\n",
    "res = dict()\n",
    "res = []\n",
    "for file in os.listdir(path_to_all_files):\n",
    "    if \"indep\" in file:\n",
    "        print(file)\n",
    "        filepath = os.path.join(path_to_all_files, file)\n",
    "\n",
    "        try:        \n",
    "            res_qiskit = (get_qiskit_scores(filepath, opt_level=0))\n",
    "            res_pytket = (get_tket_scores(filepath))\n",
    "            for i in range(len(res_pytket)):\n",
    "                if res_pytket[i] != 0:\n",
    "                    score = (res_qiskit[i])/(res_pytket[i])\n",
    "                    res.append(score)\n",
    "        except Exception as e:\n",
    "            print(\"fail: \", e)\n",
    "        i+=1\n",
    "        if i>100:\n",
    "            break"
   ]
  },
  {
   "cell_type": "code",
   "execution_count": 80,
   "id": "50cbfddd",
   "metadata": {},
   "outputs": [
    {
     "data": {
      "image/png": "[encoded data removed]",
      "text/plain": [
       "<Figure size 432x288 with 1 Axes>"
      ]
     },
     "metadata": {
      "needs_background": "light"
     },
     "output_type": "display_data"
    }
   ],
   "source": [
    "from matplotlib import pyplot as plt\n",
    "#plt.xscale(\"log\")\n",
    "plt.hist(res, bins=100);"
   ]
  },
  {
   "cell_type": "code",
   "execution_count": 17,
   "id": "08fd3bc3",
   "metadata": {},
   "outputs": [],
   "source": [
    "def get_cmap_imbq_washington():\n",
    "    \"\"\"Returns the coupling map of the IBM-Q washington quantum computer.\"\"\"\n",
    "    c_map_ibmq_washington = [\n",
    "        [0, 1],\n",
    "        [1, 2],\n",
    "        [2, 3],\n",
    "        [3, 4],\n",
    "        [4, 5],\n",
    "        [5, 6],\n",
    "        [6, 7],\n",
    "        [7, 8],\n",
    "        [0, 14],\n",
    "        [14, 18],\n",
    "        [18, 19],\n",
    "        [19, 20],\n",
    "        [20, 21],\n",
    "        [21, 22],\n",
    "        [4, 15],\n",
    "        [15, 22],\n",
    "        [22, 23],\n",
    "        [23, 24],\n",
    "        [24, 25],\n",
    "        [25, 26],\n",
    "        [8, 16],\n",
    "        [16, 26],\n",
    "        [26, 27],\n",
    "        [27, 28],\n",
    "        [28, 29],\n",
    "        [29, 30],\n",
    "        [30, 31],\n",
    "        [31, 32],\n",
    "        [9, 10],\n",
    "        [10, 11],\n",
    "        [11, 12],\n",
    "        [12, 13],\n",
    "        [12, 17],\n",
    "        [17, 30],\n",
    "        [32, 36],\n",
    "        [36, 51],\n",
    "        [20, 33],\n",
    "        [33, 39],\n",
    "        [24, 34],\n",
    "        [34, 43],\n",
    "        [28, 35],\n",
    "        [35, 47],\n",
    "        [37, 38],\n",
    "        [38, 39],\n",
    "        [39, 40],\n",
    "        [40, 41],\n",
    "        [41, 42],\n",
    "        [42, 43],\n",
    "        [43, 44],\n",
    "        [44, 45],\n",
    "        [45, 46],\n",
    "        [46, 47],\n",
    "        [47, 48],\n",
    "        [48, 49],\n",
    "        [49, 50],\n",
    "        [50, 51],\n",
    "        [37, 52],\n",
    "        [52, 56],\n",
    "        [41, 53],\n",
    "        [53, 60],\n",
    "        [45, 54],\n",
    "        [54, 64],\n",
    "        [49, 55],\n",
    "        [55, 68],\n",
    "        [56, 57],\n",
    "        [57, 58],\n",
    "        [58, 59],\n",
    "        [59, 60],\n",
    "        [60, 61],\n",
    "        [61, 62],\n",
    "        [62, 63],\n",
    "        [63, 64],\n",
    "        [64, 65],\n",
    "        [65, 66],\n",
    "        [66, 67],\n",
    "        [67, 68],\n",
    "        [68, 69],\n",
    "        [69, 70],\n",
    "        [70, 74],\n",
    "        [74, 89],\n",
    "        [58, 71],\n",
    "        [71, 77],\n",
    "        [62, 72],\n",
    "        [72, 81],\n",
    "        [66, 73],\n",
    "        [73, 85],\n",
    "        [75, 76],\n",
    "        [76, 77],\n",
    "        [77, 78],\n",
    "        [78, 79],\n",
    "        [79, 80],\n",
    "        [80, 81],\n",
    "        [81, 82],\n",
    "        [82, 83],\n",
    "        [83, 84],\n",
    "        [84, 85],\n",
    "        [85, 86],\n",
    "        [86, 87],\n",
    "        [87, 88],\n",
    "        [88, 89],\n",
    "        [75, 90],\n",
    "        [90, 94],\n",
    "        [79, 91],\n",
    "        [91, 98],\n",
    "        [83, 92],\n",
    "        [92, 102],\n",
    "        [87, 93],\n",
    "        [93, 106],\n",
    "        [94, 95],\n",
    "        [95, 96],\n",
    "        [96, 97],\n",
    "        [97, 98],\n",
    "        [98, 99],\n",
    "        [99, 100],\n",
    "        [100, 101],\n",
    "        [101, 102],\n",
    "        [102, 103],\n",
    "        [103, 104],\n",
    "        [104, 105],\n",
    "        [105, 106],\n",
    "        [106, 107],\n",
    "        [107, 108],\n",
    "        [108, 112],\n",
    "        [112, 126],\n",
    "        [96, 109],\n",
    "        [100, 110],\n",
    "        [110, 118],\n",
    "        [104, 111],\n",
    "        [111, 122],\n",
    "        [113, 114],\n",
    "        [114, 115],\n",
    "        [115, 116],\n",
    "        [116, 117],\n",
    "        [117, 118],\n",
    "        [118, 119],\n",
    "        [119, 120],\n",
    "        [120, 121],\n",
    "        [121, 122],\n",
    "        [122, 123],\n",
    "        [123, 124],\n",
    "        [124, 125],\n",
    "        [125, 126],\n",
    "    ]\n",
    "\n",
    "    inverted = [[item[1], item[0]] for item in c_map_ibmq_washington]\n",
    "    c_map_ibmq_washington = c_map_ibmq_washington + inverted\n",
    "    return c_map_ibmq_washington"
   ]
  },
  {
   "cell_type": "code",
   "execution_count": 18,
   "id": "2b75a3cd",
   "metadata": {
    "scrolled": false
   },
   "outputs": [],
   "source": [
    "def get_rigetti_c_map(circles: int = 4):\n",
    "    \"\"\"Returns a coupling map of the circular layout scheme used by Rigetti.\n",
    "\n",
    "    Keyword arguments:\n",
    "    circles -- number of circles, each one comprises 8 qubits\n",
    "    \"\"\"\n",
    "    if circles != 10:\n",
    "        c_map_rigetti = []\n",
    "        for j in range(circles):\n",
    "            for i in range(0, 7):\n",
    "                c_map_rigetti.append([i + j * 8, i + 1 + j * 8])\n",
    "\n",
    "                if i == 6:\n",
    "                    c_map_rigetti.append([0 + j * 8, 7 + j * 8])\n",
    "\n",
    "            if j != 0:\n",
    "                c_map_rigetti.append([j * 8 - 6, j * 8 + 5])\n",
    "                c_map_rigetti.append([j * 8 - 7, j * 8 + 6])\n",
    "\n",
    "        inverted = [[item[1], item[0]] for item in c_map_rigetti]\n",
    "        c_map_rigetti = c_map_rigetti + inverted\n",
    "    else:\n",
    "        c_map_rigetti = []\n",
    "        for j in range(5):\n",
    "            for i in range(0, 7):\n",
    "                c_map_rigetti.append([i + j * 8, i + 1 + j * 8])\n",
    "\n",
    "                if i == 6:\n",
    "                    c_map_rigetti.append([0 + j * 8, 7 + j * 8])\n",
    "\n",
    "            if j != 0:\n",
    "                c_map_rigetti.append([j * 8 - 6, j * 8 + 5])\n",
    "                c_map_rigetti.append([j * 8 - 7, j * 8 + 6])\n",
    "\n",
    "        for j in range(5):\n",
    "            m = 8 * j + 5 * 8\n",
    "            for i in range(0, 7):\n",
    "                c_map_rigetti.append([i + m, i + 1 + m])\n",
    "\n",
    "                if i == 6:\n",
    "                    c_map_rigetti.append([0 + m, 7 + m])\n",
    "\n",
    "            if j != 0:\n",
    "                c_map_rigetti.append([m - 6, m + 5])\n",
    "                c_map_rigetti.append([m - 7, m + 6])\n",
    "\n",
    "        for n in range(5):\n",
    "            c_map_rigetti.append([n * 8 + 3, n * 8 + 5 * 8])\n",
    "            c_map_rigetti.append([n * 8 + 4, n * 8 + 7 + 5 * 8])\n",
    "\n",
    "        inverted = [[item[1], item[0]] for item in c_map_rigetti]\n",
    "        c_map_rigetti = c_map_rigetti + inverted\n",
    "\n",
    "    return c_map_rigetti"
   ]
  },
  {
   "cell_type": "markdown",
   "id": "7ba4bcd1",
   "metadata": {},
   "source": [
    "# Pennylane"
   ]
  },
  {
   "cell_type": "code",
   "execution_count": null,
   "id": "975af259",
   "metadata": {},
   "outputs": [],
   "source": [
    "import pennylane as qml\n",
    "from pennylane import numpy as np"
   ]
  },
  {
   "cell_type": "code",
   "execution_count": null,
   "id": "6271e83e",
   "metadata": {},
   "outputs": [],
   "source": [
    "ibm_native_gates = FakeMontreal().configuration().basis_gates\n",
    "rigetti_native_gates = [\"rx\", \"rz\", \"cz\"]\n",
    "ibm_native_gates\n",
    "\n",
    "dev = qml.device('default.qubit', wires=[0, 1, 2])\n",
    "qnode = qml.QNode(qfunc, dev)\n",
    "print(qml.draw(qnode)(0.2, 0.3, 0.4))\n",
    "\n",
    "compiled_qfunc = qml.compile(basis_set=rigetti_native_gates)(qfunc)\n",
    "compiled_qnode = qml.QNode(compiled_qfunc, dev)\n",
    "print(qml.draw(compiled_qnode)(0.2, 0.3, 0.4))"
   ]
  },
  {
   "cell_type": "code",
   "execution_count": null,
   "id": "288fc804",
   "metadata": {},
   "outputs": [],
   "source": [
    "path_file = \"../MQTbench/qasm_output/dj_indep_4.qasm\"\n",
    "with open (path_file, \"r\") as myfile:\n",
    "    data = myfile.read()\n",
    "my_circuit = qml.from_qasm(data)\n",
    "\n",
    "n=4\n",
    "dev = qml.device('default.qubit', wires=n)\n",
    "@qml.qnode(dev)\n",
    "def circuit():\n",
    "    my_circuit(wires=tuple(range(n)))\n",
    "    return [qml.expval(qml.PauliZ(i)) for i in range(n)]\n",
    "\n",
    "#circuit()\n",
    "#print(dev._circuit.qasm(formatted=True))"
   ]
  },
  {
   "cell_type": "code",
   "execution_count": null,
   "id": "be022fce",
   "metadata": {},
   "outputs": [],
   "source": [
    "pennylane_ibm=[\"RZ\", \"SX\", \"PauliX\", \"CNOT\"]\n",
    "pennylane_rigetti=[\"RX\", \"RZ\", \"CZ\"]"
   ]
  },
  {
   "cell_type": "code",
   "execution_count": null,
   "id": "94017cf2",
   "metadata": {},
   "outputs": [],
   "source": [
    "compiled_qfunc1 = qml.compile()(circuit)\n",
    "compiled_qnode1 = qml.QNode(compiled_qfunc1, dev)\n",
    "print(qml.draw(compiled_qnode1)())\n",
    "\n",
    "compiled_qfunc2 = qml.compile(\n",
    "    basis_set=[\"CNOT\", \"RX\", \"RY\", \"RZ\"],\n",
    "    num_passes=2\n",
    ")(circuit)\n",
    "\n",
    "compiled_qnode2 = qml.QNode(compiled_qfunc2, dev)\n",
    "print(qml.draw(compiled_qnode2)())"
   ]
  },
  {
   "cell_type": "code",
   "execution_count": null,
   "id": "a08ff5ba",
   "metadata": {},
   "outputs": [],
   "source": [
    "def qfunc(x, y, z):\n",
    "    qml.Hadamard(wires=0)\n",
    "    qml.Hadamard(wires=1)\n",
    "    qml.Hadamard(wires=2)\n",
    "    qml.RZ(z, wires=2)\n",
    "    qml.CNOT(wires=[2, 1])\n",
    "    qml.RX(z, wires=0)\n",
    "    qml.CNOT(wires=[1, 0])\n",
    "    qml.RX(x, wires=0)\n",
    "    qml.CNOT(wires=[1, 0])\n",
    "    qml.RZ(-z, wires=2)\n",
    "    qml.RX(y, wires=2)\n",
    "    qml.PauliY(wires=2)\n",
    "    qml.CY(wires=[1, 2])\n",
    "    return qml.expval(qml.PauliZ(wires=0))\n",
    "\n",
    "dev = qml.device('default.qubit', wires=[0, 1, 2])\n",
    "qnode = qml.QNode(qfunc, dev)\n",
    "print(qml.draw(qnode)(0.2, 0.3, 0.4))\n",
    "\n",
    "compiled_qfunc = qml.compile(\n",
    "    pipeline=[\n",
    "        qml.transforms.commute_controlled(direction=\"left\"),\n",
    "        qml.transforms.merge_rotations(atol=1e-6),\n",
    "        qml.transforms.cancel_inverses\n",
    "    ],\n",
    "    basis_set=[\"CNOT\", \"RX\", \"RY\", \"CZ\"],\n",
    "    num_passes=2\n",
    ")(qfunc)\n",
    "\n",
    "compiled_qnode = qml.QNode(compiled_qfunc, dev)\n",
    "print(qml.draw(compiled_qnode)(0.2, 0.3, 0.4))"
   ]
  },
  {
   "cell_type": "code",
   "execution_count": null,
   "id": "7d3b37ba",
   "metadata": {
    "scrolled": true
   },
   "outputs": [],
   "source": [
    "def qfunc():\n",
    "    qml.Hadamard(wires=0)    \n",
    "    qml.Hadamard(wires=1)\n",
    "    qml.Hadamard(wires=2)\n",
    "    qml.RZ(-0.4, wires=2)\n",
    "    qml.CNOT(wires=[2, 1])\n",
    "    qml.RX(-0.4, wires=0)\n",
    "    qml.CNOT(wires=[1, 0])\n",
    "    qml.RX(-0.4, wires=0)\n",
    "    qml.CNOT(wires=[1, 0])\n",
    "    qml.RZ(-0.4, wires=2)\n",
    "    qml.RX(1, wires=2)\n",
    "    qml.PauliY(wires=2)\n",
    "    qml.CY(wires=[1, 2])\n",
    "    return [qml.expval(qml.PauliZ(i)) for i in range(2)]\n",
    "\n",
    "dev = qml.device('default.qubit', wires=[0, 1, 2])\n",
    "qnode = qml.QNode(qfunc, dev)\n",
    "print(qml.draw(qnode)())\n",
    "\n",
    "compiled_qfunc = qml.compile(\n",
    "    basis_set=[\"CNOT\", \"Rdawd\", \"wdfawdaw\", \"dawd\"],\n",
    "    num_passes=20\n",
    ")(qfunc)\n",
    "\n",
    "compiled_qnode = qml.QNode(compiled_qfunc, dev)\n",
    "print(qml.draw(compiled_qnode)())"
   ]
  },
  {
   "cell_type": "markdown",
   "id": "02189cd9",
   "metadata": {},
   "source": [
    "# Old"
   ]
  }
 ],
 "metadata": {
  "kernelspec": {
   "display_name": "Python 3 (ipykernel)",
   "language": "python",
   "name": "python3"
  },
  "language_info": {
   "codemirror_mode": {
    "name": "ipython",
    "version": 3
   },
   "file_extension": ".py",
   "mimetype": "text/x-python",
   "name": "python",
   "nbconvert_exporter": "python",
   "pygments_lexer": "ipython3",
   "version": "3.9.7"
  }
 },
 "nbformat": 4,
 "nbformat_minor": 5
}
