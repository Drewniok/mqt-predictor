{
 "cells": [
  {
   "cell_type": "markdown",
   "id": "d7a71c62",
   "metadata": {},
   "source": [
    "# Workflow Debugging"
   ]
  },
  {
   "cell_type": "code",
   "execution_count": null,
   "id": "d5225379",
   "metadata": {
    "scrolled": true
   },
   "outputs": [],
   "source": [
    "\n",
    "# X_train, X_test, y_train, y_test = train_test_split(X, y, test_size=0.33, random_state=42)\n",
    "\n",
    "# non_zero_indices = []\n",
    "# for i in range(len(X[0])):\n",
    "#    if sum(X[:,i]) > 0:\n",
    "#        non_zero_indices.append(i)\n",
    "# X = X[:, non_zero_indices]\n",
    "# openqasm_gates_list = utils.get_openqasm_gates()\n",
    "# res = [openqasm_gates_list[i] for i in range(0, len(openqasm_gates_list))]\n",
    "# res.append(\"num_qubits\")\n",
    "# features = list(np.sort(np.array(res)))\n",
    "#features = features[non_zero_indices]\n",
    "# print(features)\n",
    "\n",
    "# scaler = preprocessing.StandardScaler().fit(X)\n",
    "# X = preprocessing.normalize(X, norm='l2')\n",
    "# X = scaler.transform(X)"
   ]
  },
  {
   "cell_type": "code",
   "execution_count": null,
   "id": "7e9a4d52",
   "metadata": {
    "scrolled": true
   },
   "outputs": [],
   "source": [
    "from predictor.driver import Predictor\n",
    "from predictor.src import utils\n",
    "\n",
    "import numpy as np\n",
    "\n",
    "from sklearn import preprocessing\n",
    "from sklearn.model_selection import train_test_split\n",
    "\n",
    "\n",
    "training_data, names_list, scores_list = Predictor.generate_trainingdata_from_qasm_files(folder_path=\"qasm_files/\")"
   ]
  },
  {
   "cell_type": "code",
   "execution_count": null,
   "id": "9f437cbd",
   "metadata": {},
   "outputs": [],
   "source": [
    "X, y = zip(*training_data)\n",
    "X = np.array(X)\n",
    "y = np.array(y)\n",
    "train_decision_tree_classifier(X,y, names_list, scores_list, max_depth=50);"
   ]
  },
  {
   "cell_type": "code",
   "execution_count": null,
   "id": "8611ea65",
   "metadata": {},
   "outputs": [],
   "source": []
  },
  {
   "cell_type": "markdown",
   "id": "ffd20a35",
   "metadata": {},
   "source": [
    "# Parameter Gridsearch"
   ]
  },
  {
   "cell_type": "code",
   "execution_count": null,
   "id": "0012be05",
   "metadata": {},
   "outputs": [],
   "source": [
    "import matplotlib.pyplot as plt\n",
    "from predictor.src import utils\n",
    "from sklearn.tree import plot_tree\n",
    "from sklearn import tree\n",
    "\n",
    "X_new, y_new, indices = np.array(X), np.array(y), np.array(range(len(y)))\n",
    "(\n",
    "    X_train,\n",
    "    X_test,\n",
    "    y_train,\n",
    "    y_test,\n",
    "    indices_train,\n",
    "    indices_test,\n",
    ") = train_test_split(X_new, y_new, indices, test_size=0.3, random_state=42)\n",
    "\n",
    "clf_instance = tree.DecisionTreeClassifier()\n",
    "\n"
   ]
  },
  {
   "cell_type": "code",
   "execution_count": null,
   "id": "6aa8b2b7",
   "metadata": {},
   "outputs": [],
   "source": [
    "from sklearn.model_selection import GridSearchCV\n",
    "tree_param = [{'criterion': ['entropy', 'gini'], \n",
    "              'max_depth': [i for i in range(1,15,1)],\n",
    "              'min_samples_split': [i for i in range(2,20,2)],\n",
    "              'min_samples_leaf': [i for i in range(2,20,2)],\n",
    "              'max_leaf_nodes': [i for i in range(2,200, 20)],\n",
    "              'max_features': [i for i in range(1,45,5)]},\n",
    "             ]\n",
    "clf = GridSearchCV(clf_instance, tree_param, cv=5)\n",
    "clf.fit(X_train, y_train)\n",
    "print(clf.best_estimator_)\n",
    "print(clf.best_score_)"
   ]
  },
  {
   "cell_type": "code",
   "execution_count": null,
   "id": "602cabe1",
   "metadata": {},
   "outputs": [],
   "source": [
    "\n"
   ]
  },
  {
   "cell_type": "markdown",
   "id": "73fbb78f",
   "metadata": {},
   "source": [
    "# Decision Path Generation"
   ]
  },
  {
   "cell_type": "code",
   "execution_count": null,
   "id": "bd5b2842",
   "metadata": {},
   "outputs": [],
   "source": [
    "clf_instance.fit(X_train, y_train)\n",
    "n_nodes = clf_instance.tree_.node_count\n",
    "children_left = clf_instance.tree_.children_left\n",
    "children_right = clf_instance.tree_.children_right\n",
    "feature = clf_instance.tree_.feature\n",
    "threshold = clf_instance.tree_.threshold\n",
    "node_indicator = clf_instance.decision_path(X_test)\n",
    "leaf_id = clf_instance.apply(X_test)\n",
    "\n",
    "sample_id = 0\n",
    "# obtain ids of the nodes `sample_id` goes through, i.e., row `sample_id`\n",
    "node_index = node_indicator.indices[\n",
    "    node_indicator.indptr[sample_id] : node_indicator.indptr[sample_id + 1]\n",
    "]\n",
    "\n",
    "print(\"Rules used to predict sample {id}:\\n\".format(id=sample_id))\n",
    "for node_id in node_index:\n",
    "    # continue to the next node if it is a leaf node\n",
    "    if leaf_id[sample_id] == node_id:\n",
    "        continue\n",
    "    # check if value of the split feature for sample 0 is below threshold\n",
    "    if X_test[sample_id, feature[node_id]] <= threshold[node_id]:\n",
    "        threshold_sign = \"<=\"\n",
    "    else:\n",
    "        threshold_sign = \">\"\n",
    "\n",
    "    print(\n",
    "        \"decision node {node} : (X_test[{sample}, {feature}] = {value}) \"\n",
    "        \"{inequality} {threshold})\".format(\n",
    "            node=node_id,\n",
    "            sample=sample_id,\n",
    "            feature=features[feature[node_id]],\n",
    "            value=X_test[sample_id, feature[node_id]],\n",
    "            inequality=threshold_sign,\n",
    "            threshold=threshold[node_id],\n",
    "        )\n",
    "    )"
   ]
  },
  {
   "cell_type": "markdown",
   "id": "68ed2cfc",
   "metadata": {},
   "source": [
    "# Other Tree Plot Types"
   ]
  },
  {
   "cell_type": "code",
   "execution_count": null,
   "id": "70bbaec2",
   "metadata": {},
   "outputs": [],
   "source": [
    "import matplotlib.pyplot as plt\n",
    "from sklearn import tree\n",
    "from sklearn.tree import plot_tree\n",
    "\n",
    "fig = plt.figure(figsize=(23, 5))\n",
    "clf = Predictor._clf\n",
    "\n",
    "\n",
    "from dtreeviz.trees import dtreeviz # remember to load the package\n",
    "machines = [\n",
    "        \"qiskit_ibm_washington\",\n",
    "        \"qiskit_ibm_montreal\",\n",
    "        \"qiskit_ionq\",\n",
    "        \"qiskit_rigetti\",\n",
    "        \"qiskit_oqc\",\n",
    "        \"tket_ibm_washington\",\n",
    "        \"tket_ibm_montreal\",\n",
    "        \"tket_ionq\",\n",
    "        \"tket_rigetti\",\n",
    "        \"tket_oqc\",\n",
    "    ]\n",
    "openqasm_gates_list = utils.get_openqasm_gates()\n",
    "res = [openqasm_gates_list[i] for i in range(0, len(openqasm_gates_list))]\n",
    "res.append(\"num_qubits\")\n",
    "features = np.sort(np.array(res))\n",
    "\n",
    "X, y, indices = np.array(X), np.array(y), np.array(range(len(y)))\n",
    "(\n",
    "    X_train,\n",
    "    X_test,\n",
    "    y_train,\n",
    "    y_test,\n",
    "    indices_train,\n",
    "    indices_test,\n",
    ") = train_test_split(X, y, indices, test_size=0.3, random_state=42)\n",
    "\n",
    "clf = tree.DecisionTreeClassifier(max_depth=3)\n",
    "clf = clf.fit(X_train, y_train)\n",
    "viz = dtreeviz(clf, \n",
    "               X_train, \n",
    "               y_train,\n",
    "               target_name=\"target\",\n",
    "               feature_names=features,\n",
    "               class_names=machines,\n",
    "               fancy=True\n",
    ")\n",
    "viz.save_svg()\n",
    "viz\n"
   ]
  },
  {
   "cell_type": "code",
   "execution_count": null,
   "id": "c9517658",
   "metadata": {},
   "outputs": [],
   "source": [
    "import graphviz\n",
    "clf = tree.DecisionTreeClassifier(max_depth=10)\n",
    "clf = clf.fit(X_train, y_train)\n",
    "dot_data = tree.export_graphviz(clf, out_file=None, \n",
    "               feature_names=features,\n",
    "               class_names=machines,\n",
    "                                filled=True)\n",
    "\n",
    "# Draw graph\n",
    "graph = graphviz.Source(dot_data, format=\"png\") \n",
    "graph.render(\"graphviz\")"
   ]
  },
  {
   "cell_type": "markdown",
   "id": "1efc3821",
   "metadata": {},
   "source": [
    "# Debugging"
   ]
  },
  {
   "cell_type": "code",
   "execution_count": null,
   "id": "dc3c2462",
   "metadata": {},
   "outputs": [],
   "source": [
    "from mqt.bench import get_one_benchmark"
   ]
  },
  {
   "cell_type": "code",
   "execution_count": null,
   "id": "d9136460",
   "metadata": {},
   "outputs": [],
   "source": [
    "from pytket.extensions.qiskit import qiskit_to_tk\n",
    "from qiskit.compiler import transpile\n",
    "from qiskit import QuantumCircuit"
   ]
  },
  {
   "cell_type": "code",
   "execution_count": null,
   "id": "4ae70548",
   "metadata": {},
   "outputs": [],
   "source": [
    "from pytket.qasm import circuit_from_qasm\n",
    "qc = QuantumCircuit.from_qasm_file(\"qasm_compiled/excitedstate_small_indep_4_oqc_qiskit_opt_2_4.qasm\")\n",
    "for elem in qc.data:\n",
    "    print(elem)"
   ]
  },
  {
   "cell_type": "code",
   "execution_count": null,
   "id": "54cbd7b6",
   "metadata": {},
   "outputs": [],
   "source": [
    "for instruction, qargs, cargs in qc5.data:\n",
    "    print(instruction.name, [elem.index for elem in qargs])"
   ]
  },
  {
   "cell_type": "code",
   "execution_count": null,
   "id": "d6b79b45",
   "metadata": {},
   "outputs": [],
   "source": [
    "\n",
    "import json\n",
    "\n",
    "with open('rigetti_m1_calibration.json', 'r') as f:\n",
    "    backend = json.load(f)\n",
    "\n",
    "for elem in backend:\n",
    "    print(elem)"
   ]
  },
  {
   "cell_type": "code",
   "execution_count": null,
   "id": "9dfd7875",
   "metadata": {},
   "outputs": [],
   "source": [
    "backend[\"specs\"][\"2Q\"]"
   ]
  },
  {
   "cell_type": "code",
   "execution_count": null,
   "id": "5bf843d5",
   "metadata": {},
   "outputs": [],
   "source": [
    "import pandas\n",
    "df = pandas.read_csv('ibmq_montreal_calibrations.csv')\n",
    "df.head()\n",
    "# if gate_type == \"sx\":\n",
    "#     index = 10\n",
    "# elif gate_type == \"rz\":\n",
    "#     index = 11\n",
    "# elif gate_type == \"x\":\n",
    "#     index = 11\n",
    "# elif gate_type == \"cx\":\n",
    "#     index = 12\n",
    "# elif gate_type == \"measure\":\n",
    "#     index = 5\n"
   ]
  },
  {
   "cell_type": "code",
   "execution_count": null,
   "id": "630d8b90",
   "metadata": {},
   "outputs": [],
   "source": [
    "tmp = '1_2'\n",
    "for elem in df.loc[1][12].split(\";\"):\n",
    "    if tmp in (elem.split(\":\")[0]):\n",
    "        print(elem.split(\":\")[1])"
   ]
  },
  {
   "cell_type": "code",
   "execution_count": null,
   "id": "9edb9268",
   "metadata": {},
   "outputs": [],
   "source": [
    "df.loc[1][12]"
   ]
  },
  {
   "cell_type": "code",
   "execution_count": null,
   "id": "8c18b469",
   "metadata": {},
   "outputs": [],
   "source": [
    "from predictor.src import utils\n",
    "import networkx as nx"
   ]
  },
  {
   "cell_type": "code",
   "execution_count": null,
   "id": "aa321ffb",
   "metadata": {},
   "outputs": [],
   "source": [
    "def get_cmap_rigetti_m1():\n",
    "    \"\"\"Returns a coupling map of the circular layout scheme used by Rigetti Aspen M1.\n",
    "\n",
    "    Keyword arguments:\n",
    "    \"\"\"\n",
    "    c_map_rigetti = []\n",
    "    for j in range(5):\n",
    "        for i in range(0, 7):\n",
    "            c_map_rigetti.append([i + j * 8, i + 1 + j * 8])\n",
    "\n",
    "            if i == 6:\n",
    "                c_map_rigetti.append([0 + j * 8, 7 + j * 8])\n",
    "\n",
    "        if j != 0:\n",
    "            c_map_rigetti.append([j * 8 - 6, j * 8 + 5])\n",
    "            c_map_rigetti.append([j * 8 - 7, j * 8 + 6])\n",
    "\n",
    "    for j in range(5):\n",
    "        m = 8 * j + 5 * 8\n",
    "        for i in range(0, 7):\n",
    "            c_map_rigetti.append([i + m, i + 1 + m])\n",
    "\n",
    "            if i == 6:\n",
    "                c_map_rigetti.append([0 + m, 7 + m])\n",
    "\n",
    "        if j != 0:\n",
    "            c_map_rigetti.append([m - 6, m + 5])\n",
    "            c_map_rigetti.append([m - 7, m + 6])\n",
    "\n",
    "    for n in range(5):\n",
    "        c_map_rigetti.append([n * 8 + 3, n * 8 + 5 * 8])\n",
    "        c_map_rigetti.append([n * 8 + 4, n * 8 + 7 + 5 * 8])\n",
    "\n",
    "\n",
    "\n",
    "    inverted = [[item[1], item[0]] for item in c_map_rigetti]\n",
    "    c_map_rigetti = c_map_rigetti + inverted\n",
    "\n",
    "    return c_map_rigetti"
   ]
  },
  {
   "cell_type": "code",
   "execution_count": null,
   "id": "78b7206c",
   "metadata": {},
   "outputs": [],
   "source": [
    "\n",
    "arch = get_cmap_rigetti_m1()\n",
    "nx.draw_kamada_kawai(nx.Graph(arch), with_labels=True, font_color=\"white\")"
   ]
  },
  {
   "cell_type": "code",
   "execution_count": null,
   "id": "072cea75",
   "metadata": {},
   "outputs": [],
   "source": [
    "from qiskit.transpiler import CouplingMap"
   ]
  },
  {
   "cell_type": "code",
   "execution_count": null,
   "id": "3db08d23",
   "metadata": {},
   "outputs": [],
   "source": []
  },
  {
   "cell_type": "code",
   "execution_count": null,
   "id": "307c9e0e",
   "metadata": {},
   "outputs": [],
   "source": [
    "print(cmap)"
   ]
  },
  {
   "cell_type": "code",
   "execution_count": null,
   "id": "c984c4e8",
   "metadata": {},
   "outputs": [],
   "source": [
    "from pytket.qasm import circuit_from_qasm\n",
    "from qiskit import transpile, QuantumCircuit\n",
    "qc = QuantumCircuit.from_qasm_file(\"qasm_compiled/excitedstate_small_indep_4_ibm_washington_qiskit_opt_2_1.qasm\")\n",
    "cmap = CouplingMap(couplinglist=get_cmap_rigetti_m1())\n",
    "transpile(qc, coupling_map=cmap)"
   ]
  },
  {
   "cell_type": "code",
   "execution_count": null,
   "id": "6e6e4f98",
   "metadata": {},
   "outputs": [],
   "source": [
    "from predictor.src import utils"
   ]
  },
  {
   "cell_type": "code",
   "execution_count": null,
   "id": "3f8b5c5a",
   "metadata": {},
   "outputs": [],
   "source": [
    "mapping = utils.get_rigetti_qubit_dict()"
   ]
  },
  {
   "cell_type": "code",
   "execution_count": null,
   "id": "45d20a43",
   "metadata": {},
   "outputs": [],
   "source": [
    "with open(\"oqc_lucy_calibration.json\", \"r\") as f:\n",
    "    backend = json.load(f)\n",
    "\n",
    "fid2 = []\n",
    "for elem in backend[\"twoQubitProperties\"]:\n",
    "    val = backend[\"twoQubitProperties\"][elem][\n",
    "            \"twoQubitGateFidelity\"\n",
    "        ][0].get(\"fidelity\")\n",
    "    if val:\n",
    "        fid2.append(val)\n",
    "\n",
    "avg_fid2 = sum(fid2) / len(fid2)\n",
    "avg_fid2"
   ]
  },
  {
   "cell_type": "markdown",
   "id": "a405592f",
   "metadata": {},
   "source": [
    "# Nachbehandlung OQC qasm files"
   ]
  },
  {
   "cell_type": "code",
   "execution_count": null,
   "id": "24d2f4d4",
   "metadata": {},
   "outputs": [],
   "source": [
    "import os\n",
    "directory = \"qasm_compiled\"\n",
    "for filename in os.listdir(directory):\n",
    "    f = os.path.join(directory, filename)\n",
    "    # checking if it is a file\n",
    "    if \"oqc_qiskit\" in f:\n",
    "        with open(f, \"r\") as f:\n",
    "            lines = f.readlines()\n",
    "        new_name = os.path.join(\"qasm_compiled_postprocessed\", filename)\n",
    "        with open(new_name, \"w\") as f:\n",
    "            for line in lines:\n",
    "                if not (\"gate rzx\" in line.strip(\"\\n\") or \"gate ecr\" in line.strip(\"\\n\")):\n",
    "                    f.write(line)\n",
    "                if (\"gate ecr\" in line.strip(\"\\n\")):\n",
    "                    f.write(\"gate rzx(param0) q0,q1 { h q1; cx q0,q1; rz(param0) q1; cx q0,q1; h q1; }\\n\")\n",
    "                    f.write(\"gate ecr q0,q1 { rzx(pi/4) q0,q1; x q0; rzx(-pi/4) q0,q1; }\\n\")\n",
    "                    \n",
    "        qc = QuantumCircuit.from_qasm_file(new_name)\n",
    "        print(\"New qasm file for: \", new_name)\n",
    "        \n",
    "\n",
    "    elif \"oqc_tket\" in f:\n",
    "        with open(f, \"r\") as f:\n",
    "            lines = f.readlines()\n",
    "        new_name = os.path.join(\"qasm_compiled_postprocessed\", filename)\n",
    "        with open(new_name, \"w\") as f:\n",
    "            count = 0\n",
    "            for line in lines:\n",
    "                f.write(line)\n",
    "                count+=1\n",
    "                if count == 2:\n",
    "                    f.write(\"gate rzx(param0) q0,q1 { h q1; cx q0,q1; rz(param0) q1; cx q0,q1; h q1; }\\n\")\n",
    "                    f.write(\"gate ecr q0,q1 { rzx(pi/4) q0,q1; x q0; rzx(-pi/4) q0,q1; }\\n\")\n",
    "        qc = QuantumCircuit.from_qasm_file(new_name)\n",
    "        print(\"New qasm file for: \", new_name)"
   ]
  },
  {
   "cell_type": "markdown",
   "id": "188b5999",
   "metadata": {},
   "source": [
    "# Nachbehandlung: Check if File is readable at all"
   ]
  },
  {
   "cell_type": "code",
   "execution_count": null,
   "id": "92011a35",
   "metadata": {},
   "outputs": [],
   "source": [
    "import os\n",
    "from qiskit import QuantumCircuit\n",
    "directory = \"qasm_compiled\"\n",
    "for filename in os.listdir(directory):\n",
    "    f = os.path.join(directory, filename)\n",
    "    if f.endswith(\".qasm\"):\n",
    "        try:\n",
    "            qc = QuantumCircuit.from_qasm_file(f)\n",
    "        except Exception as e:\n",
    "            print(\"Fail: \", e)\n",
    "            # Delete file: os.remove(f)"
   ]
  },
  {
   "cell_type": "code",
   "execution_count": null,
   "id": "698c1ebf",
   "metadata": {},
   "outputs": [],
   "source": [
    "import glob\n",
    "files=glob.glob(\"qasm_compiled/ae_indep_2_*\")\n",
    "print(files)"
   ]
  },
  {
   "cell_type": "code",
   "execution_count": null,
   "id": "c3c5bf9f",
   "metadata": {},
   "outputs": [],
   "source": []
  }
 ],
 "metadata": {
  "kernelspec": {
   "display_name": "Python 3 (ipykernel)",
   "language": "python",
   "name": "python3"
  },
  "language_info": {
   "codemirror_mode": {
    "name": "ipython",
    "version": 3
   },
   "file_extension": ".py",
   "mimetype": "text/x-python",
   "name": "python",
   "nbconvert_exporter": "python",
   "pygments_lexer": "ipython3",
   "version": "3.9.12"
  }
 },
 "nbformat": 4,
 "nbformat_minor": 5
}
