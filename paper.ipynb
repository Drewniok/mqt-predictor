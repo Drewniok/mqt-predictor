{
 "cells": [
  {
   "cell_type": "code",
   "execution_count": 25,
   "outputs": [],
   "source": [
    "from qiskit import QuantumCircuit, transpile, QuantumRegister\n",
    "from qiskit.providers.fake_provider import FakeQuito\n",
    "from qiskit.circuit import Qubit\n",
    "from qiskit.circuit import Parameter\n",
    "from qiskit import Aer\n",
    "import numpy as np"
   ],
   "metadata": {
    "collapsed": false,
    "ExecuteTime": {
     "end_time": "2024-02-29T14:39:56.431809Z",
     "start_time": "2024-02-29T14:39:56.419029Z"
    }
   },
   "id": "9e49c84c87253241"
  },
  {
   "cell_type": "code",
   "execution_count": 26,
   "id": "initial_id",
   "metadata": {
    "collapsed": true,
    "ExecuteTime": {
     "end_time": "2024-02-29T14:39:56.432299Z",
     "start_time": "2024-02-29T14:39:56.422671Z"
    }
   },
   "outputs": [],
   "source": [
    "def calc_expected_fidelity_ibm(qc: QuantumCircuit, calibration) -> float:\n",
    "    res = 1.0\n",
    "    for instruction, qargs, _cargs in qc.data:\n",
    "        gate_type = instruction.name\n",
    "\n",
    "        assert gate_type in [\"rz\", \"sx\", \"x\", \"cx\", \"measure\", \"barrier\"]\n",
    "\n",
    "        if gate_type != \"barrier\":\n",
    "            assert len(qargs) in [1, 2]\n",
    "            first_qubit = calc_qubit_index(qargs, qc.qregs, 0)\n",
    "            if len(qargs) == 1:\n",
    "\n",
    "                if gate_type == \"measure\":\n",
    "                    specific_error: float = calibration.readout_error(first_qubit)\n",
    "                else:\n",
    "                    specific_error = calibration.gate_error(gate_type, [first_qubit])\n",
    "\n",
    "            else:\n",
    "                second_qubit = calc_qubit_index(qargs, qc.qregs, 1)\n",
    "\n",
    "                specific_error = calibration.gate_error(gate_type, [first_qubit, second_qubit])\n",
    "                    \n",
    "\n",
    "            res *= 1 - specific_error\n",
    "    return res\n",
    "\n",
    "def calc_qubit_index(qargs:list[Qubit], qregs: list[QuantumRegister], index: int) -> int:\n",
    "    offset = 0\n",
    "    for reg in qregs:\n",
    "        if qargs[index] not in reg:\n",
    "            offset += reg.size\n",
    "        else:\n",
    "            qubit_index: int = offset + reg.index(qargs[index])\n",
    "            return qubit_index\n",
    "    error_msg = f\"Global qubit index for local qubit {index} index not found.\"\n",
    "    raise ValueError(error_msg)"
   ]
  },
  {
   "cell_type": "code",
   "execution_count": 27,
   "outputs": [
    {
     "data": {
      "text/plain": "        ┌───┐     ┌───────┐               ░ ┌─┐         \n   q_0: ┤ H ├──■──┤ Rz(x) ├───────────■───░─┤M├─────────\n        ├───┤  │  └───────┘┌───────┐┌─┴─┐ ░ └╥┘┌─┐      \n   q_1: ┤ H ├──┼──────■────┤ Rz(x) ├┤ X ├─░──╫─┤M├──────\n        └───┘┌─┴─┐    │    ├───────┤└───┘ ░  ║ └╥┘┌─┐   \n   q_2: ─────┤ X ├────┼────┤ Rz(x) ├──■───░──╫──╫─┤M├───\n             └───┘  ┌─┴─┐  ├───────┤┌─┴─┐ ░  ║  ║ └╥┘┌─┐\n   q_3: ────────────┤ X ├──┤ Rz(x) ├┤ X ├─░──╫──╫──╫─┤M├\n                    └───┘  └───────┘└───┘ ░  ║  ║  ║ └╥┘\nmeas: 4/═════════════════════════════════════╩══╩══╩══╩═\n                                             0  1  2  3 ",
      "text/html": "<pre style=\"word-wrap: normal;white-space: pre;background: #fff0;line-height: 1.1;font-family: &quot;Courier New&quot;,Courier,monospace\">        ┌───┐     ┌───────┐               ░ ┌─┐         \n   q_0: ┤ H ├──■──┤ Rz(x) ├───────────■───░─┤M├─────────\n        ├───┤  │  └───────┘┌───────┐┌─┴─┐ ░ └╥┘┌─┐      \n   q_1: ┤ H ├──┼──────■────┤ Rz(x) ├┤ X ├─░──╫─┤M├──────\n        └───┘┌─┴─┐    │    ├───────┤└───┘ ░  ║ └╥┘┌─┐   \n   q_2: ─────┤ X ├────┼────┤ Rz(x) ├──■───░──╫──╫─┤M├───\n             └───┘  ┌─┴─┐  ├───────┤┌─┴─┐ ░  ║  ║ └╥┘┌─┐\n   q_3: ────────────┤ X ├──┤ Rz(x) ├┤ X ├─░──╫──╫──╫─┤M├\n                    └───┘  └───────┘└───┘ ░  ║  ║  ║ └╥┘\nmeas: 4/═════════════════════════════════════╩══╩══╩══╩═\n                                             0  1  2  3 </pre>"
     },
     "execution_count": 27,
     "metadata": {},
     "output_type": "execute_result"
    }
   ],
   "source": [
    "basis_gates_ibm = ['rz', 'x', 'sx', 'cx', 'id']\n",
    "qc = QuantumCircuit(4)\n",
    "qc.h([0,1])\n",
    "qc.cx(0,2)\n",
    "qc.cx(1,3)\n",
    "qc.rz(Parameter(\"x\"), [0,1,2,3])\n",
    "qc.cx(0,1)\n",
    "qc.cx(2,3)\n",
    "qc.measure_all()\n",
    "qc.draw(fold=-1)\n"
   ],
   "metadata": {
    "collapsed": false,
    "ExecuteTime": {
     "end_time": "2024-02-29T14:39:56.432573Z",
     "start_time": "2024-02-29T14:39:56.425330Z"
    }
   },
   "id": "630b7c649a1f4a6f"
  },
  {
   "cell_type": "code",
   "execution_count": 28,
   "outputs": [
    {
     "name": "stderr",
     "output_type": "stream",
     "text": [
      "/Users/nils/Documents/repos/MQTPredictor/venv/lib/python3.11/site-packages/numpy/linalg/linalg.py:2180: RuntimeWarning: divide by zero encountered in det\n",
      "  r = _umath_linalg.det(a, signature=signature)\n",
      "/Users/nils/Documents/repos/MQTPredictor/venv/lib/python3.11/site-packages/numpy/linalg/linalg.py:2180: RuntimeWarning: invalid value encountered in det\n",
      "  r = _umath_linalg.det(a, signature=signature)\n"
     ]
    },
    {
     "data": {
      "text/plain": "global phase: π/2\n        ┌─────────┐┌────┐┌─────────┐     ┌───────┐               ░ ┌─┐         \n   q_0: ┤ Rz(π/2) ├┤ √X ├┤ Rz(π/2) ├──■──┤ Rz(x) ├───────────■───░─┤M├─────────\n        ├─────────┤├────┤├─────────┤  │  └───────┘┌───────┐┌─┴─┐ ░ └╥┘┌─┐      \n   q_1: ┤ Rz(π/2) ├┤ √X ├┤ Rz(π/2) ├──┼──────■────┤ Rz(x) ├┤ X ├─░──╫─┤M├──────\n        └─────────┘└────┘└─────────┘┌─┴─┐    │    ├───────┤└───┘ ░  ║ └╥┘┌─┐   \n   q_2: ────────────────────────────┤ X ├────┼────┤ Rz(x) ├──■───░──╫──╫─┤M├───\n                                    └───┘  ┌─┴─┐  ├───────┤┌─┴─┐ ░  ║  ║ └╥┘┌─┐\n   q_3: ───────────────────────────────────┤ X ├──┤ Rz(x) ├┤ X ├─░──╫──╫──╫─┤M├\n                                           └───┘  └───────┘└───┘ ░  ║  ║  ║ └╥┘\nmeas: 4/════════════════════════════════════════════════════════════╩══╩══╩══╩═\n                                                                    0  1  2  3 ",
      "text/html": "<pre style=\"word-wrap: normal;white-space: pre;background: #fff0;line-height: 1.1;font-family: &quot;Courier New&quot;,Courier,monospace\">global phase: π/2\n        ┌─────────┐┌────┐┌─────────┐     ┌───────┐               ░ ┌─┐         \n   q_0: ┤ Rz(π/2) ├┤ √X ├┤ Rz(π/2) ├──■──┤ Rz(x) ├───────────■───░─┤M├─────────\n        ├─────────┤├────┤├─────────┤  │  └───────┘┌───────┐┌─┴─┐ ░ └╥┘┌─┐      \n   q_1: ┤ Rz(π/2) ├┤ √X ├┤ Rz(π/2) ├──┼──────■────┤ Rz(x) ├┤ X ├─░──╫─┤M├──────\n        └─────────┘└────┘└─────────┘┌─┴─┐    │    ├───────┤└───┘ ░  ║ └╥┘┌─┐   \n   q_2: ────────────────────────────┤ X ├────┼────┤ Rz(x) ├──■───░──╫──╫─┤M├───\n                                    └───┘  ┌─┴─┐  ├───────┤┌─┴─┐ ░  ║  ║ └╥┘┌─┐\n   q_3: ───────────────────────────────────┤ X ├──┤ Rz(x) ├┤ X ├─░──╫──╫──╫─┤M├\n                                           └───┘  └───────┘└───┘ ░  ║  ║  ║ └╥┘\nmeas: 4/════════════════════════════════════════════════════════════╩══╩══╩══╩═\n                                                                    0  1  2  3 </pre>"
     },
     "execution_count": 28,
     "metadata": {},
     "output_type": "execute_result"
    }
   ],
   "source": [
    "synthesized_qc = transpile(qc, basis_gates=basis_gates_ibm, optimization_level=3)\n",
    "synthesized_qc.draw(fold=-1)"
   ],
   "metadata": {
    "collapsed": false,
    "ExecuteTime": {
     "end_time": "2024-02-29T14:39:56.450292Z",
     "start_time": "2024-02-29T14:39:56.429600Z"
    }
   },
   "id": "66aa12ba08143e1d"
  },
  {
   "cell_type": "code",
   "execution_count": 29,
   "outputs": [
    {
     "data": {
      "text/plain": "global phase: π/2\n                                                                                            \nancilla_0 -> 0 ─────────────────────────────────────────────────────────────────────────────\n                                           ┌───┐┌───────┐     ┌───┐           ░ ┌─┐         \n      q_3 -> 1 ────────────────────────────┤ X ├┤ Rz(x) ├──■──┤ X ├──■────■───░─┤M├─────────\n               ┌─────────┐┌────┐┌─────────┐└─┬─┘├───────┤  │  └─┬─┘  │  ┌─┴─┐ ░ └╥┘┌─┐      \n      q_1 -> 2 ┤ Rz(π/2) ├┤ √X ├┤ Rz(π/2) ├──■──┤ Rz(x) ├──┼────┼────┼──┤ X ├─░──╫─┤M├──────\n               ├─────────┤├────┤├─────────┤     ├───────┤┌─┴─┐  │  ┌─┴─┐├───┤ ░  ║ └╥┘   ┌─┐\n      q_0 -> 3 ┤ Rz(π/2) ├┤ √X ├┤ Rz(π/2) ├──■──┤ Rz(x) ├┤ X ├──■──┤ X ├┤ X ├─░──╫──╫────┤M├\n               └─────────┘└────┘└─────────┘┌─┴─┐├───────┤└───┘     └───┘└─┬─┘ ░  ║  ║ ┌─┐└╥┘\n      q_2 -> 4 ────────────────────────────┤ X ├┤ Rz(x) ├─────────────────■───░──╫──╫─┤M├─╫─\n                                           └───┘└───────┘                     ░  ║  ║ └╥┘ ║ \n       meas: 4/══════════════════════════════════════════════════════════════════╩══╩══╩══╩═\n                                                                                 0  1  2  3 ",
      "text/html": "<pre style=\"word-wrap: normal;white-space: pre;background: #fff0;line-height: 1.1;font-family: &quot;Courier New&quot;,Courier,monospace\">global phase: π/2\n                                                                                            \nancilla_0 -> 0 ─────────────────────────────────────────────────────────────────────────────\n                                           ┌───┐┌───────┐     ┌───┐           ░ ┌─┐         \n      q_3 -> 1 ────────────────────────────┤ X ├┤ Rz(x) ├──■──┤ X ├──■────■───░─┤M├─────────\n               ┌─────────┐┌────┐┌─────────┐└─┬─┘├───────┤  │  └─┬─┘  │  ┌─┴─┐ ░ └╥┘┌─┐      \n      q_1 -> 2 ┤ Rz(π/2) ├┤ √X ├┤ Rz(π/2) ├──■──┤ Rz(x) ├──┼────┼────┼──┤ X ├─░──╫─┤M├──────\n               ├─────────┤├────┤├─────────┤     ├───────┤┌─┴─┐  │  ┌─┴─┐├───┤ ░  ║ └╥┘   ┌─┐\n      q_0 -> 3 ┤ Rz(π/2) ├┤ √X ├┤ Rz(π/2) ├──■──┤ Rz(x) ├┤ X ├──■──┤ X ├┤ X ├─░──╫──╫────┤M├\n               └─────────┘└────┘└─────────┘┌─┴─┐├───────┤└───┘     └───┘└─┬─┘ ░  ║  ║ ┌─┐└╥┘\n      q_2 -> 4 ────────────────────────────┤ X ├┤ Rz(x) ├─────────────────■───░──╫──╫─┤M├─╫─\n                                           └───┘└───────┘                     ░  ║  ║ └╥┘ ║ \n       meas: 4/══════════════════════════════════════════════════════════════════╩══╩══╩══╩═\n                                                                                 0  1  2  3 </pre>"
     },
     "execution_count": 29,
     "metadata": {},
     "output_type": "execute_result"
    }
   ],
   "source": [
    "backend = FakeQuito()\n",
    "mapped_qc = transpile(synthesized_qc, basis_gates=basis_gates_ibm, optimization_level=3, coupling_map=backend.configuration().coupling_map, seed_transpiler=9)\n",
    "mapped_qc.draw(fold=-1)"
   ],
   "metadata": {
    "collapsed": false,
    "ExecuteTime": {
     "end_time": "2024-02-29T14:39:56.457715Z",
     "start_time": "2024-02-29T14:39:56.441846Z"
    }
   },
   "id": "8f05fd4ee5c2b028"
  },
  {
   "cell_type": "code",
   "execution_count": 30,
   "outputs": [
    {
     "data": {
      "text/plain": "0.5814435112777496"
     },
     "execution_count": 30,
     "metadata": {},
     "output_type": "execute_result"
    }
   ],
   "source": [
    "calc_expected_fidelity_ibm(mapped_qc, backend.properties())"
   ],
   "metadata": {
    "collapsed": false,
    "ExecuteTime": {
     "end_time": "2024-02-29T14:39:56.464614Z",
     "start_time": "2024-02-29T14:39:56.455708Z"
    }
   },
   "id": "8a4ad6b1f6ebe677"
  },
  {
   "cell_type": "code",
   "execution_count": 31,
   "outputs": [],
   "source": [
    "mapped_qc = mapped_qc.assign_parameters({mapped_qc.parameters[0]: np.pi})"
   ],
   "metadata": {
    "collapsed": false,
    "ExecuteTime": {
     "end_time": "2024-02-29T14:39:56.464772Z",
     "start_time": "2024-02-29T14:39:56.460857Z"
    }
   },
   "id": "1f226885bb1c59b8"
  },
  {
   "cell_type": "code",
   "execution_count": 32,
   "outputs": [
    {
     "data": {
      "text/plain": "global phase: π/2\n                                                                                            \nancilla_0 -> 0 ─────────────────────────────────────────────────────────────────────────────\n                                           ┌───┐┌───────┐     ┌───┐           ░ ┌─┐         \n      q_3 -> 1 ────────────────────────────┤ X ├┤ Rz(π) ├──■──┤ X ├──■────■───░─┤M├─────────\n               ┌─────────┐┌────┐┌─────────┐└─┬─┘├───────┤  │  └─┬─┘  │  ┌─┴─┐ ░ └╥┘┌─┐      \n      q_1 -> 2 ┤ Rz(π/2) ├┤ √X ├┤ Rz(π/2) ├──■──┤ Rz(π) ├──┼────┼────┼──┤ X ├─░──╫─┤M├──────\n               ├─────────┤├────┤├─────────┤     ├───────┤┌─┴─┐  │  ┌─┴─┐├───┤ ░  ║ └╥┘   ┌─┐\n      q_0 -> 3 ┤ Rz(π/2) ├┤ √X ├┤ Rz(π/2) ├──■──┤ Rz(π) ├┤ X ├──■──┤ X ├┤ X ├─░──╫──╫────┤M├\n               └─────────┘└────┘└─────────┘┌─┴─┐├───────┤└───┘     └───┘└─┬─┘ ░  ║  ║ ┌─┐└╥┘\n      q_2 -> 4 ────────────────────────────┤ X ├┤ Rz(π) ├─────────────────■───░──╫──╫─┤M├─╫─\n                                           └───┘└───────┘                     ░  ║  ║ └╥┘ ║ \n       meas: 4/══════════════════════════════════════════════════════════════════╩══╩══╩══╩═\n                                                                                 0  1  2  3 ",
      "text/html": "<pre style=\"word-wrap: normal;white-space: pre;background: #fff0;line-height: 1.1;font-family: &quot;Courier New&quot;,Courier,monospace\">global phase: π/2\n                                                                                            \nancilla_0 -> 0 ─────────────────────────────────────────────────────────────────────────────\n                                           ┌───┐┌───────┐     ┌───┐           ░ ┌─┐         \n      q_3 -> 1 ────────────────────────────┤ X ├┤ Rz(π) ├──■──┤ X ├──■────■───░─┤M├─────────\n               ┌─────────┐┌────┐┌─────────┐└─┬─┘├───────┤  │  └─┬─┘  │  ┌─┴─┐ ░ └╥┘┌─┐      \n      q_1 -> 2 ┤ Rz(π/2) ├┤ √X ├┤ Rz(π/2) ├──■──┤ Rz(π) ├──┼────┼────┼──┤ X ├─░──╫─┤M├──────\n               ├─────────┤├────┤├─────────┤     ├───────┤┌─┴─┐  │  ┌─┴─┐├───┤ ░  ║ └╥┘   ┌─┐\n      q_0 -> 3 ┤ Rz(π/2) ├┤ √X ├┤ Rz(π/2) ├──■──┤ Rz(π) ├┤ X ├──■──┤ X ├┤ X ├─░──╫──╫────┤M├\n               └─────────┘└────┘└─────────┘┌─┴─┐├───────┤└───┘     └───┘└─┬─┘ ░  ║  ║ ┌─┐└╥┘\n      q_2 -> 4 ────────────────────────────┤ X ├┤ Rz(π) ├─────────────────■───░──╫──╫─┤M├─╫─\n                                           └───┘└───────┘                     ░  ║  ║ └╥┘ ║ \n       meas: 4/══════════════════════════════════════════════════════════════════╩══╩══╩══╩═\n                                                                                 0  1  2  3 </pre>"
     },
     "execution_count": 32,
     "metadata": {},
     "output_type": "execute_result"
    }
   ],
   "source": [
    "mapped_qc.draw(fold=-1)"
   ],
   "metadata": {
    "collapsed": false,
    "ExecuteTime": {
     "end_time": "2024-02-29T14:39:56.469145Z",
     "start_time": "2024-02-29T14:39:56.463094Z"
    }
   },
   "id": "52694116c9ccee68"
  },
  {
   "cell_type": "code",
   "execution_count": 33,
   "outputs": [
    {
     "data": {
      "text/plain": "{'1001': 172,\n '0110': 150,\n '1110': 183,\n '1011': 188,\n '0100': 269,\n '1100': 239,\n '1000': 621,\n '0101': 1759,\n '0000': 2013,\n '0010': 352,\n '0111': 302,\n '1101': 513,\n '1111': 1332,\n '0001': 267,\n '0011': 138,\n '1010': 1502}"
     },
     "execution_count": 33,
     "metadata": {},
     "output_type": "execute_result"
    }
   ],
   "source": [
    "mapped_qc.draw(fold=-1)\n",
    "backend = FakeQuito()\n",
    "res_fake = backend.run(mapped_qc, shots=10000).result()\n",
    "counts_fake = res_fake.get_counts(mapped_qc)\n",
    "counts_fake"
   ],
   "metadata": {
    "collapsed": false,
    "ExecuteTime": {
     "end_time": "2024-02-29T14:39:56.566792Z",
     "start_time": "2024-02-29T14:39:56.468703Z"
    }
   },
   "id": "dc2ea498d9411c30"
  },
  {
   "cell_type": "code",
   "execution_count": 34,
   "outputs": [],
   "source": [
    "simulator = Aer.get_backend('aer_simulator')\n",
    "result = simulator.run(mapped_qc, shots=10000).result()\n",
    "counts = result.get_counts(mapped_qc)\n"
   ],
   "metadata": {
    "collapsed": false,
    "ExecuteTime": {
     "end_time": "2024-02-29T14:39:56.577794Z",
     "start_time": "2024-02-29T14:39:56.566147Z"
    }
   },
   "id": "7cb72221649ce083"
  },
  {
   "cell_type": "code",
   "execution_count": 35,
   "outputs": [],
   "source": [
    "def hist_intersection(original_counts: dict[str, int], current_counts: dict[str, int], ) -> float:\n",
    "    all_keys = set(original_counts.keys()) | set(current_counts.keys())\n",
    "\n",
    "    ideal_counts_filled = {key: original_counts.get(key, 0) for key in all_keys}\n",
    "    counts_noisy_filled = {key: current_counts.get(key, 0) for key in all_keys}\n",
    "\n",
    "    assert len(ideal_counts_filled.values()) == len(counts_noisy_filled.values())\n",
    "\n",
    "    tmp_sum = 0\n",
    "    for i in range(len(ideal_counts_filled.values())):\n",
    "        tmp_sum += min(list(ideal_counts_filled.values())[i], list(counts_noisy_filled.values())[i])\n",
    "\n",
    "    res = tmp_sum / sum(original_counts.values())\n",
    "    print(res)\n",
    "    return res"
   ],
   "metadata": {
    "collapsed": false,
    "ExecuteTime": {
     "end_time": "2024-02-29T14:39:56.581482Z",
     "start_time": "2024-02-29T14:39:56.579315Z"
    }
   },
   "id": "5f824d74af87b4e4"
  },
  {
   "cell_type": "code",
   "execution_count": 36,
   "outputs": [
    {
     "name": "stdout",
     "output_type": "stream",
     "text": [
      "0.6606\n"
     ]
    },
    {
     "data": {
      "text/plain": "0.6606"
     },
     "execution_count": 36,
     "metadata": {},
     "output_type": "execute_result"
    }
   ],
   "source": [
    "hist_intersection(counts, counts_fake)"
   ],
   "metadata": {
    "collapsed": false,
    "ExecuteTime": {
     "end_time": "2024-02-29T14:39:56.600117Z",
     "start_time": "2024-02-29T14:39:56.582049Z"
    }
   },
   "id": "96aa78759d90a0ff"
  },
  {
   "cell_type": "code",
   "execution_count": 36,
   "outputs": [],
   "source": [],
   "metadata": {
    "collapsed": false,
    "ExecuteTime": {
     "end_time": "2024-02-29T14:39:56.600316Z",
     "start_time": "2024-02-29T14:39:56.584965Z"
    }
   },
   "id": "c762621ae095f02"
  }
 ],
 "metadata": {
  "kernelspec": {
   "display_name": "Python 3",
   "language": "python",
   "name": "python3"
  },
  "language_info": {
   "codemirror_mode": {
    "name": "ipython",
    "version": 2
   },
   "file_extension": ".py",
   "mimetype": "text/x-python",
   "name": "python",
   "nbconvert_exporter": "python",
   "pygments_lexer": "ipython2",
   "version": "2.7.6"
  }
 },
 "nbformat": 4,
 "nbformat_minor": 5
}
