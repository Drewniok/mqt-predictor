{
 "cells": [
  {
   "cell_type": "code",
   "execution_count": null,
   "id": "9e49c84c87253241",
   "metadata": {},
   "outputs": [],
   "source": [
    "import numpy as np\n",
    "from qiskit import Aer, QuantumCircuit, QuantumRegister, transpile\n",
    "from qiskit.circuit import Parameter, Qubit\n",
    "from qiskit.providers.fake_provider import FakeQuito"
   ]
  },
  {
   "cell_type": "code",
   "execution_count": null,
   "id": "initial_id",
   "metadata": {},
   "outputs": [],
   "source": [
    "def calc_expected_fidelity_ibm(qc: QuantumCircuit, calibration) -> float:\n",
    "    res = 1.0\n",
    "    for instruction, qargs, _cargs in qc.data:\n",
    "        gate_type = instruction.name\n",
    "\n",
    "        assert gate_type in [\"rz\", \"sx\", \"x\", \"cx\", \"measure\", \"barrier\"]\n",
    "\n",
    "        if gate_type != \"barrier\":\n",
    "            assert len(qargs) in [1, 2]\n",
    "            first_qubit = calc_qubit_index(qargs, qc.qregs, 0)\n",
    "            if len(qargs) == 1:\n",
    "                if gate_type == \"measure\":\n",
    "                    specific_error: float = calibration.readout_error(first_qubit)\n",
    "                else:\n",
    "                    specific_error = calibration.gate_error(gate_type, [first_qubit])\n",
    "\n",
    "            else:\n",
    "                second_qubit = calc_qubit_index(qargs, qc.qregs, 1)\n",
    "\n",
    "                specific_error = calibration.gate_error(gate_type, [first_qubit, second_qubit])\n",
    "\n",
    "            res *= 1 - specific_error\n",
    "    return res\n",
    "\n",
    "\n",
    "def calc_qubit_index(qargs: list[Qubit], qregs: list[QuantumRegister], index: int) -> int:\n",
    "    offset = 0\n",
    "    for reg in qregs:\n",
    "        if qargs[index] not in reg:\n",
    "            offset += reg.size\n",
    "        else:\n",
    "            qubit_index: int = offset + reg.index(qargs[index])\n",
    "            return qubit_index\n",
    "    error_msg = f\"Global qubit index for local qubit {index} index not found.\"\n",
    "    raise ValueError(error_msg)"
   ]
  },
  {
   "cell_type": "code",
   "execution_count": null,
   "id": "630b7c649a1f4a6f",
   "metadata": {},
   "outputs": [],
   "source": [
    "basis_gates_ibm = [\"rz\", \"x\", \"sx\", \"cx\", \"id\"]\n",
    "qc = QuantumCircuit(4)\n",
    "\n",
    "qc.rz(np.pi, 0)\n",
    "qc.h([0, 1])\n",
    "qc.cx(0, 2)\n",
    "qc.cx(1, 3)\n",
    "qc.rz(Parameter(\"x\"), [0, 1, 2, 3])\n",
    "qc.cx(0, 1)\n",
    "qc.cx(2, 3)\n",
    "qc.measure_all()\n",
    "qc.draw(fold=-1)"
   ]
  },
  {
   "cell_type": "code",
   "execution_count": null,
   "id": "66aa12ba08143e1d",
   "metadata": {},
   "outputs": [],
   "source": [
    "synthesized_qc = transpile(qc, basis_gates=basis_gates_ibm, optimization_level=3)\n",
    "synthesized_qc.draw(fold=-1)"
   ]
  },
  {
   "cell_type": "code",
   "execution_count": null,
   "id": "8f05fd4ee5c2b028",
   "metadata": {},
   "outputs": [],
   "source": [
    "backend = FakeQuito()\n",
    "mapped_qc = transpile(\n",
    "    synthesized_qc,\n",
    "    basis_gates=basis_gates_ibm,\n",
    "    optimization_level=3,\n",
    "    coupling_map=backend.configuration().coupling_map,\n",
    "    seed_transpiler=9,\n",
    ")\n",
    "mapped_qc.draw(fold=-1)"
   ]
  },
  {
   "cell_type": "code",
   "execution_count": null,
   "id": "8a4ad6b1f6ebe677",
   "metadata": {},
   "outputs": [],
   "source": [
    "calc_expected_fidelity_ibm(mapped_qc, backend.properties())"
   ]
  },
  {
   "cell_type": "code",
   "execution_count": null,
   "id": "1f226885bb1c59b8",
   "metadata": {},
   "outputs": [],
   "source": [
    "mapped_qc = mapped_qc.assign_parameters({mapped_qc.parameters[0]: np.pi})"
   ]
  },
  {
   "cell_type": "code",
   "execution_count": null,
   "id": "52694116c9ccee68",
   "metadata": {},
   "outputs": [],
   "source": [
    "mapped_qc.draw(fold=-1)"
   ]
  },
  {
   "cell_type": "code",
   "execution_count": null,
   "id": "dc2ea498d9411c30",
   "metadata": {},
   "outputs": [],
   "source": [
    "mapped_qc.draw(fold=-1)\n",
    "backend = FakeQuito()\n",
    "num_shots = 10000\n",
    "res_fake = backend.run(mapped_qc, shots=num_shots).result()\n",
    "counts_fake = res_fake.get_counts(mapped_qc)\n",
    "counts_fake"
   ]
  },
  {
   "cell_type": "code",
   "execution_count": null,
   "id": "7cb72221649ce083",
   "metadata": {},
   "outputs": [],
   "source": [
    "simulator = Aer.get_backend(\"aer_simulator_statevector\")\n",
    "result = simulator.run(mapped_qc).result()\n",
    "counts = result.get_counts(mapped_qc)\n",
    "print(counts)\n",
    "optimal_counts = {\"1010\": num_shots / 4, \"1111\": num_shots / 4, \"0000\": num_shots / 4, \"0101\": num_shots / 4}"
   ]
  },
  {
   "cell_type": "code",
   "execution_count": null,
   "id": "5f824d74af87b4e4",
   "metadata": {},
   "outputs": [],
   "source": [
    "def hist_intersection(\n",
    "    original_counts: dict[str, int],\n",
    "    current_counts: dict[str, int],\n",
    ") -> float:\n",
    "    all_keys = set(original_counts.keys()) | set(current_counts.keys())\n",
    "\n",
    "    ideal_counts_filled = {key: original_counts.get(key, 0) for key in all_keys}\n",
    "    counts_noisy_filled = {key: current_counts.get(key, 0) for key in all_keys}\n",
    "\n",
    "    assert len(ideal_counts_filled.values()) == len(counts_noisy_filled.values())\n",
    "\n",
    "    tmp_sum = 0\n",
    "    for i in range(len(ideal_counts_filled.values())):\n",
    "        tmp_sum += min(list(ideal_counts_filled.values())[i], list(counts_noisy_filled.values())[i])\n",
    "\n",
    "    return tmp_sum / sum(original_counts.values())"
   ]
  },
  {
   "cell_type": "code",
   "execution_count": null,
   "id": "96aa78759d90a0ff",
   "metadata": {},
   "outputs": [],
   "source": [
    "hist_intersection(optimal_counts, counts_fake)"
   ]
  },
  {
   "cell_type": "code",
   "execution_count": null,
   "id": "c762621ae095f02",
   "metadata": {},
   "outputs": [],
   "source": []
  }
 ],
 "metadata": {
  "kernelspec": {
   "display_name": "Python 3",
   "language": "python",
   "name": "python3"
  },
  "language_info": {
   "codemirror_mode": {
    "name": "ipython",
    "version": 2
   },
   "file_extension": ".py",
   "mimetype": "text/x-python",
   "name": "python",
   "nbconvert_exporter": "python",
   "pygments_lexer": "ipython2"
  }
 },
 "nbformat": 4,
 "nbformat_minor": 5
}
